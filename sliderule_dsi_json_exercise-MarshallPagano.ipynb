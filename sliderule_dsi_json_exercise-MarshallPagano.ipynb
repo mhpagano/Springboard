{
 "cells": [
  {
   "cell_type": "markdown",
   "metadata": {},
   "source": [
    "# JSON examples and exercise\n",
    "****\n",
    "+ get familiar with packages for dealing with JSON\n",
    "+ study examples with JSON strings and files \n",
    "+ work on exercise to be completed and submitted \n",
    "****\n",
    "+ reference: http://pandas.pydata.org/pandas-docs/stable/io.html#io-json-reader\n",
    "+ data source: http://jsonstudio.com/resources/\n",
    "****"
   ]
  },
  {
   "cell_type": "code",
   "execution_count": 4,
   "metadata": {
    "collapsed": true
   },
   "outputs": [],
   "source": [
    "import pandas as pd"
   ]
  },
  {
   "cell_type": "markdown",
   "metadata": {},
   "source": [
    "## imports for Python, Pandas"
   ]
  },
  {
   "cell_type": "code",
   "execution_count": 5,
   "metadata": {
    "collapsed": true
   },
   "outputs": [],
   "source": [
    "import json\n",
    "from pandas.io.json import json_normalize"
   ]
  },
  {
   "cell_type": "markdown",
   "metadata": {},
   "source": [
    "## JSON example, with string\n",
    "\n",
    "+ demonstrates creation of normalized dataframes (tables) from nested json string\n",
    "+ source: http://pandas.pydata.org/pandas-docs/stable/io.html#normalization"
   ]
  },
  {
   "cell_type": "code",
   "execution_count": 6,
   "metadata": {
    "collapsed": true
   },
   "outputs": [],
   "source": [
    "# define json string\n",
    "data = [{'state': 'Florida', \n",
    "         'shortname': 'FL',\n",
    "         'info': {'governor': 'Rick Scott'},\n",
    "         'counties': [{'name': 'Dade', 'population': 12345},\n",
    "                      {'name': 'Broward', 'population': 40000},\n",
    "                      {'name': 'Palm Beach', 'population': 60000}]},\n",
    "        {'state': 'Ohio',\n",
    "         'shortname': 'OH',\n",
    "         'info': {'governor': 'John Kasich'},\n",
    "         'counties': [{'name': 'Summit', 'population': 1234},\n",
    "                      {'name': 'Cuyahoga', 'population': 1337}]}]"
   ]
  },
  {
   "cell_type": "code",
   "execution_count": 7,
   "metadata": {
    "collapsed": false
   },
   "outputs": [
    {
     "data": {
      "text/html": [
       "<div>\n",
       "<table border=\"1\" class=\"dataframe\">\n",
       "  <thead>\n",
       "    <tr style=\"text-align: right;\">\n",
       "      <th></th>\n",
       "      <th>name</th>\n",
       "      <th>population</th>\n",
       "    </tr>\n",
       "  </thead>\n",
       "  <tbody>\n",
       "    <tr>\n",
       "      <th>0</th>\n",
       "      <td>Dade</td>\n",
       "      <td>12345</td>\n",
       "    </tr>\n",
       "    <tr>\n",
       "      <th>1</th>\n",
       "      <td>Broward</td>\n",
       "      <td>40000</td>\n",
       "    </tr>\n",
       "    <tr>\n",
       "      <th>2</th>\n",
       "      <td>Palm Beach</td>\n",
       "      <td>60000</td>\n",
       "    </tr>\n",
       "    <tr>\n",
       "      <th>3</th>\n",
       "      <td>Summit</td>\n",
       "      <td>1234</td>\n",
       "    </tr>\n",
       "    <tr>\n",
       "      <th>4</th>\n",
       "      <td>Cuyahoga</td>\n",
       "      <td>1337</td>\n",
       "    </tr>\n",
       "  </tbody>\n",
       "</table>\n",
       "</div>"
      ],
      "text/plain": [
       "         name  population\n",
       "0        Dade       12345\n",
       "1     Broward       40000\n",
       "2  Palm Beach       60000\n",
       "3      Summit        1234\n",
       "4    Cuyahoga        1337"
      ]
     },
     "execution_count": 7,
     "metadata": {},
     "output_type": "execute_result"
    }
   ],
   "source": [
    "# use normalization to create tables from nested element\n",
    "json_normalize(data, 'counties')"
   ]
  },
  {
   "cell_type": "code",
   "execution_count": 8,
   "metadata": {
    "collapsed": false
   },
   "outputs": [
    {
     "data": {
      "text/html": [
       "<div>\n",
       "<table border=\"1\" class=\"dataframe\">\n",
       "  <thead>\n",
       "    <tr style=\"text-align: right;\">\n",
       "      <th></th>\n",
       "      <th>name</th>\n",
       "      <th>population</th>\n",
       "      <th>state</th>\n",
       "      <th>shortname</th>\n",
       "      <th>info.governor</th>\n",
       "    </tr>\n",
       "  </thead>\n",
       "  <tbody>\n",
       "    <tr>\n",
       "      <th>0</th>\n",
       "      <td>Dade</td>\n",
       "      <td>12345</td>\n",
       "      <td>Florida</td>\n",
       "      <td>FL</td>\n",
       "      <td>Rick Scott</td>\n",
       "    </tr>\n",
       "    <tr>\n",
       "      <th>1</th>\n",
       "      <td>Broward</td>\n",
       "      <td>40000</td>\n",
       "      <td>Florida</td>\n",
       "      <td>FL</td>\n",
       "      <td>Rick Scott</td>\n",
       "    </tr>\n",
       "    <tr>\n",
       "      <th>2</th>\n",
       "      <td>Palm Beach</td>\n",
       "      <td>60000</td>\n",
       "      <td>Florida</td>\n",
       "      <td>FL</td>\n",
       "      <td>Rick Scott</td>\n",
       "    </tr>\n",
       "    <tr>\n",
       "      <th>3</th>\n",
       "      <td>Summit</td>\n",
       "      <td>1234</td>\n",
       "      <td>Ohio</td>\n",
       "      <td>OH</td>\n",
       "      <td>John Kasich</td>\n",
       "    </tr>\n",
       "    <tr>\n",
       "      <th>4</th>\n",
       "      <td>Cuyahoga</td>\n",
       "      <td>1337</td>\n",
       "      <td>Ohio</td>\n",
       "      <td>OH</td>\n",
       "      <td>John Kasich</td>\n",
       "    </tr>\n",
       "  </tbody>\n",
       "</table>\n",
       "</div>"
      ],
      "text/plain": [
       "         name  population    state shortname info.governor\n",
       "0        Dade       12345  Florida        FL    Rick Scott\n",
       "1     Broward       40000  Florida        FL    Rick Scott\n",
       "2  Palm Beach       60000  Florida        FL    Rick Scott\n",
       "3      Summit        1234     Ohio        OH   John Kasich\n",
       "4    Cuyahoga        1337     Ohio        OH   John Kasich"
      ]
     },
     "execution_count": 8,
     "metadata": {},
     "output_type": "execute_result"
    }
   ],
   "source": [
    "# further populate tables created from nested element\n",
    "json_normalize(data, 'counties', ['state', 'shortname', ['info', 'governor']])"
   ]
  },
  {
   "cell_type": "markdown",
   "metadata": {},
   "source": [
    "****\n",
    "## JSON example, with file\n",
    "\n",
    "+ demonstrates reading in a json file as a string and as a table\n",
    "+ uses small sample file containing data about projects funded by the World Bank \n",
    "+ data source: http://jsonstudio.com/resources/"
   ]
  },
  {
   "cell_type": "code",
   "execution_count": 9,
   "metadata": {
    "collapsed": false
   },
   "outputs": [
    {
     "data": {
      "text/plain": [
       "[{'_id': {'$oid': '52b213b38594d8a2be17c780'},\n",
       "  'approvalfy': 1999,\n",
       "  'board_approval_month': 'November',\n",
       "  'boardapprovaldate': '2013-11-12T00:00:00Z',\n",
       "  'borrower': 'FEDERAL DEMOCRATIC REPUBLIC OF ETHIOPIA',\n",
       "  'closingdate': '2018-07-07T00:00:00Z',\n",
       "  'country_namecode': 'Federal Democratic Republic of Ethiopia!$!ET',\n",
       "  'countrycode': 'ET',\n",
       "  'countryname': 'Federal Democratic Republic of Ethiopia',\n",
       "  'countryshortname': 'Ethiopia',\n",
       "  'docty': 'Project Information Document,Indigenous Peoples Plan,Project Information Document',\n",
       "  'envassesmentcategorycode': 'C',\n",
       "  'grantamt': 0,\n",
       "  'ibrdcommamt': 0,\n",
       "  'id': 'P129828',\n",
       "  'idacommamt': 130000000,\n",
       "  'impagency': 'MINISTRY OF EDUCATION',\n",
       "  'lendinginstr': 'Investment Project Financing',\n",
       "  'lendinginstrtype': 'IN',\n",
       "  'lendprojectcost': 550000000,\n",
       "  'majorsector_percent': [{'Name': 'Education', 'Percent': 46},\n",
       "   {'Name': 'Education', 'Percent': 26},\n",
       "   {'Name': 'Public Administration, Law, and Justice', 'Percent': 16},\n",
       "   {'Name': 'Education', 'Percent': 12}],\n",
       "  'mjsector_namecode': [{'code': 'EX', 'name': 'Education'},\n",
       "   {'code': 'EX', 'name': 'Education'},\n",
       "   {'code': 'BX', 'name': 'Public Administration, Law, and Justice'},\n",
       "   {'code': 'EX', 'name': 'Education'}],\n",
       "  'mjtheme': ['Human development'],\n",
       "  'mjtheme_namecode': [{'code': '8', 'name': 'Human development'},\n",
       "   {'code': '11', 'name': ''}],\n",
       "  'mjthemecode': '8,11',\n",
       "  'prodline': 'PE',\n",
       "  'prodlinetext': 'IBRD/IDA',\n",
       "  'productlinetype': 'L',\n",
       "  'project_abstract': {'cdata': 'The development objective of the Second Phase of General Education Quality Improvement Project for Ethiopia is to improve learning conditions in primary and secondary schools and strengthen institutions at different levels of educational administration. The project has six components. The first component is curriculum, textbooks, assessment, examinations, and inspection. This component will support improvement of learning conditions in grades KG-12 by providing increased access to teaching and learning materials and through improvements to the curriculum by assessing the strengths and weaknesses of the current curriculum. This component has following four sub-components: (i) curriculum reform and implementation; (ii) teaching and learning materials; (iii) assessment and examinations; and (iv) inspection. The second component is teacher development program (TDP). This component will support improvements in learning conditions in both primary and secondary schools by advancing the quality of teaching in general education through: (a) enhancing the training of pre-service teachers in teacher education institutions; and (b) improving the quality of in-service teacher training. This component has following three sub-components: (i) pre-service teacher training; (ii) in-service teacher training; and (iii) licensing and relicensing of teachers and school leaders. The third component is school improvement plan. This component will support the strengthening of school planning in order to improve learning outcomes, and to partly fund the school improvement plans through school grants. It has following two sub-components: (i) school improvement plan; and (ii) school grants. The fourth component is management and capacity building, including education management information systems (EMIS). This component will support management and capacity building aspect of the project. This component has following three sub-components: (i) capacity building for education planning and management; (ii) capacity building for school planning and management; and (iii) EMIS. The fifth component is improving the quality of learning and teaching in secondary schools and universities through the use of information and communications technology (ICT). It has following five sub-components: (i) national policy and institution for ICT in general education; (ii) national ICT infrastructure improvement plan for general education; (iii) develop an integrated monitoring, evaluation, and learning system specifically for the ICT component; (iv) teacher professional development in the use of ICT; and (v) provision of limited number of e-Braille display readers with the possibility to scale up to all secondary education schools based on the successful implementation and usage of the readers. The sixth component is program coordination, monitoring and evaluation, and communication. It will support institutional strengthening by developing capacities in all aspects of program coordination, monitoring and evaluation; a new sub-component on communications will support information sharing for better management and accountability. It has following three sub-components: (i) program coordination; (ii) monitoring and evaluation (M and E); and (iii) communication.'},\n",
       "  'project_name': 'Ethiopia General Education Quality Improvement Project II',\n",
       "  'projectdocs': [{'DocDate': '28-AUG-2013',\n",
       "    'DocType': 'PID',\n",
       "    'DocTypeDesc': 'Project Information Document (PID),  Vol.',\n",
       "    'DocURL': 'http://www-wds.worldbank.org/servlet/WDSServlet?pcont=details&eid=090224b081e545fb_1_0',\n",
       "    'EntityID': '090224b081e545fb_1_0'},\n",
       "   {'DocDate': '01-JUL-2013',\n",
       "    'DocType': 'IP',\n",
       "    'DocTypeDesc': 'Indigenous Peoples Plan (IP),  Vol.1 of 1',\n",
       "    'DocURL': 'http://www-wds.worldbank.org/servlet/WDSServlet?pcont=details&eid=000442464_20130920111729',\n",
       "    'EntityID': '000442464_20130920111729'},\n",
       "   {'DocDate': '22-NOV-2012',\n",
       "    'DocType': 'PID',\n",
       "    'DocTypeDesc': 'Project Information Document (PID),  Vol.',\n",
       "    'DocURL': 'http://www-wds.worldbank.org/servlet/WDSServlet?pcont=details&eid=090224b0817b19e2_1_0',\n",
       "    'EntityID': '090224b0817b19e2_1_0'}],\n",
       "  'projectfinancialtype': 'IDA',\n",
       "  'projectstatusdisplay': 'Active',\n",
       "  'regionname': 'Africa',\n",
       "  'sector': [{'Name': 'Primary education'},\n",
       "   {'Name': 'Secondary education'},\n",
       "   {'Name': 'Public administration- Other social services'},\n",
       "   {'Name': 'Tertiary education'}],\n",
       "  'sector1': {'Name': 'Primary education', 'Percent': 46},\n",
       "  'sector2': {'Name': 'Secondary education', 'Percent': 26},\n",
       "  'sector3': {'Name': 'Public administration- Other social services',\n",
       "   'Percent': 16},\n",
       "  'sector4': {'Name': 'Tertiary education', 'Percent': 12},\n",
       "  'sector_namecode': [{'code': 'EP', 'name': 'Primary education'},\n",
       "   {'code': 'ES', 'name': 'Secondary education'},\n",
       "   {'code': 'BS', 'name': 'Public administration- Other social services'},\n",
       "   {'code': 'ET', 'name': 'Tertiary education'}],\n",
       "  'sectorcode': 'ET,BS,ES,EP',\n",
       "  'source': 'IBRD',\n",
       "  'status': 'Active',\n",
       "  'supplementprojectflg': 'N',\n",
       "  'theme1': {'Name': 'Education for all', 'Percent': 100},\n",
       "  'theme_namecode': [{'code': '65', 'name': 'Education for all'}],\n",
       "  'themecode': '65',\n",
       "  'totalamt': 130000000,\n",
       "  'totalcommamt': 130000000,\n",
       "  'url': 'http://www.worldbank.org/projects/P129828/ethiopia-general-education-quality-improvement-project-ii?lang=en'},\n",
       " {'_id': {'$oid': '52b213b38594d8a2be17c781'},\n",
       "  'approvalfy': 2015,\n",
       "  'board_approval_month': 'November',\n",
       "  'boardapprovaldate': '2013-11-04T00:00:00Z',\n",
       "  'borrower': 'GOVERNMENT OF TUNISIA',\n",
       "  'country_namecode': 'Republic of Tunisia!$!TN',\n",
       "  'countrycode': 'TN',\n",
       "  'countryname': 'Republic of Tunisia',\n",
       "  'countryshortname': 'Tunisia',\n",
       "  'docty': 'Project Information Document,Integrated Safeguards Data Sheet,Integrated Safeguards Data Sheet,Project Information Document,Integrated Safeguards Data Sheet,Project Information Document',\n",
       "  'envassesmentcategorycode': 'C',\n",
       "  'grantamt': 4700000,\n",
       "  'ibrdcommamt': 0,\n",
       "  'id': 'P144674',\n",
       "  'idacommamt': 0,\n",
       "  'impagency': 'MINISTRY OF FINANCE',\n",
       "  'lendinginstr': 'Specific Investment Loan',\n",
       "  'lendinginstrtype': 'IN',\n",
       "  'lendprojectcost': 5700000,\n",
       "  'majorsector_percent': [{'Name': 'Public Administration, Law, and Justice',\n",
       "    'Percent': 70},\n",
       "   {'Name': 'Public Administration, Law, and Justice', 'Percent': 30}],\n",
       "  'mjsector_namecode': [{'code': 'BX',\n",
       "    'name': 'Public Administration, Law, and Justice'},\n",
       "   {'code': 'BX', 'name': 'Public Administration, Law, and Justice'}],\n",
       "  'mjtheme': ['Economic management', 'Social protection and risk management'],\n",
       "  'mjtheme_namecode': [{'code': '1', 'name': 'Economic management'},\n",
       "   {'code': '6', 'name': 'Social protection and risk management'}],\n",
       "  'mjthemecode': '1,6',\n",
       "  'prodline': 'RE',\n",
       "  'prodlinetext': 'Recipient Executed Activities',\n",
       "  'productlinetype': 'L',\n",
       "  'project_name': 'TN: DTF Social Protection Reforms Support',\n",
       "  'projectdocs': [{'DocDate': '29-MAR-2013',\n",
       "    'DocType': 'PID',\n",
       "    'DocTypeDesc': 'Project Information Document (PID),  Vol.1 of 1',\n",
       "    'DocURL': 'http://www-wds.worldbank.org/servlet/WDSServlet?pcont=details&eid=000333037_20131024115616',\n",
       "    'EntityID': '000333037_20131024115616'},\n",
       "   {'DocDate': '29-MAR-2013',\n",
       "    'DocType': 'ISDS',\n",
       "    'DocTypeDesc': 'Integrated Safeguards Data Sheet (ISDS),  Vol.1 of 1',\n",
       "    'DocURL': 'http://www-wds.worldbank.org/servlet/WDSServlet?pcont=details&eid=000356161_20131024151611',\n",
       "    'EntityID': '000356161_20131024151611'},\n",
       "   {'DocDate': '29-MAR-2013',\n",
       "    'DocType': 'ISDS',\n",
       "    'DocTypeDesc': 'Integrated Safeguards Data Sheet (ISDS),  Vol.1 of 1',\n",
       "    'DocURL': 'http://www-wds.worldbank.org/servlet/WDSServlet?pcont=details&eid=000442464_20131031112136',\n",
       "    'EntityID': '000442464_20131031112136'},\n",
       "   {'DocDate': '29-MAR-2013',\n",
       "    'DocType': 'PID',\n",
       "    'DocTypeDesc': 'Project Information Document (PID),  Vol.1 of 1',\n",
       "    'DocURL': 'http://www-wds.worldbank.org/servlet/WDSServlet?pcont=details&eid=000333037_20131031105716',\n",
       "    'EntityID': '000333037_20131031105716'},\n",
       "   {'DocDate': '16-JAN-2013',\n",
       "    'DocType': 'ISDS',\n",
       "    'DocTypeDesc': 'Integrated Safeguards Data Sheet (ISDS),  Vol.1 of 1',\n",
       "    'DocURL': 'http://www-wds.worldbank.org/servlet/WDSServlet?pcont=details&eid=000356161_20130305113209',\n",
       "    'EntityID': '000356161_20130305113209'},\n",
       "   {'DocDate': '16-JAN-2013',\n",
       "    'DocType': 'PID',\n",
       "    'DocTypeDesc': 'Project Information Document (PID),  Vol.1 of 1',\n",
       "    'DocURL': 'http://www-wds.worldbank.org/servlet/WDSServlet?pcont=details&eid=000356161_20130305113716',\n",
       "    'EntityID': '000356161_20130305113716'}],\n",
       "  'projectfinancialtype': 'OTHER',\n",
       "  'projectstatusdisplay': 'Active',\n",
       "  'regionname': 'Middle East and North Africa',\n",
       "  'sector': [{'Name': 'Public administration- Other social services'},\n",
       "   {'Name': 'General public administration sector'}],\n",
       "  'sector1': {'Name': 'Public administration- Other social services',\n",
       "   'Percent': 70},\n",
       "  'sector2': {'Name': 'General public administration sector', 'Percent': 30},\n",
       "  'sector_namecode': [{'code': 'BS',\n",
       "    'name': 'Public administration- Other social services'},\n",
       "   {'code': 'BZ', 'name': 'General public administration sector'}],\n",
       "  'sectorcode': 'BZ,BS',\n",
       "  'source': 'IBRD',\n",
       "  'status': 'Active',\n",
       "  'supplementprojectflg': 'N',\n",
       "  'theme1': {'Name': 'Other economic management', 'Percent': 30},\n",
       "  'theme_namecode': [{'code': '24', 'name': 'Other economic management'},\n",
       "   {'code': '54', 'name': 'Social safety nets'}],\n",
       "  'themecode': '54,24',\n",
       "  'totalamt': 0,\n",
       "  'totalcommamt': 4700000,\n",
       "  'url': 'http://www.worldbank.org/projects/P144674?lang=en'}]"
      ]
     },
     "execution_count": 9,
     "metadata": {},
     "output_type": "execute_result"
    }
   ],
   "source": [
    "# load json as string\n",
    "json.load((open('data/world_bank_projects_less.json')))"
   ]
  },
  {
   "cell_type": "code",
   "execution_count": 10,
   "metadata": {
    "collapsed": false
   },
   "outputs": [
    {
     "data": {
      "text/html": [
       "<div>\n",
       "<table border=\"1\" class=\"dataframe\">\n",
       "  <thead>\n",
       "    <tr style=\"text-align: right;\">\n",
       "      <th></th>\n",
       "      <th>_id</th>\n",
       "      <th>approvalfy</th>\n",
       "      <th>board_approval_month</th>\n",
       "      <th>boardapprovaldate</th>\n",
       "      <th>borrower</th>\n",
       "      <th>closingdate</th>\n",
       "      <th>country_namecode</th>\n",
       "      <th>countrycode</th>\n",
       "      <th>countryname</th>\n",
       "      <th>countryshortname</th>\n",
       "      <th>...</th>\n",
       "      <th>sectorcode</th>\n",
       "      <th>source</th>\n",
       "      <th>status</th>\n",
       "      <th>supplementprojectflg</th>\n",
       "      <th>theme1</th>\n",
       "      <th>theme_namecode</th>\n",
       "      <th>themecode</th>\n",
       "      <th>totalamt</th>\n",
       "      <th>totalcommamt</th>\n",
       "      <th>url</th>\n",
       "    </tr>\n",
       "  </thead>\n",
       "  <tbody>\n",
       "    <tr>\n",
       "      <th>0</th>\n",
       "      <td>{'$oid': '52b213b38594d8a2be17c780'}</td>\n",
       "      <td>1999</td>\n",
       "      <td>November</td>\n",
       "      <td>2013-11-12T00:00:00Z</td>\n",
       "      <td>FEDERAL DEMOCRATIC REPUBLIC OF ETHIOPIA</td>\n",
       "      <td>2018-07-07T00:00:00Z</td>\n",
       "      <td>Federal Democratic Republic of Ethiopia!$!ET</td>\n",
       "      <td>ET</td>\n",
       "      <td>Federal Democratic Republic of Ethiopia</td>\n",
       "      <td>Ethiopia</td>\n",
       "      <td>...</td>\n",
       "      <td>ET,BS,ES,EP</td>\n",
       "      <td>IBRD</td>\n",
       "      <td>Active</td>\n",
       "      <td>N</td>\n",
       "      <td>{'Name': 'Education for all', 'Percent': 100}</td>\n",
       "      <td>[{'name': 'Education for all', 'code': '65'}]</td>\n",
       "      <td>65</td>\n",
       "      <td>130000000</td>\n",
       "      <td>130000000</td>\n",
       "      <td>http://www.worldbank.org/projects/P129828/ethi...</td>\n",
       "    </tr>\n",
       "    <tr>\n",
       "      <th>1</th>\n",
       "      <td>{'$oid': '52b213b38594d8a2be17c781'}</td>\n",
       "      <td>2015</td>\n",
       "      <td>November</td>\n",
       "      <td>2013-11-04T00:00:00Z</td>\n",
       "      <td>GOVERNMENT OF TUNISIA</td>\n",
       "      <td>NaN</td>\n",
       "      <td>Republic of Tunisia!$!TN</td>\n",
       "      <td>TN</td>\n",
       "      <td>Republic of Tunisia</td>\n",
       "      <td>Tunisia</td>\n",
       "      <td>...</td>\n",
       "      <td>BZ,BS</td>\n",
       "      <td>IBRD</td>\n",
       "      <td>Active</td>\n",
       "      <td>N</td>\n",
       "      <td>{'Name': 'Other economic management', 'Percent...</td>\n",
       "      <td>[{'name': 'Other economic management', 'code':...</td>\n",
       "      <td>54,24</td>\n",
       "      <td>0</td>\n",
       "      <td>4700000</td>\n",
       "      <td>http://www.worldbank.org/projects/P144674?lang=en</td>\n",
       "    </tr>\n",
       "  </tbody>\n",
       "</table>\n",
       "<p>2 rows × 50 columns</p>\n",
       "</div>"
      ],
      "text/plain": [
       "                                    _id  approvalfy board_approval_month  \\\n",
       "0  {'$oid': '52b213b38594d8a2be17c780'}        1999             November   \n",
       "1  {'$oid': '52b213b38594d8a2be17c781'}        2015             November   \n",
       "\n",
       "      boardapprovaldate                                 borrower  \\\n",
       "0  2013-11-12T00:00:00Z  FEDERAL DEMOCRATIC REPUBLIC OF ETHIOPIA   \n",
       "1  2013-11-04T00:00:00Z                    GOVERNMENT OF TUNISIA   \n",
       "\n",
       "            closingdate                              country_namecode  \\\n",
       "0  2018-07-07T00:00:00Z  Federal Democratic Republic of Ethiopia!$!ET   \n",
       "1                   NaN                      Republic of Tunisia!$!TN   \n",
       "\n",
       "  countrycode                              countryname countryshortname  \\\n",
       "0          ET  Federal Democratic Republic of Ethiopia         Ethiopia   \n",
       "1          TN                      Republic of Tunisia          Tunisia   \n",
       "\n",
       "                         ...                           sectorcode source  \\\n",
       "0                        ...                          ET,BS,ES,EP   IBRD   \n",
       "1                        ...                                BZ,BS   IBRD   \n",
       "\n",
       "   status  supplementprojectflg  \\\n",
       "0  Active                     N   \n",
       "1  Active                     N   \n",
       "\n",
       "                                              theme1  \\\n",
       "0      {'Name': 'Education for all', 'Percent': 100}   \n",
       "1  {'Name': 'Other economic management', 'Percent...   \n",
       "\n",
       "                                      theme_namecode themecode   totalamt  \\\n",
       "0      [{'name': 'Education for all', 'code': '65'}]        65  130000000   \n",
       "1  [{'name': 'Other economic management', 'code':...     54,24          0   \n",
       "\n",
       "  totalcommamt                                                url  \n",
       "0    130000000  http://www.worldbank.org/projects/P129828/ethi...  \n",
       "1      4700000  http://www.worldbank.org/projects/P144674?lang=en  \n",
       "\n",
       "[2 rows x 50 columns]"
      ]
     },
     "execution_count": 10,
     "metadata": {},
     "output_type": "execute_result"
    }
   ],
   "source": [
    "# load as Pandas dataframe\n",
    "sample_json_df = pd.read_json('data/world_bank_projects_less.json')\n",
    "sample_json_df"
   ]
  },
  {
   "cell_type": "markdown",
   "metadata": {},
   "source": [
    "****\n",
    "## JSON exercise\n",
    "\n",
    "Using data in file 'data/world_bank_projects.json' and the techniques demonstrated above,\n",
    "1. Find the 10 countries with most projects\n",
    "2. Find the top 10 major project themes (using column 'mjtheme_namecode')\n",
    "3. In 2. above you will notice that some entries have only the code and the name is missing. Create a dataframe with the missing names filled in."
   ]
  },
  {
   "cell_type": "markdown",
   "metadata": {},
   "source": [
    "## Task 1: Find the 10 countries with the most projects\n",
    "### Step 1: Read in the data to a dataframe"
   ]
  },
  {
   "cell_type": "code",
   "execution_count": 11,
   "metadata": {
    "collapsed": false
   },
   "outputs": [],
   "source": [
    "df_json = pd.read_json('data/world_bank_projects.json')"
   ]
  },
  {
   "cell_type": "markdown",
   "metadata": {},
   "source": [
    "### Step 2: Extract the countryname column from the dataframe so that we can more easily analyze its contents."
   ]
  },
  {
   "cell_type": "code",
   "execution_count": 12,
   "metadata": {
    "collapsed": false
   },
   "outputs": [],
   "source": [
    "df_json_countries = df_json['countryname']\n",
    "#print(df_json_countries.head())\n",
    "#print(df_json_countries.value_counts())\n"
   ]
  },
  {
   "cell_type": "markdown",
   "metadata": {},
   "source": [
    "### Step 3: Use the value_counts() method on the new countries dataframe, print out the top 10 rows to find\n",
    "### the top 10 countries with the most projects."
   ]
  },
  {
   "cell_type": "code",
   "execution_count": 13,
   "metadata": {
    "collapsed": false
   },
   "outputs": [
    {
     "name": "stdout",
     "output_type": "stream",
     "text": [
      "People's Republic of China         19\n",
      "Republic of Indonesia              19\n",
      "Socialist Republic of Vietnam      17\n",
      "Republic of India                  16\n",
      "Republic of Yemen                  13\n",
      "People's Republic of Bangladesh    12\n",
      "Kingdom of Morocco                 12\n",
      "Nepal                              12\n",
      "Republic of Mozambique             11\n",
      "Africa                             11\n",
      "Name: countryname, dtype: int64\n"
     ]
    }
   ],
   "source": [
    "df_json_topCountries = df_json_countries.value_counts()\n",
    "print(df_json_topCountries.head(10))"
   ]
  },
  {
   "cell_type": "markdown",
   "metadata": {
    "collapsed": true
   },
   "source": [
    "## Task 2: Find the top 10 major project themes\n",
    "### Step 1: Extract project themes into its own dataframe"
   ]
  },
  {
   "cell_type": "code",
   "execution_count": 15,
   "metadata": {
    "collapsed": false
   },
   "outputs": [
    {
     "name": "stdout",
     "output_type": "stream",
     "text": [
      "0    [{'code': '8', 'name': 'Human development'}, {...\n",
      "1    [{'code': '1', 'name': 'Economic management'},...\n",
      "2    [{'code': '5', 'name': 'Trade and integration'...\n",
      "3    [{'code': '7', 'name': 'Social dev/gender/incl...\n",
      "4    [{'code': '5', 'name': 'Trade and integration'...\n",
      "5    [{'code': '6', 'name': 'Social protection and ...\n",
      "6    [{'code': '2', 'name': 'Public sector governan...\n",
      "7    [{'code': '11', 'name': 'Environment and natur...\n",
      "8    [{'code': '10', 'name': 'Rural development'}, ...\n",
      "9    [{'code': '2', 'name': 'Public sector governan...\n",
      "Name: mjtheme_namecode, dtype: object\n"
     ]
    }
   ],
   "source": [
    "df_json_projectthemes = df_json['mjtheme_namecode']\n",
    "print(df_json_projectthemes.head(10))"
   ]
  },
  {
   "cell_type": "markdown",
   "metadata": {},
   "source": [
    "### Step 2: Iterate over the project themes list and extract just the names"
   ]
  },
  {
   "cell_type": "code",
   "execution_count": 54,
   "metadata": {
    "collapsed": false
   },
   "outputs": [
    {
     "name": "stdout",
     "output_type": "stream",
     "text": [
      "['Human development', '', 'Economic management', 'Social protection and risk management', 'Trade and integration', 'Public sector governance', 'Environment and natural resources management', 'Social protection and risk management', 'Social dev/gender/inclusion', 'Social dev/gender/inclusion', 'Trade and integration', 'Financial and private sector development', 'Social protection and risk management', '', 'Public sector governance', 'Financial and private sector development', 'Environment and natural resources management', '', 'Rural development', '', 'Public sector governance', 'Public sector governance', 'Public sector governance', 'Rural development', '', 'Rural development', 'Social protection and risk management', 'Social protection and risk management', 'Environment and natural resources management', '', 'Trade and integration', 'Environment and natural resources management', 'Rural development', 'Social protection and risk management', 'Social protection and risk management', 'Social protection and risk management', 'Rural development', 'Environment and natural resources management', 'Trade and integration', 'Rural development', '', 'Human development', '', 'Human development', 'Human development', 'Public sector governance', 'Social dev/gender/inclusion', 'Human development', 'Public sector governance', 'Public sector governance', 'Public sector governance', 'Social dev/gender/inclusion', 'Social dev/gender/inclusion', 'Urban development', 'Social dev/gender/inclusion', 'Social dev/gender/inclusion', 'Social dev/gender/inclusion', 'Human development', 'Human development', 'Rural development', 'Rural development', 'Rural development', 'Social protection and risk management', 'Environment and natural resources management', 'Environment and natural resources management', 'Environment and natural resources management', 'Financial and private sector development', 'Trade and integration', 'Public sector governance', 'Human development', 'Environment and natural resources management', 'Public sector governance', 'Trade and integration', 'Social protection and risk management', 'Rural development', 'Rural development', 'Social dev/gender/inclusion', 'Social dev/gender/inclusion', 'Environment and natural resources management', 'Human development', '', 'Environment and natural resources management', 'Environment and natural resources management', 'Environment and natural resources management', 'Environment and natural resources management', 'Environment and natural resources management', 'Financial and private sector development', 'Social protection and risk management', 'Economic management', 'Financial and private sector development', 'Public sector governance', 'Human development', 'Trade and integration', 'Trade and integration', 'Social dev/gender/inclusion', 'Rural development', 'Financial and private sector development', 'Rural development', '', 'Social protection and risk management', '', 'Environment and natural resources management', 'Environment and natural resources management', 'Social protection and risk management', 'Environment and natural resources management', 'Environment and natural resources management', 'Public sector governance', '', 'Environment and natural resources management', 'Social protection and risk management', 'Environment and natural resources management', 'Environment and natural resources management', 'Financial and private sector development', 'Human development', 'Public sector governance', 'Public sector governance', 'Public sector governance', '', 'Environment and natural resources management', '', 'Human development', '', 'Public sector governance', 'Rural development', 'Financial and private sector development', 'Financial and private sector development', 'Environment and natural resources management', '', 'Financial and private sector development', 'Financial and private sector development', 'Social dev/gender/inclusion', 'Social protection and risk management', 'Public sector governance', 'Environment and natural resources management', '', 'Environment and natural resources management', 'Environment and natural resources management', 'Environment and natural resources management', 'Environment and natural resources management', 'Environment and natural resources management', 'Environment and natural resources management', 'Environment and natural resources management', 'Rural development', 'Public sector governance', 'Trade and integration', 'Public sector governance', 'Human development', 'Human development', 'Human development', 'Environment and natural resources management', 'Social dev/gender/inclusion', 'Environment and natural resources management', 'Environment and natural resources management', 'Environment and natural resources management', 'Financial and private sector development', 'Financial and private sector development', 'Environment and natural resources management', 'Public sector governance', 'Rural development', 'Rural development', 'Environment and natural resources management', 'Environment and natural resources management', 'Public sector governance', 'Social dev/gender/inclusion', 'Public sector governance', '', 'Trade and integration', 'Social protection and risk management', 'Rural development', 'Rural development', 'Environment and natural resources management', '', 'Social protection and risk management', '', 'Social protection and risk management', 'Economic management', 'Public sector governance', 'Environment and natural resources management', 'Public sector governance', 'Financial and private sector development', 'Social dev/gender/inclusion', 'Rural development', 'Trade and integration', 'Urban development', 'Environment and natural resources management', '', 'Human development', '', 'Social dev/gender/inclusion', 'Social protection and risk management', 'Human development', 'Human development', 'Human development', 'Financial and private sector development', 'Urban development', 'Rural development', 'Environment and natural resources management', '', 'Financial and private sector development', 'Financial and private sector development', 'Urban development', '', 'Public sector governance', 'Trade and integration', 'Economic management', 'Economic management', 'Human development', 'Financial and private sector development', 'Financial and private sector development', 'Environment and natural resources management', '', 'Public sector governance', '', 'Social protection and risk management', 'Social protection and risk management', 'Social protection and risk management', 'Public sector governance', '', 'Public sector governance', 'Financial and private sector development', 'Economic management', 'Social protection and risk management', 'Economic management', 'Economic management', 'Social dev/gender/inclusion', 'Trade and integration', 'Public sector governance', 'Public sector governance', 'Human development', 'Human development', '', 'Public sector governance', '', '', 'Public sector governance', '', 'Social dev/gender/inclusion', 'Human development', 'Human development', 'Human development', '', 'Financial and private sector development', '', 'Environment and natural resources management', 'Financial and private sector development', 'Human development', 'Trade and integration', 'Financial and private sector development', 'Social dev/gender/inclusion', 'Economic management', 'Social protection and risk management', 'Financial and private sector development', 'Rule of law', 'Financial and private sector development', 'Financial and private sector development', 'Rural development', 'Rural development', 'Rural development', 'Rural development', 'Rural development', 'Social dev/gender/inclusion', 'Rural development', 'Rural development', 'Trade and integration', 'Financial and private sector development', 'Trade and integration', 'Trade and integration', 'Trade and integration', 'Public sector governance', 'Rural development', 'Environment and natural resources management', 'Rural development', 'Rural development', 'Rural development', 'Financial and private sector development', '', '', '', 'Human development', 'Human development', 'Public sector governance', 'Trade and integration', 'Social protection and risk management', 'Environment and natural resources management', 'Environment and natural resources management', 'Financial and private sector development', 'Trade and integration', 'Environment and natural resources management', 'Public sector governance', 'Public sector governance', 'Public sector governance', 'Environment and natural resources management', 'Social protection and risk management', 'Social dev/gender/inclusion', 'Environment and natural resources management', 'Social dev/gender/inclusion', 'Financial and private sector development', '', 'Social dev/gender/inclusion', 'Social protection and risk management', 'Social protection and risk management', 'Public sector governance', 'Human development', 'Rural development', 'Social dev/gender/inclusion', 'Human development', 'Public sector governance', 'Human development', 'Social protection and risk management', 'Social dev/gender/inclusion', 'Public sector governance', 'Social protection and risk management', 'Public sector governance', 'Financial and private sector development', 'Rural development', 'Human development', 'Financial and private sector development', 'Trade and integration', 'Urban development', 'Public sector governance', 'Urban development', 'Social protection and risk management', 'Social protection and risk management', 'Human development', 'Human development', 'Social dev/gender/inclusion', 'Social protection and risk management', 'Social protection and risk management', 'Social protection and risk management', 'Social protection and risk management', 'Social protection and risk management', 'Financial and private sector development', '', '', 'Social protection and risk management', 'Rural development', 'Rural development', 'Rural development', 'Environment and natural resources management', 'Public sector governance', 'Public sector governance', 'Urban development', 'Social protection and risk management', 'Environment and natural resources management', 'Rural development', 'Public sector governance', 'Public sector governance', 'Social protection and risk management', 'Rural development', 'Public sector governance', 'Public sector governance', 'Public sector governance', 'Public sector governance', 'Rural development', 'Urban development', 'Public sector governance', 'Urban development', 'Economic management', 'Public sector governance', 'Rule of law', 'Social protection and risk management', 'Social protection and risk management', 'Financial and private sector development', '', 'Financial and private sector development', '', 'Social protection and risk management', 'Public sector governance', 'Environment and natural resources management', 'Urban development', 'Public sector governance', 'Human development', 'Public sector governance', 'Human development', 'Environment and natural resources management', 'Environment and natural resources management', 'Trade and integration', 'Environment and natural resources management', 'Financial and private sector development', 'Social protection and risk management', 'Public sector governance', 'Social dev/gender/inclusion', 'Public sector governance', 'Public sector governance', 'Social protection and risk management', 'Social protection and risk management', 'Human development', 'Human development', 'Public sector governance', '', 'Financial and private sector development', '', 'Rural development', 'Trade and integration', 'Financial and private sector development', 'Financial and private sector development', 'Trade and integration', 'Trade and integration', 'Financial and private sector development', 'Financial and private sector development', 'Public sector governance', 'Social protection and risk management', 'Rural development', 'Environment and natural resources management', 'Public sector governance', '', 'Financial and private sector development', '', 'Environment and natural resources management', 'Social dev/gender/inclusion', 'Environment and natural resources management', 'Environment and natural resources management', 'Environment and natural resources management', 'Human development', 'Urban development', 'Rule of law', 'Trade and integration', 'Financial and private sector development', 'Social protection and risk management', 'Environment and natural resources management', 'Public sector governance', 'Environment and natural resources management', 'Environment and natural resources management', 'Environment and natural resources management', '', 'Financial and private sector development', 'Social dev/gender/inclusion', 'Financial and private sector development', 'Social protection and risk management', 'Social protection and risk management', 'Social protection and risk management', 'Public sector governance', 'Environment and natural resources management', '', 'Environment and natural resources management', '', 'Social protection and risk management', 'Rural development', 'Rural development', 'Social dev/gender/inclusion', 'Rural development', 'Social dev/gender/inclusion', 'Financial and private sector development', 'Environment and natural resources management', 'Rural development', 'Environment and natural resources management', '', 'Urban development', 'Financial and private sector development', 'Environment and natural resources management', 'Social protection and risk management', 'Public sector governance', 'Financial and private sector development', 'Economic management', 'Economic management', 'Financial and private sector development', 'Public sector governance', 'Rural development', 'Economic management', 'Human development', '', 'Human development', '', 'Environment and natural resources management', 'Environment and natural resources management', 'Human development', 'Human development', 'Human development', 'Human development', 'Human development', 'Environment and natural resources management', '', 'Environment and natural resources management', 'Environment and natural resources management', 'Environment and natural resources management', 'Public sector governance', 'Environment and natural resources management', 'Environment and natural resources management', 'Rural development', 'Rural development', 'Trade and integration', 'Financial and private sector development', 'Financial and private sector development', 'Trade and integration', 'Human development', 'Human development', '', 'Trade and integration', 'Financial and private sector development', 'Public sector governance', 'Human development', 'Public sector governance', 'Social dev/gender/inclusion', '', 'Financial and private sector development', 'Social protection and risk management', 'Public sector governance', 'Economic management', 'Trade and integration', 'Social protection and risk management', 'Public sector governance', 'Public sector governance', 'Public sector governance', 'Environment and natural resources management', 'Environment and natural resources management', 'Rural development', 'Rural development', 'Public sector governance', 'Rule of law', 'Rule of law', 'Social dev/gender/inclusion', 'Environment and natural resources management', 'Urban development', 'Urban development', 'Human development', 'Social protection and risk management', 'Public sector governance', 'Public sector governance', 'Public sector governance', 'Environment and natural resources management', 'Environment and natural resources management', 'Environment and natural resources management', 'Rural development', 'Environment and natural resources management', 'Social protection and risk management', 'Human development', 'Rural development', 'Rural development', 'Environment and natural resources management', 'Financial and private sector development', 'Environment and natural resources management', 'Rural development', '', 'Trade and integration', 'Trade and integration', 'Urban development', 'Human development', 'Social protection and risk management', 'Human development', 'Social protection and risk management', 'Human development', 'Human development', 'Social protection and risk management', 'Financial and private sector development', 'Financial and private sector development', 'Social dev/gender/inclusion', 'Public sector governance', 'Human development', 'Rural development', 'Human development', 'Social protection and risk management', 'Human development', 'Social protection and risk management', 'Social protection and risk management', 'Social protection and risk management', 'Social protection and risk management', 'Public sector governance', 'Public sector governance', 'Public sector governance', 'Financial and private sector development', 'Trade and integration', 'Human development', '', 'Environment and natural resources management', 'Social dev/gender/inclusion', 'Environment and natural resources management', 'Environment and natural resources management', 'Environment and natural resources management', 'Environment and natural resources management', 'Environment and natural resources management', 'Urban development', 'Public sector governance', 'Financial and private sector development', 'Rural development', 'Human development', 'Human development', 'Human development', 'Public sector governance', 'Public sector governance', 'Public sector governance', 'Social dev/gender/inclusion', 'Public sector governance', 'Financial and private sector development', 'Trade and integration', 'Trade and integration', 'Urban development', 'Environment and natural resources management', 'Environment and natural resources management', 'Environment and natural resources management', 'Social dev/gender/inclusion', '', 'Public sector governance', 'Public sector governance', 'Public sector governance', 'Environment and natural resources management', 'Social protection and risk management', 'Social protection and risk management', 'Urban development', 'Urban development', 'Trade and integration', 'Public sector governance', 'Trade and integration', 'Rural development', 'Environment and natural resources management', 'Financial and private sector development', 'Financial and private sector development', 'Trade and integration', 'Public sector governance', 'Public sector governance', 'Social dev/gender/inclusion', 'Public sector governance', '', 'Human development', 'Human development', 'Human development', 'Human development', 'Social dev/gender/inclusion', 'Social protection and risk management', 'Human development', 'Social protection and risk management', 'Human development', 'Human development', 'Social dev/gender/inclusion', 'Rural development', 'Social dev/gender/inclusion', 'Human development', 'Human development', 'Human development', 'Social protection and risk management', 'Human development', 'Social dev/gender/inclusion', 'Environment and natural resources management', 'Environment and natural resources management', 'Environment and natural resources management', 'Trade and integration', 'Environment and natural resources management', 'Social protection and risk management', 'Human development', 'Human development', 'Social protection and risk management', 'Human development', 'Human development', 'Trade and integration', 'Public sector governance', 'Social protection and risk management', 'Public sector governance', 'Rural development', 'Economic management', 'Economic management', 'Public sector governance', 'Urban development', 'Environment and natural resources management', 'Environment and natural resources management', 'Financial and private sector development', 'Trade and integration', 'Environment and natural resources management', 'Environment and natural resources management', 'Trade and integration', 'Financial and private sector development', 'Public sector governance', 'Public sector governance', 'Public sector governance', 'Environment and natural resources management', '', 'Environment and natural resources management', 'Public sector governance', 'Rural development', 'Environment and natural resources management', 'Environment and natural resources management', 'Urban development', 'Financial and private sector development', 'Financial and private sector development', 'Rural development', 'Rural development', 'Financial and private sector development', 'Rural development', 'Environment and natural resources management', 'Social protection and risk management', '', 'Social dev/gender/inclusion', '', 'Human development', '', 'Environment and natural resources management', '', 'Environment and natural resources management', '', 'Human development', 'Human development', 'Human development', 'Social dev/gender/inclusion', '', 'Rural development', 'Human development', 'Environment and natural resources management', '', 'Human development', 'Human development', 'Human development', 'Human development', 'Human development', '', 'Social dev/gender/inclusion', 'Human development', 'Rural development', 'Financial and private sector development', 'Public sector governance', 'Public sector governance', 'Rural development', 'Social dev/gender/inclusion', 'Rural development', 'Human development', 'Social dev/gender/inclusion', 'Human development', 'Human development', 'Human development', 'Human development', 'Human development', 'Social protection and risk management', 'Social dev/gender/inclusion', 'Human development', 'Social protection and risk management', 'Human development', 'Social dev/gender/inclusion', 'Rural development', 'Environment and natural resources management', 'Environment and natural resources management', 'Rural development', 'Rural development', 'Environment and natural resources management', 'Rural development', 'Rural development', 'Urban development', 'Environment and natural resources management', 'Environment and natural resources management', 'Human development', 'Human development', 'Urban development', 'Urban development', 'Urban development', 'Social dev/gender/inclusion', 'Social dev/gender/inclusion', 'Urban development', 'Social protection and risk management', 'Rural development', 'Social protection and risk management', 'Public sector governance', 'Rural development', 'Environment and natural resources management', 'Rural development', 'Rural development', 'Rural development', 'Rural development', 'Rural development', 'Social dev/gender/inclusion', 'Rural development', 'Rural development', 'Social protection and risk management', 'Human development', 'Human development', 'Human development', 'Human development', 'Financial and private sector development', 'Environment and natural resources management', 'Rural development', 'Rural development', 'Rural development', 'Rural development', 'Public sector governance', 'Human development', 'Trade and integration', 'Public sector governance', 'Social protection and risk management', 'Human development', 'Human development', 'Human development', 'Human development', 'Financial and private sector development', 'Environment and natural resources management', 'Financial and private sector development', 'Financial and private sector development', 'Financial and private sector development', 'Trade and integration', 'Public sector governance', 'Economic management', 'Public sector governance', 'Social protection and risk management', 'Social dev/gender/inclusion', 'Environment and natural resources management', 'Rule of law', 'Rural development', 'Rural development', 'Human development', 'Human development', 'Financial and private sector development', 'Social dev/gender/inclusion', 'Environment and natural resources management', 'Environment and natural resources management', 'Financial and private sector development', 'Social dev/gender/inclusion', 'Social protection and risk management', 'Social protection and risk management', 'Social protection and risk management', 'Economic management', 'Social protection and risk management', 'Public sector governance', 'Social protection and risk management', 'Public sector governance', 'Public sector governance', 'Financial and private sector development', 'Financial and private sector development', 'Social protection and risk management', 'Social dev/gender/inclusion', 'Social protection and risk management', 'Public sector governance', 'Rural development', 'Financial and private sector development', 'Public sector governance', 'Financial and private sector development', 'Rural development', 'Public sector governance', 'Human development', 'Urban development', 'Environment and natural resources management', '', 'Environment and natural resources management', 'Rural development', 'Environment and natural resources management', 'Environment and natural resources management', 'Environment and natural resources management', '', 'Environment and natural resources management', 'Environment and natural resources management', 'Environment and natural resources management', 'Social protection and risk management', 'Financial and private sector development', '', 'Financial and private sector development', 'Public sector governance', 'Public sector governance', 'Financial and private sector development', 'Economic management', 'Public sector governance', 'Financial and private sector development', 'Human development', 'Human development', 'Financial and private sector development', 'Financial and private sector development', 'Financial and private sector development', 'Rural development', 'Human development', 'Public sector governance', 'Human development', 'Social protection and risk management', 'Rural development', 'Rural development', 'Trade and integration', 'Trade and integration', 'Public sector governance', 'Human development', 'Environment and natural resources management', 'Environment and natural resources management', 'Environment and natural resources management', 'Rural development', 'Environment and natural resources management', 'Social dev/gender/inclusion', 'Social protection and risk management', 'Social protection and risk management', 'Social protection and risk management', 'Social protection and risk management', 'Environment and natural resources management', 'Rural development', 'Environment and natural resources management', 'Environment and natural resources management', 'Financial and private sector development', 'Trade and integration', 'Public sector governance', 'Trade and integration', 'Social dev/gender/inclusion', 'Rural development', 'Human development', 'Human development', 'Human development', 'Human development', 'Human development', '', 'Rural development', 'Human development', 'Human development', 'Human development', 'Social dev/gender/inclusion', 'Financial and private sector development', 'Rural development', 'Social dev/gender/inclusion', 'Public sector governance', 'Rural development', 'Public sector governance', 'Social protection and risk management', 'Social protection and risk management', 'Social protection and risk management', 'Economic management', 'Human development', 'Public sector governance', 'Public sector governance', 'Public sector governance', 'Human development', '', 'Human development', '', 'Trade and integration', 'Trade and integration', 'Human development', 'Human development', 'Human development', 'Human development', 'Human development', 'Social protection and risk management', 'Urban development', 'Social dev/gender/inclusion', 'Rural development', '', 'Rural development', '', 'Rural development', 'Rural development', 'Financial and private sector development', 'Rural development', 'Environment and natural resources management', 'Financial and private sector development', 'Rural development', 'Urban development', 'Financial and private sector development', 'Environment and natural resources management', 'Rural development', 'Financial and private sector development', 'Social dev/gender/inclusion', 'Rural development', 'Environment and natural resources management', 'Social protection and risk management', 'Environment and natural resources management', 'Urban development', 'Environment and natural resources management', 'Environment and natural resources management', 'Social dev/gender/inclusion', 'Social dev/gender/inclusion', 'Human development', 'Social protection and risk management', 'Human development', 'Human development', 'Human development', 'Rural development', 'Financial and private sector development', 'Rural development', 'Human development', 'Rural development', 'Rural development', 'Environment and natural resources management', 'Environment and natural resources management', 'Environment and natural resources management', 'Environment and natural resources management', 'Environment and natural resources management', 'Financial and private sector development', 'Urban development', 'Human development', '', 'Human development', 'Public sector governance', 'Public sector governance', '', 'Social protection and risk management', '', 'Social protection and risk management', '', 'Financial and private sector development', 'Financial and private sector development', 'Financial and private sector development', '', 'Rural development', 'Rural development', 'Rural development', '', 'Social protection and risk management', 'Social dev/gender/inclusion', 'Social protection and risk management', 'Social protection and risk management', 'Trade and integration', 'Rural development', 'Financial and private sector development', 'Trade and integration', 'Environment and natural resources management', 'Environment and natural resources management', 'Rural development', 'Rural development', 'Environment and natural resources management', 'Human development', 'Human development', 'Human development', 'Human development', '', 'Social protection and risk management', 'Environment and natural resources management', 'Public sector governance', '', 'Social dev/gender/inclusion', 'Environment and natural resources management', 'Environment and natural resources management', 'Environment and natural resources management', 'Financial and private sector development', 'Public sector governance', 'Trade and integration', 'Economic management', 'Financial and private sector development', 'Public sector governance', '', 'Human development', '', 'Rural development', 'Social protection and risk management', 'Environment and natural resources management', 'Public sector governance', 'Rural development', 'Human development', '', 'Public sector governance', '', 'Environment and natural resources management', 'Rural development', 'Rural development', 'Public sector governance', '', 'Environment and natural resources management', 'Social dev/gender/inclusion', 'Rural development', 'Environment and natural resources management', 'Environment and natural resources management', 'Human development', '', 'Environment and natural resources management', 'Social protection and risk management', 'Social protection and risk management', 'Environment and natural resources management', 'Environment and natural resources management', 'Social protection and risk management', 'Human development', 'Public sector governance', 'Economic management', 'Environment and natural resources management', 'Social dev/gender/inclusion', 'Environment and natural resources management', 'Social protection and risk management', 'Environment and natural resources management', 'Environment and natural resources management', 'Social dev/gender/inclusion', '', 'Environment and natural resources management', 'Environment and natural resources management', 'Economic management', 'Economic management', 'Public sector governance', 'Public sector governance', 'Rural development', 'Human development', 'Financial and private sector development', 'Environment and natural resources management', 'Environment and natural resources management', 'Environment and natural resources management', 'Environment and natural resources management', 'Environment and natural resources management', 'Social dev/gender/inclusion', 'Public sector governance', 'Social dev/gender/inclusion', 'Rural development', 'Social dev/gender/inclusion', 'Rural development', 'Environment and natural resources management', 'Social dev/gender/inclusion', 'Rural development', 'Rural development', 'Economic management', '', 'Social protection and risk management', 'Social protection and risk management', 'Public sector governance', '', 'Public sector governance', '', 'Rural development', 'Social dev/gender/inclusion', 'Rural development', 'Rural development', 'Human development', 'Social dev/gender/inclusion', 'Environment and natural resources management', 'Rural development', 'Social dev/gender/inclusion', 'Urban development', 'Social protection and risk management', 'Social dev/gender/inclusion', 'Social dev/gender/inclusion', 'Public sector governance', 'Public sector governance', 'Public sector governance', 'Urban development', 'Urban development', 'Urban development', 'Social protection and risk management', 'Human development', 'Social protection and risk management', 'Social protection and risk management', 'Social dev/gender/inclusion', 'Human development', 'Social protection and risk management', 'Social protection and risk management', 'Social protection and risk management', '', 'Social protection and risk management', 'Social protection and risk management', 'Rural development', 'Social dev/gender/inclusion', 'Rural development', 'Human development', 'Human development', 'Rural development', 'Rural development', '', 'Social protection and risk management', 'Environment and natural resources management', 'Human development', 'Public sector governance', 'Social protection and risk management', 'Trade and integration', 'Trade and integration', 'Trade and integration', 'Social dev/gender/inclusion', 'Rural development', 'Social dev/gender/inclusion', 'Rural development', 'Social dev/gender/inclusion', 'Environment and natural resources management', 'Rural development', 'Social protection and risk management', 'Public sector governance', 'Public sector governance', 'Public sector governance', 'Public sector governance', 'Trade and integration', 'Trade and integration', 'Financial and private sector development', 'Rural development', 'Social protection and risk management', 'Human development', 'Human development', 'Human development', 'Human development', 'Human development', 'Social protection and risk management', 'Rural development', 'Social protection and risk management', 'Social protection and risk management', 'Rural development', 'Social protection and risk management', 'Rural development', 'Environment and natural resources management', 'Rural development', 'Rural development', 'Financial and private sector development', 'Urban development', 'Environment and natural resources management', 'Rural development', 'Rural development', 'Environment and natural resources management', 'Rural development', 'Human development', 'Public sector governance', 'Social protection and risk management', 'Financial and private sector development', 'Human development', 'Rural development', '', 'Environment and natural resources management', 'Environment and natural resources management', 'Environment and natural resources management', 'Rural development', 'Financial and private sector development', 'Trade and integration', 'Trade and integration', 'Rural development', 'Social protection and risk management', 'Financial and private sector development', 'Social dev/gender/inclusion', 'Social dev/gender/inclusion', 'Social dev/gender/inclusion', 'Public sector governance', 'Social protection and risk management', 'Social protection and risk management', 'Public sector governance', 'Financial and private sector development', 'Social dev/gender/inclusion', 'Financial and private sector development', 'Financial and private sector development', 'Rural development', 'Environment and natural resources management', 'Social dev/gender/inclusion', '', 'Environment and natural resources management', 'Social protection and risk management', 'Economic management', 'Environment and natural resources management', 'Public sector governance', 'Rule of law', 'Financial and private sector development', 'Financial and private sector development', 'Economic management', 'Public sector governance', 'Rural development', 'Rural development', 'Rural development', 'Public sector governance', 'Economic management', 'Financial and private sector development', 'Public sector governance', 'Environment and natural resources management', 'Environment and natural resources management', 'Trade and integration', '', 'Environment and natural resources management', 'Rural development', 'Environment and natural resources management', 'Social protection and risk management', 'Economic management', 'Economic management', 'Public sector governance', 'Public sector governance', 'Social protection and risk management', 'Public sector governance', 'Economic management', 'Social protection and risk management', 'Social protection and risk management', '', 'Social protection and risk management', '', 'Environment and natural resources management', '', 'Environment and natural resources management', '', 'Environment and natural resources management', 'Public sector governance', 'Human development', 'Human development', 'Rural development', 'Rural development', 'Rural development', 'Social protection and risk management', 'Financial and private sector development', 'Human development', 'Human development', 'Social protection and risk management', 'Economic management', '', 'Social protection and risk management', 'Economic management', 'Social dev/gender/inclusion', 'Human development', 'Financial and private sector development', 'Rural development', 'Trade and integration', 'Trade and integration', 'Rural development', '', 'Social dev/gender/inclusion', 'Social dev/gender/inclusion', 'Rural development', 'Human development', 'Rural development', 'Public sector governance', 'Public sector governance', 'Financial and private sector development', '', 'Human development', 'Financial and private sector development', 'Social dev/gender/inclusion', 'Public sector governance', 'Public sector governance', 'Environment and natural resources management', 'Environment and natural resources management', 'Social dev/gender/inclusion', 'Environment and natural resources management', 'Rule of law', 'Financial and private sector development', 'Social dev/gender/inclusion', 'Urban development', 'Public sector governance', 'Financial and private sector development', 'Public sector governance', 'Financial and private sector development', 'Public sector governance', 'Rural development', 'Social dev/gender/inclusion', 'Social dev/gender/inclusion', 'Rural development', 'Rural development', 'Social dev/gender/inclusion', 'Rule of law', 'Urban development', 'Human development', 'Human development', 'Human development', 'Human development', 'Human development', 'Rural development', 'Rural development', 'Rural development', 'Financial and private sector development', 'Human development', 'Rural development', 'Rural development', 'Rule of law', 'Social dev/gender/inclusion', 'Urban development', '', 'Human development', 'Environment and natural resources management', 'Human development', 'Social dev/gender/inclusion', 'Environment and natural resources management', 'Environment and natural resources management', 'Human development', 'Social dev/gender/inclusion', 'Social dev/gender/inclusion', '', 'Human development', '', 'Rural development', 'Rural development', 'Social dev/gender/inclusion', 'Rural development', 'Rural development', 'Financial and private sector development', 'Public sector governance', 'Financial and private sector development', 'Social protection and risk management', 'Social protection and risk management', 'Urban development', 'Environment and natural resources management', 'Rural development', 'Trade and integration', 'Social dev/gender/inclusion', 'Urban development', 'Human development', 'Social dev/gender/inclusion', 'Human development', '', 'Rural development', 'Public sector governance', 'Social dev/gender/inclusion', 'Human development', 'Public sector governance', 'Human development', '', 'Human development', '', 'Social protection and risk management', 'Financial and private sector development', 'Environment and natural resources management', 'Rural development', 'Social protection and risk management', 'Human development', 'Human development', 'Human development', 'Rural development', 'Public sector governance', 'Social protection and risk management', 'Trade and integration', 'Rural development', 'Rural development', 'Social dev/gender/inclusion', 'Environment and natural resources management', 'Human development', 'Public sector governance', 'Public sector governance', 'Social dev/gender/inclusion', 'Human development', 'Trade and integration', 'Rural development', 'Trade and integration', 'Financial and private sector development', 'Rural development', 'Environment and natural resources management', 'Public sector governance', 'Social dev/gender/inclusion', 'Environment and natural resources management', 'Public sector governance', 'Social protection and risk management', 'Rural development', 'Social dev/gender/inclusion', 'Public sector governance', 'Trade and integration', 'Human development', 'Social protection and risk management', 'Rural development', 'Rural development', 'Social dev/gender/inclusion', 'Environment and natural resources management', 'Social protection and risk management', 'Environment and natural resources management', 'Social dev/gender/inclusion', 'Public sector governance', 'Public sector governance', 'Financial and private sector development', 'Public sector governance', 'Social protection and risk management', 'Rule of law', 'Trade and integration', 'Financial and private sector development', '', 'Trade and integration', 'Rural development', 'Rural development', 'Social dev/gender/inclusion', 'Environment and natural resources management', 'Social dev/gender/inclusion', 'Environment and natural resources management', '', 'Environment and natural resources management', '', 'Urban development', 'Urban development', 'Financial and private sector development', 'Urban development', 'Rural development', '', 'Financial and private sector development', 'Rural development', 'Public sector governance', 'Rule of law', 'Environment and natural resources management', 'Social dev/gender/inclusion', '', 'Public sector governance', '', 'Human development', 'Social dev/gender/inclusion', 'Social dev/gender/inclusion', 'Human development', 'Rural development', 'Environment and natural resources management', 'Environment and natural resources management', 'Rural development', 'Environment and natural resources management', 'Environment and natural resources management', 'Rural development', 'Environment and natural resources management', 'Rural development', 'Financial and private sector development', 'Social dev/gender/inclusion', 'Rural development', 'Human development', '', 'Public sector governance', 'Social protection and risk management', 'Social protection and risk management', 'Social protection and risk management', 'Environment and natural resources management', 'Rural development', 'Rural development', 'Environment and natural resources management', 'Human development', 'Public sector governance', 'Public sector governance', 'Human development', 'Urban development', 'Social protection and risk management', 'Social protection and risk management', 'Urban development', 'Public sector governance', 'Public sector governance', 'Rural development', '', 'Human development', 'Social dev/gender/inclusion', 'Environment and natural resources management', '', 'Social protection and risk management', '', 'Financial and private sector development', 'Social dev/gender/inclusion', 'Human development', 'Trade and integration', 'Public sector governance', 'Human development', 'Rural development', '', 'Rural development', 'Rural development', 'Rural development', 'Urban development', 'Human development', 'Trade and integration', 'Financial and private sector development']\n",
      "['8', '11', '1', '6', '5', '2', '11', '6', '7', '7', '5', '4', '6', '6', '2', '4', '11', '8', '10', '7', '2', '2', '2', '10', '2', '10', '6', '6', '11', '4', '5', '11', '10', '6', '6', '6', '10', '11', '5', '10', '2', '8', '7', '8', '8', '2', '7', '8', '2', '2', '2', '7', '7', '9', '7', '7', '7', '8', '8', '10', '10', '10', '6', '11', '11', '11', '4', '5', '2', '8', '11', '2', '5', '6', '10', '10', '7', '7', '11', '8', '4', '11', '11', '11', '11', '11', '4', '6', '1', '4', '2', '8', '5', '5', '7', '10', '4', '10', '11', '6', '7', '11', '11', '6', '11', '11', '2', '4', '11', '6', '11', '11', '4', '8', '2', '2', '2', '8', '11', '7', '8', '10', '2', '10', '4', '4', '11', '11', '4', '4', '7', '6', '2', '11', '4', '11', '11', '11', '11', '11', '11', '11', '10', '2', '5', '2', '8', '8', '8', '11', '7', '11', '11', '11', '4', '4', '11', '2', '10', '10', '11', '11', '2', '7', '2', '10', '5', '6', '10', '10', '11', '4', '6', '2', '6', '1', '2', '11', '2', '4', '7', '10', '5', '9', '11', '7', '8', '11', '7', '6', '8', '8', '8', '4', '9', '10', '11', '4', '4', '4', '9', '5', '2', '5', '1', '1', '8', '4', '4', '11', '11', '2', '1', '6', '6', '6', '2', '10', '2', '4', '1', '6', '1', '1', '7', '5', '2', '2', '8', '8', '4', '2', '6', '11', '2', '4', '7', '8', '8', '8', '8', '4', '11', '11', '4', '8', '5', '4', '7', '1', '6', '4', '3', '4', '4', '10', '10', '10', '10', '10', '7', '10', '10', '5', '4', '5', '5', '5', '2', '10', '11', '10', '10', '10', '4', '10', '2', '11', '8', '8', '2', '5', '6', '11', '11', '4', '5', '11', '2', '2', '2', '11', '6', '7', '11', '7', '4', '2', '7', '6', '6', '2', '8', '10', '7', '8', '2', '8', '6', '7', '2', '6', '2', '4', '10', '8', '4', '5', '9', '2', '9', '6', '6', '8', '8', '7', '6', '6', '6', '6', '6', '4', '2', '9', '6', '10', '10', '10', '11', '2', '2', '9', '6', '11', '10', '2', '2', '6', '10', '2', '2', '2', '2', '10', '9', '2', '9', '1', '2', '3', '6', '6', '4', '1', '4', '7', '6', '2', '11', '9', '2', '8', '2', '8', '11', '11', '5', '11', '4', '6', '2', '7', '2', '2', '6', '6', '8', '8', '2', '11', '4', '10', '10', '5', '4', '4', '5', '5', '4', '4', '2', '6', '10', '11', '2', '4', '4', '11', '11', '7', '11', '11', '11', '8', '9', '3', '5', '4', '6', '11', '2', '11', '11', '11', '10', '4', '7', '4', '6', '6', '6', '2', '11', '8', '11', '10', '6', '10', '10', '7', '10', '7', '4', '11', '10', '11', '11', '9', '4', '11', '6', '2', '4', '1', '1', '4', '2', '10', '1', '8', '9', '8', '2', '11', '11', '8', '8', '8', '8', '8', '11', '9', '11', '11', '11', '2', '11', '11', '10', '10', '5', '4', '4', '5', '8', '8', '2', '5', '4', '2', '8', '2', '7', '3', '4', '6', '2', '1', '5', '6', '2', '2', '2', '11', '11', '10', '10', '2', '3', '3', '7', '11', '9', '9', '8', '6', '2', '2', '2', '11', '11', '11', '10', '11', '6', '8', '10', '10', '11', '4', '11', '10', '4', '5', '5', '9', '8', '6', '8', '6', '8', '8', '6', '4', '4', '7', '2', '8', '10', '8', '6', '8', '6', '6', '6', '6', '2', '2', '2', '4', '5', '8', '11', '11', '7', '11', '11', '11', '11', '11', '9', '2', '4', '10', '8', '8', '8', '2', '2', '2', '7', '2', '4', '5', '5', '9', '11', '11', '11', '7', '2', '2', '2', '2', '11', '6', '6', '9', '9', '5', '2', '5', '10', '11', '4', '4', '5', '2', '2', '7', '2', '6', '8', '8', '8', '8', '7', '6', '8', '6', '8', '8', '7', '10', '7', '8', '8', '8', '6', '8', '7', '11', '11', '11', '5', '11', '6', '8', '8', '6', '8', '8', '5', '2', '6', '2', '10', '1', '1', '2', '9', '11', '11', '4', '5', '11', '11', '5', '4', '2', '2', '2', '11', '10', '11', '2', '10', '11', '11', '9', '4', '4', '10', '10', '4', '10', '11', '6', '2', '7', '8', '8', '11', '11', '7', '11', '11', '8', '8', '8', '7', '3', '10', '8', '11', '10', '8', '8', '8', '8', '8', '11', '7', '8', '10', '4', '2', '2', '10', '7', '10', '8', '7', '8', '8', '8', '8', '8', '6', '7', '8', '6', '8', '7', '10', '11', '11', '10', '10', '11', '10', '10', '9', '11', '11', '8', '8', '9', '9', '9', '7', '7', '9', '6', '10', '6', '2', '10', '11', '10', '10', '10', '10', '10', '7', '10', '10', '6', '8', '8', '8', '8', '4', '11', '10', '10', '10', '10', '2', '8', '5', '2', '6', '8', '8', '8', '8', '4', '11', '4', '4', '4', '5', '2', '1', '2', '6', '7', '11', '3', '10', '10', '8', '8', '4', '7', '11', '11', '4', '7', '6', '6', '6', '1', '6', '2', '6', '2', '2', '4', '4', '6', '7', '6', '2', '10', '4', '2', '4', '10', '2', '8', '9', '11', '10', '11', '10', '11', '11', '11', '7', '11', '11', '11', '6', '4', '6', '4', '2', '2', '4', '1', '2', '4', '8', '8', '4', '4', '4', '10', '8', '2', '8', '6', '10', '10', '5', '5', '2', '8', '11', '11', '11', '10', '11', '7', '6', '6', '6', '6', '11', '10', '11', '11', '4', '5', '2', '5', '7', '10', '8', '8', '8', '8', '8', '11', '10', '8', '8', '8', '7', '4', '10', '7', '2', '10', '2', '6', '6', '6', '1', '8', '2', '2', '2', '8', '5', '8', '10', '5', '5', '8', '8', '8', '8', '8', '6', '9', '7', '10', '4', '10', '7', '10', '10', '4', '10', '11', '4', '10', '9', '4', '11', '10', '4', '7', '10', '11', '6', '11', '9', '11', '11', '7', '7', '8', '6', '8', '8', '8', '10', '4', '10', '8', '10', '10', '11', '11', '11', '11', '11', '4', '9', '8', '8', '8', '2', '2', '5', '6', '10', '6', '6', '4', '4', '4', '8', '10', '10', '10', '8', '6', '7', '6', '6', '5', '10', '4', '5', '11', '11', '10', '10', '11', '8', '8', '8', '8', '11', '6', '11', '2', '11', '7', '11', '11', '11', '4', '2', '5', '1', '4', '2', '10', '8', '11', '10', '6', '11', '2', '10', '8', '11', '2', '1', '11', '10', '10', '2', '3', '11', '7', '10', '11', '11', '8', '8', '11', '6', '6', '11', '11', '6', '8', '2', '1', '11', '7', '11', '6', '11', '11', '7', '11', '11', '11', '1', '1', '2', '2', '10', '8', '4', '11', '11', '11', '11', '11', '7', '2', '7', '10', '7', '10', '11', '7', '10', '10', '1', '8', '6', '6', '2', '2', '2', '7', '10', '7', '10', '10', '8', '7', '11', '10', '7', '9', '6', '7', '7', '2', '2', '2', '9', '9', '9', '6', '8', '6', '6', '7', '8', '6', '6', '6', '1', '6', '6', '10', '7', '10', '8', '8', '10', '10', '7', '6', '11', '8', '2', '6', '5', '5', '5', '7', '10', '7', '10', '7', '11', '10', '6', '2', '2', '2', '2', '5', '5', '4', '10', '6', '8', '8', '8', '8', '8', '6', '10', '6', '6', '10', '6', '10', '11', '10', '10', '4', '9', '11', '10', '10', '11', '10', '8', '2', '6', '4', '8', '10', '10', '11', '11', '11', '10', '4', '5', '5', '10', '6', '4', '7', '7', '7', '2', '6', '6', '2', '4', '7', '4', '4', '10', '11', '7', '2', '11', '6', '1', '11', '2', '3', '4', '4', '1', '2', '10', '10', '10', '2', '1', '4', '2', '11', '11', '5', '6', '11', '10', '11', '6', '1', '1', '2', '2', '6', '2', '1', '6', '6', '6', '6', '6', '11', '4', '11', '6', '11', '2', '8', '8', '10', '10', '10', '6', '4', '8', '8', '6', '1', '8', '6', '1', '7', '8', '4', '10', '5', '5', '10', '2', '7', '7', '10', '8', '10', '2', '2', '4', '4', '8', '4', '7', '2', '2', '11', '11', '7', '11', '3', '4', '7', '9', '2', '4', '2', '4', '2', '10', '7', '7', '10', '10', '7', '3', '9', '8', '8', '8', '8', '8', '10', '10', '10', '4', '8', '10', '10', '3', '7', '9', '5', '8', '11', '8', '7', '11', '11', '8', '7', '7', '4', '8', '11', '10', '10', '7', '10', '10', '4', '2', '4', '6', '6', '9', '11', '10', '5', '7', '9', '8', '7', '8', '2', '10', '2', '7', '8', '2', '8', '2', '8', '11', '6', '4', '11', '10', '6', '8', '8', '8', '10', '2', '6', '5', '10', '10', '7', '11', '8', '2', '2', '7', '8', '5', '10', '5', '4', '10', '11', '2', '7', '11', '2', '6', '10', '7', '2', '5', '8', '6', '10', '10', '7', '11', '6', '11', '7', '2', '2', '4', '2', '6', '3', '5', '4', '11', '5', '10', '10', '7', '11', '7', '11', '11', '11', '4', '9', '9', '4', '9', '10', '8', '4', '10', '2', '3', '11', '7', '1', '2', '11', '8', '7', '7', '8', '10', '11', '11', '10', '11', '11', '10', '11', '10', '4', '7', '10', '8', '4', '2', '6', '6', '6', '11', '10', '10', '11', '8', '2', '2', '8', '9', '6', '6', '9', '2', '2', '10', '11', '8', '7', '11', '5', '6', '8', '4', '7', '8', '5', '2', '8', '10', '6', '10', '10', '10', '9', '8', '5', '4']\n"
     ]
    }
   ],
   "source": [
    "projecttheme_list = []\n",
    "projecttheme_code_list = []\n",
    "for entry in df_json_projectthemes:\n",
    "    for diction in entry:\n",
    "        for key, item in diction.items():\n",
    "            #print(key,item)\n",
    "            if(key == 'name'):\n",
    "                projecttheme_list.append(item)\n",
    "            elif(key == 'code'):\n",
    "                projecttheme_code_list.append(item)\n",
    "print(projecttheme_list)\n",
    "print(projecttheme_code_list)\n",
    "    \n"
   ]
  },
  {
   "cell_type": "code",
   "execution_count": null,
   "metadata": {
    "collapsed": true
   },
   "outputs": [],
   "source": [
    "df_projecttheme = pd.DataFrame()\n",
    "df_projecttheme.columns = ['code','name']\n",
    "for entry in df_json_projectthemes:\n",
    "    for diction in entry:\n",
    "        for key, item in diction.items():\n",
    "            #print(key,item)\n",
    "            if(key == 'name'):\n",
    "                df_projecttheme['name'] = item\n",
    "#print(projecttheme_list)\n",
    "    "
   ]
  },
  {
   "cell_type": "markdown",
   "metadata": {},
   "source": [
    "### Step 3: Convert the list into a Series and use the value_counts() method to find the top 10 project themes"
   ]
  },
  {
   "cell_type": "code",
   "execution_count": 47,
   "metadata": {
    "collapsed": false
   },
   "outputs": [
    {
     "name": "stdout",
     "output_type": "stream",
     "text": [
      "Environment and natural resources management    223\n",
      "Rural development                               202\n",
      "Human development                               197\n",
      "Public sector governance                        184\n",
      "Social protection and risk management           158\n",
      "Financial and private sector development        130\n",
      "                                                122\n",
      "Social dev/gender/inclusion                     119\n",
      "Trade and integration                            72\n",
      "Urban development                                47\n",
      "Economic management                              33\n",
      "Rule of law                                      12\n",
      "dtype: int64\n"
     ]
    }
   ],
   "source": [
    "print(pd.Series(projecttheme_list).value_counts())"
   ]
  },
  {
   "cell_type": "markdown",
   "metadata": {},
   "source": [
    "### Step 4: Fill in the missing values for theme name\n",
    "#### First, put the codes and themes into separate Series\n",
    "#### Next, concatenate the two series into one dataframe of just code and theme name"
   ]
  },
  {
   "cell_type": "code",
   "execution_count": 81,
   "metadata": {
    "collapsed": false
   },
   "outputs": [
    {
     "name": "stdout",
     "output_type": "stream",
     "text": [
      "  code                                  theme\n",
      "0    8                      Human development\n",
      "1   11                                       \n",
      "2    1                    Economic management\n",
      "3    6  Social protection and risk management\n",
      "4    5                  Trade and integration\n"
     ]
    }
   ],
   "source": [
    "code = pd.Series(projecttheme_code_list,name='code')\n",
    "themes = pd.Series(projecttheme_list,name='theme')\n",
    "df_code_theme = pd.concat([code,themes],axis=1)\n",
    "print(df_code_theme.head())"
   ]
  },
  {
   "cell_type": "code",
   "execution_count": 85,
   "metadata": {
    "collapsed": false
   },
   "outputs": [
    {
     "name": "stdout",
     "output_type": "stream",
     "text": [
      "   code theme\n",
      "1    11      \n",
      "13    6      \n",
      "17    8      \n",
      "19    7      \n",
      "24    2      \n"
     ]
    }
   ],
   "source": [
    "df_blankthemes = df_code_theme[df_code_theme['theme'] == \"\"]\n",
    "print(df_blankthemes.head())"
   ]
  },
  {
   "cell_type": "markdown",
   "metadata": {},
   "source": [
    "#### Iterate over the new tidier dataframe.  Look for entires in which the theme name is blank\n",
    "#### Then search through the dataframe again using the code of the missing theme name\n",
    "#### Find an instance of the code (where the theme name is not blank) and use that name to fill in the original entry."
   ]
  },
  {
   "cell_type": "code",
   "execution_count": 86,
   "metadata": {
    "collapsed": false
   },
   "outputs": [
    {
     "name": "stdout",
     "output_type": "stream",
     "text": [
      "  code                                         theme\n",
      "0    8                             Human development\n",
      "1   11  Environment and natural resources management\n",
      "2    1                           Economic management\n",
      "3    6         Social protection and risk management\n",
      "4    5                         Trade and integration\n"
     ]
    }
   ],
   "source": [
    "for index,row in df_code_theme.iterrows():\n",
    "    if row.theme == '':\n",
    "        temp_code = row.code\n",
    "        for index1,row1 in df_code_theme.iterrows():\n",
    "            if (row1.code == temp_code and row1.theme != \"\"):\n",
    "                correct_theme = row1.theme\n",
    "        row.theme = correct_theme\n",
    "print(df_code_theme.head())"
   ]
  },
  {
   "cell_type": "markdown",
   "metadata": {},
   "source": [
    "#### Use the describe() method on the dataframe to confirm that there are the same number of unqiue entries for code and theme."
   ]
  },
  {
   "cell_type": "code",
   "execution_count": 87,
   "metadata": {
    "collapsed": false
   },
   "outputs": [
    {
     "data": {
      "text/html": [
       "<div>\n",
       "<table border=\"1\" class=\"dataframe\">\n",
       "  <thead>\n",
       "    <tr style=\"text-align: right;\">\n",
       "      <th></th>\n",
       "      <th>code</th>\n",
       "      <th>theme</th>\n",
       "    </tr>\n",
       "  </thead>\n",
       "  <tbody>\n",
       "    <tr>\n",
       "      <th>count</th>\n",
       "      <td>1499</td>\n",
       "      <td>1499</td>\n",
       "    </tr>\n",
       "    <tr>\n",
       "      <th>unique</th>\n",
       "      <td>11</td>\n",
       "      <td>11</td>\n",
       "    </tr>\n",
       "    <tr>\n",
       "      <th>top</th>\n",
       "      <td>11</td>\n",
       "      <td>Environment and natural resources management</td>\n",
       "    </tr>\n",
       "    <tr>\n",
       "      <th>freq</th>\n",
       "      <td>250</td>\n",
       "      <td>250</td>\n",
       "    </tr>\n",
       "  </tbody>\n",
       "</table>\n",
       "</div>"
      ],
      "text/plain": [
       "        code                                         theme\n",
       "count   1499                                          1499\n",
       "unique    11                                            11\n",
       "top       11  Environment and natural resources management\n",
       "freq     250                                           250"
      ]
     },
     "execution_count": 87,
     "metadata": {},
     "output_type": "execute_result"
    }
   ],
   "source": [
    "df_code_theme.describe()"
   ]
  },
  {
   "cell_type": "code",
   "execution_count": null,
   "metadata": {
    "collapsed": true
   },
   "outputs": [],
   "source": []
  }
 ],
 "metadata": {
  "kernelspec": {
   "display_name": "Python 3",
   "language": "python",
   "name": "python3"
  },
  "language_info": {
   "codemirror_mode": {
    "name": "ipython",
    "version": 3
   },
   "file_extension": ".py",
   "mimetype": "text/x-python",
   "name": "python",
   "nbconvert_exporter": "python",
   "pygments_lexer": "ipython3",
   "version": "3.6.0"
  }
 },
 "nbformat": 4,
 "nbformat_minor": 0
}
