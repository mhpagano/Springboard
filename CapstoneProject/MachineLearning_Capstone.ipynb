{
 "cells": [
  {
   "cell_type": "markdown",
   "metadata": {},
   "source": [
    "# Machine Learning Code for Capstone"
   ]
  },
  {
   "cell_type": "code",
   "execution_count": 2,
   "metadata": {
    "collapsed": true
   },
   "outputs": [],
   "source": [
    "import pandas as pd\n",
    "import matplotlib.pyplot as plt\n",
    "import seaborn as sns\n",
    "import numpy as np\n",
    "from scipy.stats.stats import pearsonr \n",
    "import math\n",
    "from pylab import *"
   ]
  },
  {
   "cell_type": "markdown",
   "metadata": {},
   "source": [
    "#### Read in TSV Data.  Format Salary field properly."
   ]
  },
  {
   "cell_type": "code",
   "execution_count": 3,
   "metadata": {
    "collapsed": true
   },
   "outputs": [],
   "source": [
    "df_total = pd.read_csv('test_player_dataframe_1.txt',sep='\\t')\n",
    "\n",
    "df_total.Salary = df_total['Salary'].str.replace('$','')\n",
    "df_total.Salary = df_total['Salary'].str.replace(',','')\n",
    "df_total.Salary = df_total['Salary'].astype(float)\n",
    "\n",
    "## Multiply by the 2018 NBA Salary cap of $102M\n",
    "df_total['Salary_2018'] = df_total['Salary%']*102000000"
   ]
  },
  {
   "cell_type": "markdown",
   "metadata": {},
   "source": [
    "### Create Weighted Average Dataframe \n",
    "Create a dataframe that represents the weighted averages of each player's seasons on their rookie contract.  This will give us a representation of their body of work up until the point of their new contract.  Store the player's new non-rookie contract in the same row so we can see the relationships between the weighted averages of statistics and their new contract."
   ]
  },
  {
   "cell_type": "code",
   "execution_count": 4,
   "metadata": {
    "collapsed": true
   },
   "outputs": [],
   "source": [
    "players = df_total['Player'].unique()\n",
    "\n",
    "list_of_rookie_contract_data = []\n",
    "list_of_first_contract_data = []\n",
    "list_of_columns_to_average = ['Age','G','GS','MP_x','FG','FGA',\n",
    " 'FG%','3P','3PA','3P%','2P','2PA','2P%','eFG%','FT','FTA','FT%','ORB',\n",
    " 'DRB','TRB','AST','STL','BLK','TOV','PF','PTS','MP_y','PER','TS%','3PAr',\n",
    " 'FTr','ORB%','DRB%','TRB%','AST%','STL%','BLK%','TOV%','USG%','OWS','DWS',\n",
    " 'WS','WS/48','OBPM','DBPM','BPM','VORP']\n",
    "list_of_averaged_rows = []\n",
    "\n",
    "#For each player in original dataset, create a Rookie table of just his first 4 seasons\n",
    "#Also create a Contract datatable of his first year with the new contract\n",
    "for player in players:\n",
    "    df_player = df_total[df_total['Player'] == player]\n",
    "    df_player_rookie = df_player.iloc[0:3]\n",
    "    df_player_contract = df_player.iloc[4:5]\n",
    "#Append these individual dataframes to separate lists, they will later be concatendated into one larger dataframe    \n",
    "    list_of_rookie_contract_data.append(df_player_rookie)\n",
    "    list_of_first_contract_data.append(df_player_contract)\n",
    "\n",
    "#############################################################################################\n",
    "# Create a dataframe of the weight averages of numerical columns during players first 4 seasons\n",
    "#############################################################################################    \n",
    "    weight_array =[]\n",
    "    total_minutes = 0\n",
    "    for index, row in df_player_rookie.iterrows():\n",
    "        #The weight used will be based off minutes played for each seasons\n",
    "        weight = row.MP_x * row.G\n",
    "        #Make an array of the weights for each season\n",
    "        weight_array.append(weight)\n",
    "        total_minutes = weight + total_minutes\n",
    "    #If they didn't play in a given season, skip    \n",
    "    if total_minutes == 0:\n",
    "        continue\n",
    "    #Normalize the weight array    \n",
    "    weight_array[:] = [x / total_minutes for x in weight_array]\n",
    "\n",
    "    ##Iterate through the new Rookie dataframe, apply weighted average for numerical columns\n",
    "    ##If column is Salary, grab it from the Contract table\n",
    "    ##If column is non-numeric, just add a placeholder value to the row\n",
    "    new_row = []\n",
    "    if len(df_player) <5:\n",
    "        continue\n",
    "    for column in df_player_rookie.columns:        \n",
    "        if column in list_of_columns_to_average:\n",
    "            new_row.append(np.dot(weight_array,df_player_rookie[column]))\n",
    "        elif column == 'Salary':\n",
    "            new_row.append(df_player.iloc[4:5]['Salary'].values[0])\n",
    "        elif column == 'Salary%':\n",
    "            new_row.append(df_player.iloc[4:5]['Salary%'].values[0])    \n",
    "        elif column == 'Salary_2018':\n",
    "            new_row.append(df_player.iloc[4:5]['Salary_2018'].values[0])  \n",
    "        else:\n",
    "            var = df_player_rookie.iloc[:-2][column].values[0]\n",
    "            new_row.append(var)\n",
    "    list_of_averaged_rows.append(new_row)\n",
    "list_of_averaged_rows = pd.Series(list_of_averaged_rows)\n",
    "\n",
    "##Make the larger rookie and contract dataframes\n",
    "df_rookie_total = pd.concat(list_of_rookie_contract_data)\n",
    "df_contract_total = pd.concat(list_of_first_contract_data)\n",
    "##Make the larger rookie_averages dataframe\n",
    "df_rookie_averages = pd.DataFrame.from_items(zip(list_of_averaged_rows.index,list_of_averaged_rows.values)).T\n",
    "df_rookie_averages.columns = list(df_total.columns.values)"
   ]
  },
  {
   "cell_type": "markdown",
   "metadata": {},
   "source": [
    "## Train-Test Split - General Linear Regression Model"
   ]
  },
  {
   "cell_type": "code",
   "execution_count": 40,
   "metadata": {
    "collapsed": false,
    "scrolled": true
   },
   "outputs": [
    {
     "data": {
      "text/html": [
       "<table class=\"simpletable\">\n",
       "<caption>OLS Regression Results</caption>\n",
       "<tr>\n",
       "  <th>Dep. Variable:</th>            <td>y</td>        <th>  R-squared:         </th> <td>   0.642</td> \n",
       "</tr>\n",
       "<tr>\n",
       "  <th>Model:</th>                   <td>OLS</td>       <th>  Adj. R-squared:    </th> <td>   0.638</td> \n",
       "</tr>\n",
       "<tr>\n",
       "  <th>Method:</th>             <td>Least Squares</td>  <th>  F-statistic:       </th> <td>   180.5</td> \n",
       "</tr>\n",
       "<tr>\n",
       "  <th>Date:</th>             <td>Mon, 09 Jul 2018</td> <th>  Prob (F-statistic):</th> <td>3.02e-131</td>\n",
       "</tr>\n",
       "<tr>\n",
       "  <th>Time:</th>                 <td>21:17:18</td>     <th>  Log-Likelihood:    </th> <td> -10256.</td> \n",
       "</tr>\n",
       "<tr>\n",
       "  <th>No. Observations:</th>      <td>   612</td>      <th>  AIC:               </th> <td>2.053e+04</td>\n",
       "</tr>\n",
       "<tr>\n",
       "  <th>Df Residuals:</th>          <td>   605</td>      <th>  BIC:               </th> <td>2.056e+04</td>\n",
       "</tr>\n",
       "<tr>\n",
       "  <th>Df Model:</th>              <td>     6</td>      <th>                     </th>     <td> </td>    \n",
       "</tr>\n",
       "<tr>\n",
       "  <th>Covariance Type:</th>      <td>nonrobust</td>    <th>                     </th>     <td> </td>    \n",
       "</tr>\n",
       "</table>\n",
       "<table class=\"simpletable\">\n",
       "<tr>\n",
       "    <td></td>       <th>coef</th>     <th>std err</th>      <th>t</th>      <th>P>|t|</th> <th>[95.0% Conf. Int.]</th> \n",
       "</tr>\n",
       "<tr>\n",
       "  <th>const</th> <td> 8.718e+06</td> <td> 2.86e+06</td> <td>    3.049</td> <td> 0.002</td> <td>  3.1e+06  1.43e+07</td>\n",
       "</tr>\n",
       "<tr>\n",
       "  <th>PTS</th>   <td>  6.81e+05</td> <td> 6.61e+04</td> <td>   10.301</td> <td> 0.000</td> <td> 5.51e+05  8.11e+05</td>\n",
       "</tr>\n",
       "<tr>\n",
       "  <th>AST</th>   <td> 2.835e+05</td> <td> 1.68e+05</td> <td>    1.685</td> <td> 0.093</td> <td> -4.7e+04  6.14e+05</td>\n",
       "</tr>\n",
       "<tr>\n",
       "  <th>TRB</th>   <td> 2.624e+05</td> <td> 1.58e+05</td> <td>    1.663</td> <td> 0.097</td> <td>-4.74e+04  5.72e+05</td>\n",
       "</tr>\n",
       "<tr>\n",
       "  <th>BLK</th>   <td> 2.218e+06</td> <td> 5.28e+05</td> <td>    4.203</td> <td> 0.000</td> <td> 1.18e+06  3.25e+06</td>\n",
       "</tr>\n",
       "<tr>\n",
       "  <th>DWS</th>   <td> 1.969e+06</td> <td> 3.06e+05</td> <td>    6.442</td> <td> 0.000</td> <td> 1.37e+06  2.57e+06</td>\n",
       "</tr>\n",
       "<tr>\n",
       "  <th>Age</th>   <td>-4.874e+05</td> <td>  1.2e+05</td> <td>   -4.051</td> <td> 0.000</td> <td>-7.24e+05 -2.51e+05</td>\n",
       "</tr>\n",
       "</table>\n",
       "<table class=\"simpletable\">\n",
       "<tr>\n",
       "  <th>Omnibus:</th>       <td>45.271</td> <th>  Durbin-Watson:     </th> <td>   2.018</td>\n",
       "</tr>\n",
       "<tr>\n",
       "  <th>Prob(Omnibus):</th> <td> 0.000</td> <th>  Jarque-Bera (JB):  </th> <td> 126.741</td>\n",
       "</tr>\n",
       "<tr>\n",
       "  <th>Skew:</th>          <td> 0.338</td> <th>  Prob(JB):          </th> <td>3.01e-28</td>\n",
       "</tr>\n",
       "<tr>\n",
       "  <th>Kurtosis:</th>      <td> 5.125</td> <th>  Cond. No.          </th> <td>    385.</td>\n",
       "</tr>\n",
       "</table>"
      ],
      "text/plain": [
       "<class 'statsmodels.iolib.summary.Summary'>\n",
       "\"\"\"\n",
       "                            OLS Regression Results                            \n",
       "==============================================================================\n",
       "Dep. Variable:                      y   R-squared:                       0.642\n",
       "Model:                            OLS   Adj. R-squared:                  0.638\n",
       "Method:                 Least Squares   F-statistic:                     180.5\n",
       "Date:                Mon, 09 Jul 2018   Prob (F-statistic):          3.02e-131\n",
       "Time:                        21:17:18   Log-Likelihood:                -10256.\n",
       "No. Observations:                 612   AIC:                         2.053e+04\n",
       "Df Residuals:                     605   BIC:                         2.056e+04\n",
       "Df Model:                           6                                         \n",
       "Covariance Type:            nonrobust                                         \n",
       "==============================================================================\n",
       "                 coef    std err          t      P>|t|      [95.0% Conf. Int.]\n",
       "------------------------------------------------------------------------------\n",
       "const       8.718e+06   2.86e+06      3.049      0.002       3.1e+06  1.43e+07\n",
       "PTS          6.81e+05   6.61e+04     10.301      0.000      5.51e+05  8.11e+05\n",
       "AST         2.835e+05   1.68e+05      1.685      0.093      -4.7e+04  6.14e+05\n",
       "TRB         2.624e+05   1.58e+05      1.663      0.097     -4.74e+04  5.72e+05\n",
       "BLK         2.218e+06   5.28e+05      4.203      0.000      1.18e+06  3.25e+06\n",
       "DWS         1.969e+06   3.06e+05      6.442      0.000      1.37e+06  2.57e+06\n",
       "Age        -4.874e+05    1.2e+05     -4.051      0.000     -7.24e+05 -2.51e+05\n",
       "==============================================================================\n",
       "Omnibus:                       45.271   Durbin-Watson:                   2.018\n",
       "Prob(Omnibus):                  0.000   Jarque-Bera (JB):              126.741\n",
       "Skew:                           0.338   Prob(JB):                     3.01e-28\n",
       "Kurtosis:                       5.125   Cond. No.                         385.\n",
       "==============================================================================\n",
       "\n",
       "Warnings:\n",
       "[1] Standard Errors assume that the covariance matrix of the errors is correctly specified.\n",
       "\"\"\""
      ]
     },
     "execution_count": 40,
     "metadata": {},
     "output_type": "execute_result"
    }
   ],
   "source": [
    "import statsmodels.api as sm\n",
    "from sklearn.model_selection import train_test_split\n",
    "from math import sqrt\n",
    "\n",
    "target = pd.DataFrame(df_rookie_averages['Salary_2018'])\n",
    "independent_vars = df_rookie_averages.loc[:,['PTS','AST','TRB','BLK','DWS','Age']]\n",
    "independent_vars.astype(float)\n",
    "independent_vars.dropna(inplace=True)\n",
    "independent_vars = sm.add_constant(independent_vars)\n",
    "\n",
    "X_train, X_test, y_train, y_test = train_test_split(independent_vars, target, test_size=0.2)\n",
    "\n",
    "\n",
    "model = sm.OLS(list(y_train['Salary_2018'].astype(float)),X_train.astype(float)).fit()\n",
    "\n",
    "model.summary()"
   ]
  },
  {
   "cell_type": "code",
   "execution_count": 41,
   "metadata": {
    "collapsed": false
   },
   "outputs": [
    {
     "name": "stdout",
     "output_type": "stream",
     "text": [
      "RMSE:  4675714.773709403\n"
     ]
    }
   ],
   "source": [
    "from sklearn.metrics import mean_squared_error\n",
    "from math import sqrt\n",
    "\n",
    "predictions = model.predict(X_test)\n",
    "\n",
    "rmse = sqrt(mean_squared_error(np.array(y_test), np.array(predictions)))\n",
    "print(\"RMSE: \",rmse)"
   ]
  },
  {
   "cell_type": "markdown",
   "metadata": {},
   "source": [
    "## General Model (No Train-Test Split)"
   ]
  },
  {
   "cell_type": "code",
   "execution_count": 8,
   "metadata": {
    "collapsed": false
   },
   "outputs": [
    {
     "data": {
      "text/html": [
       "<table class=\"simpletable\">\n",
       "<caption>OLS Regression Results</caption>\n",
       "<tr>\n",
       "  <th>Dep. Variable:</th>            <td>y</td>        <th>  R-squared:         </th> <td>   0.646</td> \n",
       "</tr>\n",
       "<tr>\n",
       "  <th>Model:</th>                   <td>OLS</td>       <th>  Adj. R-squared:    </th> <td>   0.644</td> \n",
       "</tr>\n",
       "<tr>\n",
       "  <th>Method:</th>             <td>Least Squares</td>  <th>  F-statistic:       </th> <td>   231.2</td> \n",
       "</tr>\n",
       "<tr>\n",
       "  <th>Date:</th>             <td>Mon, 09 Jul 2018</td> <th>  Prob (F-statistic):</th> <td>1.50e-167</td>\n",
       "</tr>\n",
       "<tr>\n",
       "  <th>Time:</th>                 <td>20:42:53</td>     <th>  Log-Likelihood:    </th> <td> -12838.</td> \n",
       "</tr>\n",
       "<tr>\n",
       "  <th>No. Observations:</th>      <td>   766</td>      <th>  AIC:               </th> <td>2.569e+04</td>\n",
       "</tr>\n",
       "<tr>\n",
       "  <th>Df Residuals:</th>          <td>   759</td>      <th>  BIC:               </th> <td>2.572e+04</td>\n",
       "</tr>\n",
       "<tr>\n",
       "  <th>Df Model:</th>              <td>     6</td>      <th>                     </th>     <td> </td>    \n",
       "</tr>\n",
       "<tr>\n",
       "  <th>Covariance Type:</th>      <td>nonrobust</td>    <th>                     </th>     <td> </td>    \n",
       "</tr>\n",
       "</table>\n",
       "<table class=\"simpletable\">\n",
       "<tr>\n",
       "    <td></td>       <th>coef</th>     <th>std err</th>      <th>t</th>      <th>P>|t|</th> <th>[95.0% Conf. Int.]</th> \n",
       "</tr>\n",
       "<tr>\n",
       "  <th>const</th> <td> 7.937e+06</td> <td> 2.58e+06</td> <td>    3.075</td> <td> 0.002</td> <td> 2.87e+06   1.3e+07</td>\n",
       "</tr>\n",
       "<tr>\n",
       "  <th>PTS</th>   <td> 7.123e+05</td> <td> 5.89e+04</td> <td>   12.095</td> <td> 0.000</td> <td> 5.97e+05  8.28e+05</td>\n",
       "</tr>\n",
       "<tr>\n",
       "  <th>AST</th>   <td> 3.463e+05</td> <td> 1.51e+05</td> <td>    2.291</td> <td> 0.022</td> <td> 4.95e+04  6.43e+05</td>\n",
       "</tr>\n",
       "<tr>\n",
       "  <th>TRB</th>   <td> 3.316e+05</td> <td> 1.45e+05</td> <td>    2.294</td> <td> 0.022</td> <td> 4.79e+04  6.15e+05</td>\n",
       "</tr>\n",
       "<tr>\n",
       "  <th>BLK</th>   <td> 1.869e+06</td> <td> 4.81e+05</td> <td>    3.882</td> <td> 0.000</td> <td> 9.24e+05  2.81e+06</td>\n",
       "</tr>\n",
       "<tr>\n",
       "  <th>DWS</th>   <td>  1.86e+06</td> <td> 2.74e+05</td> <td>    6.777</td> <td> 0.000</td> <td> 1.32e+06   2.4e+06</td>\n",
       "</tr>\n",
       "<tr>\n",
       "  <th>Age</th>   <td>-4.667e+05</td> <td> 1.09e+05</td> <td>   -4.284</td> <td> 0.000</td> <td>-6.81e+05 -2.53e+05</td>\n",
       "</tr>\n",
       "</table>\n",
       "<table class=\"simpletable\">\n",
       "<tr>\n",
       "  <th>Omnibus:</th>       <td>64.742</td> <th>  Durbin-Watson:     </th> <td>   1.884</td>\n",
       "</tr>\n",
       "<tr>\n",
       "  <th>Prob(Omnibus):</th> <td> 0.000</td> <th>  Jarque-Bera (JB):  </th> <td> 202.619</td>\n",
       "</tr>\n",
       "<tr>\n",
       "  <th>Skew:</th>          <td> 0.377</td> <th>  Prob(JB):          </th> <td>1.00e-44</td>\n",
       "</tr>\n",
       "<tr>\n",
       "  <th>Kurtosis:</th>      <td> 5.404</td> <th>  Cond. No.          </th> <td>    388.</td>\n",
       "</tr>\n",
       "</table>"
      ],
      "text/plain": [
       "<class 'statsmodels.iolib.summary.Summary'>\n",
       "\"\"\"\n",
       "                            OLS Regression Results                            \n",
       "==============================================================================\n",
       "Dep. Variable:                      y   R-squared:                       0.646\n",
       "Model:                            OLS   Adj. R-squared:                  0.644\n",
       "Method:                 Least Squares   F-statistic:                     231.2\n",
       "Date:                Mon, 09 Jul 2018   Prob (F-statistic):          1.50e-167\n",
       "Time:                        20:42:53   Log-Likelihood:                -12838.\n",
       "No. Observations:                 766   AIC:                         2.569e+04\n",
       "Df Residuals:                     759   BIC:                         2.572e+04\n",
       "Df Model:                           6                                         \n",
       "Covariance Type:            nonrobust                                         \n",
       "==============================================================================\n",
       "                 coef    std err          t      P>|t|      [95.0% Conf. Int.]\n",
       "------------------------------------------------------------------------------\n",
       "const       7.937e+06   2.58e+06      3.075      0.002      2.87e+06   1.3e+07\n",
       "PTS         7.123e+05   5.89e+04     12.095      0.000      5.97e+05  8.28e+05\n",
       "AST         3.463e+05   1.51e+05      2.291      0.022      4.95e+04  6.43e+05\n",
       "TRB         3.316e+05   1.45e+05      2.294      0.022      4.79e+04  6.15e+05\n",
       "BLK         1.869e+06   4.81e+05      3.882      0.000      9.24e+05  2.81e+06\n",
       "DWS          1.86e+06   2.74e+05      6.777      0.000      1.32e+06   2.4e+06\n",
       "Age        -4.667e+05   1.09e+05     -4.284      0.000     -6.81e+05 -2.53e+05\n",
       "==============================================================================\n",
       "Omnibus:                       64.742   Durbin-Watson:                   1.884\n",
       "Prob(Omnibus):                  0.000   Jarque-Bera (JB):              202.619\n",
       "Skew:                           0.377   Prob(JB):                     1.00e-44\n",
       "Kurtosis:                       5.404   Cond. No.                         388.\n",
       "==============================================================================\n",
       "\n",
       "Warnings:\n",
       "[1] Standard Errors assume that the covariance matrix of the errors is correctly specified.\n",
       "\"\"\""
      ]
     },
     "execution_count": 8,
     "metadata": {},
     "output_type": "execute_result"
    }
   ],
   "source": [
    "import statsmodels.api as sm\n",
    "from sklearn.metrics import mean_squared_error\n",
    "from math import sqrt\n",
    "\n",
    "target = pd.DataFrame(df_rookie_averages['Salary_2018'])\n",
    "independent_vars = df_rookie_averages.loc[:,['PTS','AST','TRB','BLK','DWS','Age']]\n",
    "independent_vars.astype(float)\n",
    "independent_vars.dropna(inplace=True)\n",
    "independent_vars.describe()\n",
    "\n",
    "independent_vars = sm.add_constant(independent_vars)\n",
    "model = sm.OLS(list(target['Salary_2018'].astype(float)),independent_vars.astype(float)).fit()\n",
    "\n",
    "model.summary()"
   ]
  },
  {
   "cell_type": "markdown",
   "metadata": {},
   "source": [
    "### Root Mean Squared Error for Generic Model"
   ]
  },
  {
   "cell_type": "code",
   "execution_count": 232,
   "metadata": {
    "collapsed": false
   },
   "outputs": [
    {
     "name": "stdout",
     "output_type": "stream",
     "text": [
      "Root Mean Squared Error\n",
      "4599388.877109679\n"
     ]
    }
   ],
   "source": [
    "print(\"Root Mean Squared Error\")\n",
    "print(sqrt(mean_squared_error(target['Salary_2018'].astype(float),model.predict(independent_vars.astype(float)))))"
   ]
  },
  {
   "cell_type": "code",
   "execution_count": 227,
   "metadata": {
    "collapsed": false
   },
   "outputs": [
    {
     "data": {
      "image/png": "[encoded data removed]",
      "text/plain": [
       "<matplotlib.figure.Figure at 0x2445734b5f8>"
      ]
     },
     "metadata": {},
     "output_type": "display_data"
    }
   ],
   "source": [
    "f, ax = plt.subplots(figsize=(6, 6))\n",
    "\n",
    "plt.scatter(target, model.predict(), color=\"g\", label=\"Linear\")\n",
    "\n",
    "ax.plot([0, 0.5], [0, 0.5], ls=\"--\", c=\".3\")\n",
    "ax.set(xlim=(0,0.5), ylim=(0,0.5))\n",
    "plt.title('Residual Plot for General Model')\n",
    "plt.show()"
   ]
  },
  {
   "cell_type": "markdown",
   "metadata": {
    "collapsed": true
   },
   "source": [
    "## Ensemble Model Approach"
   ]
  },
  {
   "cell_type": "markdown",
   "metadata": {},
   "source": [
    "##### Break up dataframe into position specific smaller dataframes"
   ]
  },
  {
   "cell_type": "code",
   "execution_count": 233,
   "metadata": {
    "collapsed": true
   },
   "outputs": [],
   "source": [
    "df_big_men_averages = df_rookie_averages[(df_rookie_averages.Pos == 'PF')|(df_rookie_averages.Pos == 'C')]\n",
    "df_wings_averages = df_rookie_averages[(df_rookie_averages.Pos == 'SF')|(df_rookie_averages.Pos == 'SG')]\n",
    "df_pointguard_averages = df_rookie_averages[(df_rookie_averages.Pos == 'PG')]"
   ]
  },
  {
   "cell_type": "markdown",
   "metadata": {},
   "source": [
    "### Point Guard Specific Sub-model"
   ]
  },
  {
   "cell_type": "code",
   "execution_count": 234,
   "metadata": {
    "collapsed": false
   },
   "outputs": [
    {
     "data": {
      "text/html": [
       "<table class=\"simpletable\">\n",
       "<caption>OLS Regression Results</caption>\n",
       "<tr>\n",
       "  <th>Dep. Variable:</th>            <td>y</td>        <th>  R-squared:         </th> <td>   0.609</td>\n",
       "</tr>\n",
       "<tr>\n",
       "  <th>Model:</th>                   <td>OLS</td>       <th>  Adj. R-squared:    </th> <td>   0.598</td>\n",
       "</tr>\n",
       "<tr>\n",
       "  <th>Method:</th>             <td>Least Squares</td>  <th>  F-statistic:       </th> <td>   56.48</td>\n",
       "</tr>\n",
       "<tr>\n",
       "  <th>Date:</th>             <td>Wed, 04 Jul 2018</td> <th>  Prob (F-statistic):</th> <td>1.21e-28</td>\n",
       "</tr>\n",
       "<tr>\n",
       "  <th>Time:</th>                 <td>09:45:42</td>     <th>  Log-Likelihood:    </th> <td> -2511.9</td>\n",
       "</tr>\n",
       "<tr>\n",
       "  <th>No. Observations:</th>      <td>   150</td>      <th>  AIC:               </th> <td>   5034.</td>\n",
       "</tr>\n",
       "<tr>\n",
       "  <th>Df Residuals:</th>          <td>   145</td>      <th>  BIC:               </th> <td>   5049.</td>\n",
       "</tr>\n",
       "<tr>\n",
       "  <th>Df Model:</th>              <td>     4</td>      <th>                     </th>     <td> </td>   \n",
       "</tr>\n",
       "<tr>\n",
       "  <th>Covariance Type:</th>      <td>nonrobust</td>    <th>                     </th>     <td> </td>   \n",
       "</tr>\n",
       "</table>\n",
       "<table class=\"simpletable\">\n",
       "<tr>\n",
       "    <td></td>       <th>coef</th>     <th>std err</th>      <th>t</th>      <th>P>|t|</th> <th>[95.0% Conf. Int.]</th> \n",
       "</tr>\n",
       "<tr>\n",
       "  <th>const</th> <td>-2.619e+06</td> <td> 9.01e+05</td> <td>   -2.906</td> <td> 0.004</td> <td> -4.4e+06 -8.38e+05</td>\n",
       "</tr>\n",
       "<tr>\n",
       "  <th>3P</th>    <td> 1.995e+06</td> <td> 7.69e+05</td> <td>    2.594</td> <td> 0.010</td> <td> 4.75e+05  3.51e+06</td>\n",
       "</tr>\n",
       "<tr>\n",
       "  <th>AST</th>   <td> 1.572e+06</td> <td> 2.28e+05</td> <td>    6.907</td> <td> 0.000</td> <td> 1.12e+06  2.02e+06</td>\n",
       "</tr>\n",
       "<tr>\n",
       "  <th>ORB</th>   <td> 3.651e+06</td> <td> 1.42e+06</td> <td>    2.575</td> <td> 0.011</td> <td> 8.49e+05  6.45e+06</td>\n",
       "</tr>\n",
       "<tr>\n",
       "  <th>BLK</th>   <td> 1.291e+07</td> <td> 3.37e+06</td> <td>    3.830</td> <td> 0.000</td> <td> 6.25e+06  1.96e+07</td>\n",
       "</tr>\n",
       "</table>\n",
       "<table class=\"simpletable\">\n",
       "<tr>\n",
       "  <th>Omnibus:</th>       <td> 2.905</td> <th>  Durbin-Watson:     </th> <td>   1.910</td>\n",
       "</tr>\n",
       "<tr>\n",
       "  <th>Prob(Omnibus):</th> <td> 0.234</td> <th>  Jarque-Bera (JB):  </th> <td>   3.059</td>\n",
       "</tr>\n",
       "<tr>\n",
       "  <th>Skew:</th>          <td> 0.015</td> <th>  Prob(JB):          </th> <td>   0.217</td>\n",
       "</tr>\n",
       "<tr>\n",
       "  <th>Kurtosis:</th>      <td> 3.699</td> <th>  Cond. No.          </th> <td>    41.6</td>\n",
       "</tr>\n",
       "</table>"
      ],
      "text/plain": [
       "<class 'statsmodels.iolib.summary.Summary'>\n",
       "\"\"\"\n",
       "                            OLS Regression Results                            \n",
       "==============================================================================\n",
       "Dep. Variable:                      y   R-squared:                       0.609\n",
       "Model:                            OLS   Adj. R-squared:                  0.598\n",
       "Method:                 Least Squares   F-statistic:                     56.48\n",
       "Date:                Wed, 04 Jul 2018   Prob (F-statistic):           1.21e-28\n",
       "Time:                        09:45:42   Log-Likelihood:                -2511.9\n",
       "No. Observations:                 150   AIC:                             5034.\n",
       "Df Residuals:                     145   BIC:                             5049.\n",
       "Df Model:                           4                                         \n",
       "Covariance Type:            nonrobust                                         \n",
       "==============================================================================\n",
       "                 coef    std err          t      P>|t|      [95.0% Conf. Int.]\n",
       "------------------------------------------------------------------------------\n",
       "const      -2.619e+06   9.01e+05     -2.906      0.004      -4.4e+06 -8.38e+05\n",
       "3P          1.995e+06   7.69e+05      2.594      0.010      4.75e+05  3.51e+06\n",
       "AST         1.572e+06   2.28e+05      6.907      0.000      1.12e+06  2.02e+06\n",
       "ORB         3.651e+06   1.42e+06      2.575      0.011      8.49e+05  6.45e+06\n",
       "BLK         1.291e+07   3.37e+06      3.830      0.000      6.25e+06  1.96e+07\n",
       "==============================================================================\n",
       "Omnibus:                        2.905   Durbin-Watson:                   1.910\n",
       "Prob(Omnibus):                  0.234   Jarque-Bera (JB):                3.059\n",
       "Skew:                           0.015   Prob(JB):                        0.217\n",
       "Kurtosis:                       3.699   Cond. No.                         41.6\n",
       "==============================================================================\n",
       "\n",
       "Warnings:\n",
       "[1] Standard Errors assume that the covariance matrix of the errors is correctly specified.\n",
       "\"\"\""
      ]
     },
     "execution_count": 234,
     "metadata": {},
     "output_type": "execute_result"
    }
   ],
   "source": [
    "import statsmodels.api as sm\n",
    "\n",
    "target = pd.DataFrame(df_pointguard_averages['Salary_2018'])\n",
    "pg_independent_vars = df_pointguard_averages.loc[:,['3P','AST','ORB','BLK']]\n",
    "pg_independent_vars.astype(float)\n",
    "pg_independent_vars.dropna(inplace=True)\n",
    "pg_independent_vars.describe()\n",
    "\n",
    "pg_independent_vars = sm.add_constant(pg_independent_vars)\n",
    "pg_model = sm.OLS(list(target['Salary_2018'].astype(float)),pg_independent_vars.astype(float)).fit()\n",
    "\n",
    "pg_model.summary()"
   ]
  },
  {
   "cell_type": "code",
   "execution_count": 136,
   "metadata": {
    "collapsed": false
   },
   "outputs": [
    {
     "data": {
      "image/png": "[encoded data removed]",
      "text/plain": [
       "<matplotlib.figure.Figure at 0x2445739e470>"
      ]
     },
     "metadata": {},
     "output_type": "display_data"
    }
   ],
   "source": [
    "f, ax = plt.subplots(figsize=(6, 6))\n",
    "\n",
    "plt.scatter(target, pg_model.predict(), color=\"g\", label=\"Linear\")\n",
    "\n",
    "ax.plot([0, 0.5], [0, 0.5], ls=\"--\", c=\".3\")\n",
    "ax.set(xlim=(0,0.5), ylim=(0,0.5))\n",
    "plt.show()"
   ]
  },
  {
   "cell_type": "markdown",
   "metadata": {},
   "source": [
    "### Big Man Specific Sub-model"
   ]
  },
  {
   "cell_type": "code",
   "execution_count": 235,
   "metadata": {
    "collapsed": false
   },
   "outputs": [
    {
     "data": {
      "text/html": [
       "<table class=\"simpletable\">\n",
       "<caption>OLS Regression Results</caption>\n",
       "<tr>\n",
       "  <th>Dep. Variable:</th>            <td>y</td>        <th>  R-squared:         </th> <td>   0.606</td> \n",
       "</tr>\n",
       "<tr>\n",
       "  <th>Model:</th>                   <td>OLS</td>       <th>  Adj. R-squared:    </th> <td>   0.600</td> \n",
       "</tr>\n",
       "<tr>\n",
       "  <th>Method:</th>             <td>Least Squares</td>  <th>  F-statistic:       </th> <td>   98.91</td> \n",
       "</tr>\n",
       "<tr>\n",
       "  <th>Date:</th>             <td>Wed, 04 Jul 2018</td> <th>  Prob (F-statistic):</th> <td>6.35e-63</td> \n",
       "</tr>\n",
       "<tr>\n",
       "  <th>Time:</th>                 <td>09:46:02</td>     <th>  Log-Likelihood:    </th> <td> -5528.6</td> \n",
       "</tr>\n",
       "<tr>\n",
       "  <th>No. Observations:</th>      <td>   328</td>      <th>  AIC:               </th> <td>1.107e+04</td>\n",
       "</tr>\n",
       "<tr>\n",
       "  <th>Df Residuals:</th>          <td>   322</td>      <th>  BIC:               </th> <td>1.109e+04</td>\n",
       "</tr>\n",
       "<tr>\n",
       "  <th>Df Model:</th>              <td>     5</td>      <th>                     </th>     <td> </td>    \n",
       "</tr>\n",
       "<tr>\n",
       "  <th>Covariance Type:</th>      <td>nonrobust</td>    <th>                     </th>     <td> </td>    \n",
       "</tr>\n",
       "</table>\n",
       "<table class=\"simpletable\">\n",
       "<tr>\n",
       "    <td></td>       <th>coef</th>     <th>std err</th>      <th>t</th>      <th>P>|t|</th> <th>[95.0% Conf. Int.]</th> \n",
       "</tr>\n",
       "<tr>\n",
       "  <th>const</th> <td>-3.812e+06</td> <td> 7.23e+05</td> <td>   -5.268</td> <td> 0.000</td> <td>-5.23e+06 -2.39e+06</td>\n",
       "</tr>\n",
       "<tr>\n",
       "  <th>3P</th>    <td> 1.951e+06</td> <td> 1.16e+06</td> <td>    1.680</td> <td> 0.094</td> <td>-3.34e+05  4.24e+06</td>\n",
       "</tr>\n",
       "<tr>\n",
       "  <th>AST</th>   <td> 1.153e+06</td> <td> 7.21e+05</td> <td>    1.599</td> <td> 0.111</td> <td>-2.65e+05  2.57e+06</td>\n",
       "</tr>\n",
       "<tr>\n",
       "  <th>ORB</th>   <td> 2.329e+06</td> <td> 5.43e+05</td> <td>    4.287</td> <td> 0.000</td> <td> 1.26e+06   3.4e+06</td>\n",
       "</tr>\n",
       "<tr>\n",
       "  <th>BLK</th>   <td> 2.847e+06</td> <td> 5.81e+05</td> <td>    4.904</td> <td> 0.000</td> <td>  1.7e+06  3.99e+06</td>\n",
       "</tr>\n",
       "<tr>\n",
       "  <th>TOV</th>   <td> 4.688e+06</td> <td> 9.28e+05</td> <td>    5.054</td> <td> 0.000</td> <td> 2.86e+06  6.51e+06</td>\n",
       "</tr>\n",
       "</table>\n",
       "<table class=\"simpletable\">\n",
       "<tr>\n",
       "  <th>Omnibus:</th>       <td>19.392</td> <th>  Durbin-Watson:     </th> <td>   1.968</td>\n",
       "</tr>\n",
       "<tr>\n",
       "  <th>Prob(Omnibus):</th> <td> 0.000</td> <th>  Jarque-Bera (JB):  </th> <td>  47.590</td>\n",
       "</tr>\n",
       "<tr>\n",
       "  <th>Skew:</th>          <td> 0.218</td> <th>  Prob(JB):          </th> <td>4.63e-11</td>\n",
       "</tr>\n",
       "<tr>\n",
       "  <th>Kurtosis:</th>      <td> 4.814</td> <th>  Cond. No.          </th> <td>    12.6</td>\n",
       "</tr>\n",
       "</table>"
      ],
      "text/plain": [
       "<class 'statsmodels.iolib.summary.Summary'>\n",
       "\"\"\"\n",
       "                            OLS Regression Results                            \n",
       "==============================================================================\n",
       "Dep. Variable:                      y   R-squared:                       0.606\n",
       "Model:                            OLS   Adj. R-squared:                  0.600\n",
       "Method:                 Least Squares   F-statistic:                     98.91\n",
       "Date:                Wed, 04 Jul 2018   Prob (F-statistic):           6.35e-63\n",
       "Time:                        09:46:02   Log-Likelihood:                -5528.6\n",
       "No. Observations:                 328   AIC:                         1.107e+04\n",
       "Df Residuals:                     322   BIC:                         1.109e+04\n",
       "Df Model:                           5                                         \n",
       "Covariance Type:            nonrobust                                         \n",
       "==============================================================================\n",
       "                 coef    std err          t      P>|t|      [95.0% Conf. Int.]\n",
       "------------------------------------------------------------------------------\n",
       "const      -3.812e+06   7.23e+05     -5.268      0.000     -5.23e+06 -2.39e+06\n",
       "3P          1.951e+06   1.16e+06      1.680      0.094     -3.34e+05  4.24e+06\n",
       "AST         1.153e+06   7.21e+05      1.599      0.111     -2.65e+05  2.57e+06\n",
       "ORB         2.329e+06   5.43e+05      4.287      0.000      1.26e+06   3.4e+06\n",
       "BLK         2.847e+06   5.81e+05      4.904      0.000       1.7e+06  3.99e+06\n",
       "TOV         4.688e+06   9.28e+05      5.054      0.000      2.86e+06  6.51e+06\n",
       "==============================================================================\n",
       "Omnibus:                       19.392   Durbin-Watson:                   1.968\n",
       "Prob(Omnibus):                  0.000   Jarque-Bera (JB):               47.590\n",
       "Skew:                           0.218   Prob(JB):                     4.63e-11\n",
       "Kurtosis:                       4.814   Cond. No.                         12.6\n",
       "==============================================================================\n",
       "\n",
       "Warnings:\n",
       "[1] Standard Errors assume that the covariance matrix of the errors is correctly specified.\n",
       "\"\"\""
      ]
     },
     "execution_count": 235,
     "metadata": {},
     "output_type": "execute_result"
    }
   ],
   "source": [
    "import statsmodels.api as sm\n",
    "\n",
    "target = pd.DataFrame(df_big_men_averages['Salary_2018'])\n",
    "bm_independent_vars = df_big_men_averages.loc[:,['3P','AST','ORB','BLK','TOV']]\n",
    "bm_independent_vars.astype(float)\n",
    "bm_independent_vars.dropna(inplace=True)\n",
    "bm_independent_vars.describe()\n",
    "\n",
    "bm_independent_vars = sm.add_constant(bm_independent_vars)\n",
    "big_man_model = sm.OLS(list(target['Salary_2018'].astype(float)),bm_independent_vars.astype(float)).fit()\n",
    "\n",
    "big_man_model.summary()"
   ]
  },
  {
   "cell_type": "code",
   "execution_count": 142,
   "metadata": {
    "collapsed": false
   },
   "outputs": [
    {
     "data": {
      "image/png": "[encoded data removed]",
      "text/plain": [
       "<matplotlib.figure.Figure at 0x244572b7e10>"
      ]
     },
     "metadata": {},
     "output_type": "display_data"
    }
   ],
   "source": [
    "f, ax = plt.subplots(figsize=(6, 6))\n",
    "\n",
    "plt.scatter(target, big_man_model.predict(), color=\"g\", label=\"Linear\")\n",
    "\n",
    "ax.plot([0, 0.5], [0, 0.5], ls=\"--\", c=\".3\")\n",
    "ax.set(xlim=(0,0.5), ylim=(0,0.5))\n",
    "plt.show()"
   ]
  },
  {
   "cell_type": "markdown",
   "metadata": {},
   "source": [
    "### Wing Specific Sub-model"
   ]
  },
  {
   "cell_type": "code",
   "execution_count": 236,
   "metadata": {
    "collapsed": false,
    "scrolled": true
   },
   "outputs": [
    {
     "data": {
      "text/html": [
       "<table class=\"simpletable\">\n",
       "<caption>OLS Regression Results</caption>\n",
       "<tr>\n",
       "  <th>Dep. Variable:</th>            <td>y</td>        <th>  R-squared:         </th> <td>   0.790</td>\n",
       "</tr>\n",
       "<tr>\n",
       "  <th>Model:</th>                   <td>OLS</td>       <th>  Adj. R-squared:    </th> <td>   0.787</td>\n",
       "</tr>\n",
       "<tr>\n",
       "  <th>Method:</th>             <td>Least Squares</td>  <th>  F-statistic:       </th> <td>   265.0</td>\n",
       "</tr>\n",
       "<tr>\n",
       "  <th>Date:</th>             <td>Wed, 04 Jul 2018</td> <th>  Prob (F-statistic):</th> <td>3.29e-94</td>\n",
       "</tr>\n",
       "<tr>\n",
       "  <th>Time:</th>                 <td>09:46:25</td>     <th>  Log-Likelihood:    </th> <td> -4840.7</td>\n",
       "</tr>\n",
       "<tr>\n",
       "  <th>No. Observations:</th>      <td>   286</td>      <th>  AIC:               </th> <td>   9689.</td>\n",
       "</tr>\n",
       "<tr>\n",
       "  <th>Df Residuals:</th>          <td>   282</td>      <th>  BIC:               </th> <td>   9704.</td>\n",
       "</tr>\n",
       "<tr>\n",
       "  <th>Df Model:</th>              <td>     4</td>      <th>                     </th>     <td> </td>   \n",
       "</tr>\n",
       "<tr>\n",
       "  <th>Covariance Type:</th>      <td>nonrobust</td>    <th>                     </th>     <td> </td>   \n",
       "</tr>\n",
       "</table>\n",
       "<table class=\"simpletable\">\n",
       "<tr>\n",
       "   <td></td>      <th>coef</th>     <th>std err</th>      <th>t</th>      <th>P>|t|</th> <th>[95.0% Conf. Int.]</th> \n",
       "</tr>\n",
       "<tr>\n",
       "  <th>3P</th>  <td> 2.771e+06</td> <td> 5.84e+05</td> <td>    4.747</td> <td> 0.000</td> <td> 1.62e+06  3.92e+06</td>\n",
       "</tr>\n",
       "<tr>\n",
       "  <th>AST</th> <td> 1.821e+06</td> <td>    3e+05</td> <td>    6.075</td> <td> 0.000</td> <td> 1.23e+06  2.41e+06</td>\n",
       "</tr>\n",
       "<tr>\n",
       "  <th>ORB</th> <td> 3.057e+06</td> <td> 6.42e+05</td> <td>    4.759</td> <td> 0.000</td> <td> 1.79e+06  4.32e+06</td>\n",
       "</tr>\n",
       "<tr>\n",
       "  <th>BLK</th> <td> 4.274e+06</td> <td> 1.23e+06</td> <td>    3.477</td> <td> 0.001</td> <td> 1.85e+06  6.69e+06</td>\n",
       "</tr>\n",
       "</table>\n",
       "<table class=\"simpletable\">\n",
       "<tr>\n",
       "  <th>Omnibus:</th>       <td>65.009</td> <th>  Durbin-Watson:     </th> <td>   1.887</td>\n",
       "</tr>\n",
       "<tr>\n",
       "  <th>Prob(Omnibus):</th> <td> 0.000</td> <th>  Jarque-Bera (JB):  </th> <td> 152.467</td>\n",
       "</tr>\n",
       "<tr>\n",
       "  <th>Skew:</th>          <td> 1.087</td> <th>  Prob(JB):          </th> <td>7.80e-34</td>\n",
       "</tr>\n",
       "<tr>\n",
       "  <th>Kurtosis:</th>      <td> 5.841</td> <th>  Cond. No.          </th> <td>    9.95</td>\n",
       "</tr>\n",
       "</table>"
      ],
      "text/plain": [
       "<class 'statsmodels.iolib.summary.Summary'>\n",
       "\"\"\"\n",
       "                            OLS Regression Results                            \n",
       "==============================================================================\n",
       "Dep. Variable:                      y   R-squared:                       0.790\n",
       "Model:                            OLS   Adj. R-squared:                  0.787\n",
       "Method:                 Least Squares   F-statistic:                     265.0\n",
       "Date:                Wed, 04 Jul 2018   Prob (F-statistic):           3.29e-94\n",
       "Time:                        09:46:25   Log-Likelihood:                -4840.7\n",
       "No. Observations:                 286   AIC:                             9689.\n",
       "Df Residuals:                     282   BIC:                             9704.\n",
       "Df Model:                           4                                         \n",
       "Covariance Type:            nonrobust                                         \n",
       "==============================================================================\n",
       "                 coef    std err          t      P>|t|      [95.0% Conf. Int.]\n",
       "------------------------------------------------------------------------------\n",
       "3P          2.771e+06   5.84e+05      4.747      0.000      1.62e+06  3.92e+06\n",
       "AST         1.821e+06      3e+05      6.075      0.000      1.23e+06  2.41e+06\n",
       "ORB         3.057e+06   6.42e+05      4.759      0.000      1.79e+06  4.32e+06\n",
       "BLK         4.274e+06   1.23e+06      3.477      0.001      1.85e+06  6.69e+06\n",
       "==============================================================================\n",
       "Omnibus:                       65.009   Durbin-Watson:                   1.887\n",
       "Prob(Omnibus):                  0.000   Jarque-Bera (JB):              152.467\n",
       "Skew:                           1.087   Prob(JB):                     7.80e-34\n",
       "Kurtosis:                       5.841   Cond. No.                         9.95\n",
       "==============================================================================\n",
       "\n",
       "Warnings:\n",
       "[1] Standard Errors assume that the covariance matrix of the errors is correctly specified.\n",
       "\"\"\""
      ]
     },
     "execution_count": 236,
     "metadata": {},
     "output_type": "execute_result"
    }
   ],
   "source": [
    "import statsmodels.api as sm\n",
    "\n",
    "target = pd.DataFrame(df_wings_averages['Salary_2018'])\n",
    "wing_independent_vars = df_wings_averages.loc[:,['3P','AST','ORB','BLK']]\n",
    "wing_independent_vars.astype(float)\n",
    "wing_independent_vars.dropna(inplace=True)\n",
    "wing_independent_vars.describe()\n",
    "\n",
    "wing_wing_independent_vars = sm.add_constant(wing_independent_vars)\n",
    "wing_model = sm.OLS(list(target['Salary_2018'].astype(float)),wing_independent_vars.astype(float)).fit()\n",
    "\n",
    "wing_model.summary()"
   ]
  },
  {
   "cell_type": "code",
   "execution_count": 140,
   "metadata": {
    "collapsed": false
   },
   "outputs": [
    {
     "data": {
      "image/png": "[encoded data removed]",
      "text/plain": [
       "<matplotlib.figure.Figure at 0x24457458ac8>"
      ]
     },
     "metadata": {},
     "output_type": "display_data"
    }
   ],
   "source": [
    "f, ax = plt.subplots(figsize=(6, 6))\n",
    "\n",
    "plt.scatter(target, wing_model.predict(), color=\"g\", label=\"Linear\")\n",
    "\n",
    "ax.plot([0, 0.5], [0, 0.5], ls=\"--\", c=\".3\")\n",
    "ax.set(xlim=(0,0.5), ylim=(0,0.5))\n",
    "plt.show()"
   ]
  },
  {
   "cell_type": "markdown",
   "metadata": {},
   "source": [
    "### General Sub Model\n",
    "This is the part of the ensemble model that is not position specific.  It does not use variables used by the position specific sub models."
   ]
  },
  {
   "cell_type": "code",
   "execution_count": 237,
   "metadata": {
    "collapsed": false
   },
   "outputs": [
    {
     "data": {
      "text/html": [
       "<table class=\"simpletable\">\n",
       "<caption>OLS Regression Results</caption>\n",
       "<tr>\n",
       "  <th>Dep. Variable:</th>            <td>y</td>        <th>  R-squared:         </th> <td>   0.629</td> \n",
       "</tr>\n",
       "<tr>\n",
       "  <th>Model:</th>                   <td>OLS</td>       <th>  Adj. R-squared:    </th> <td>   0.627</td> \n",
       "</tr>\n",
       "<tr>\n",
       "  <th>Method:</th>             <td>Least Squares</td>  <th>  F-statistic:       </th> <td>   430.3</td> \n",
       "</tr>\n",
       "<tr>\n",
       "  <th>Date:</th>             <td>Wed, 04 Jul 2018</td> <th>  Prob (F-statistic):</th> <td>1.78e-163</td>\n",
       "</tr>\n",
       "<tr>\n",
       "  <th>Time:</th>                 <td>09:46:37</td>     <th>  Log-Likelihood:    </th> <td> -12857.</td> \n",
       "</tr>\n",
       "<tr>\n",
       "  <th>No. Observations:</th>      <td>   766</td>      <th>  AIC:               </th> <td>2.572e+04</td>\n",
       "</tr>\n",
       "<tr>\n",
       "  <th>Df Residuals:</th>          <td>   762</td>      <th>  BIC:               </th> <td>2.574e+04</td>\n",
       "</tr>\n",
       "<tr>\n",
       "  <th>Df Model:</th>              <td>     3</td>      <th>                     </th>     <td> </td>    \n",
       "</tr>\n",
       "<tr>\n",
       "  <th>Covariance Type:</th>      <td>nonrobust</td>    <th>                     </th>     <td> </td>    \n",
       "</tr>\n",
       "</table>\n",
       "<table class=\"simpletable\">\n",
       "<tr>\n",
       "    <td></td>       <th>coef</th>     <th>std err</th>      <th>t</th>      <th>P>|t|</th> <th>[95.0% Conf. Int.]</th> \n",
       "</tr>\n",
       "<tr>\n",
       "  <th>const</th> <td> 1.007e+07</td> <td> 2.61e+06</td> <td>    3.852</td> <td> 0.000</td> <td> 4.94e+06  1.52e+07</td>\n",
       "</tr>\n",
       "<tr>\n",
       "  <th>PTS</th>   <td> 7.937e+05</td> <td> 4.46e+04</td> <td>   17.785</td> <td> 0.000</td> <td> 7.06e+05  8.81e+05</td>\n",
       "</tr>\n",
       "<tr>\n",
       "  <th>DWS</th>   <td> 2.864e+06</td> <td> 2.17e+05</td> <td>   13.199</td> <td> 0.000</td> <td> 2.44e+06  3.29e+06</td>\n",
       "</tr>\n",
       "<tr>\n",
       "  <th>Age</th>   <td>-5.283e+05</td> <td> 1.11e+05</td> <td>   -4.768</td> <td> 0.000</td> <td>-7.46e+05 -3.11e+05</td>\n",
       "</tr>\n",
       "</table>\n",
       "<table class=\"simpletable\">\n",
       "<tr>\n",
       "  <th>Omnibus:</th>       <td>71.541</td> <th>  Durbin-Watson:     </th> <td>   1.828</td>\n",
       "</tr>\n",
       "<tr>\n",
       "  <th>Prob(Omnibus):</th> <td> 0.000</td> <th>  Jarque-Bera (JB):  </th> <td> 190.567</td>\n",
       "</tr>\n",
       "<tr>\n",
       "  <th>Skew:</th>          <td> 0.483</td> <th>  Prob(JB):          </th> <td>4.16e-42</td>\n",
       "</tr>\n",
       "<tr>\n",
       "  <th>Kurtosis:</th>      <td> 5.244</td> <th>  Cond. No.          </th> <td>    378.</td>\n",
       "</tr>\n",
       "</table>"
      ],
      "text/plain": [
       "<class 'statsmodels.iolib.summary.Summary'>\n",
       "\"\"\"\n",
       "                            OLS Regression Results                            \n",
       "==============================================================================\n",
       "Dep. Variable:                      y   R-squared:                       0.629\n",
       "Model:                            OLS   Adj. R-squared:                  0.627\n",
       "Method:                 Least Squares   F-statistic:                     430.3\n",
       "Date:                Wed, 04 Jul 2018   Prob (F-statistic):          1.78e-163\n",
       "Time:                        09:46:37   Log-Likelihood:                -12857.\n",
       "No. Observations:                 766   AIC:                         2.572e+04\n",
       "Df Residuals:                     762   BIC:                         2.574e+04\n",
       "Df Model:                           3                                         \n",
       "Covariance Type:            nonrobust                                         \n",
       "==============================================================================\n",
       "                 coef    std err          t      P>|t|      [95.0% Conf. Int.]\n",
       "------------------------------------------------------------------------------\n",
       "const       1.007e+07   2.61e+06      3.852      0.000      4.94e+06  1.52e+07\n",
       "PTS         7.937e+05   4.46e+04     17.785      0.000      7.06e+05  8.81e+05\n",
       "DWS         2.864e+06   2.17e+05     13.199      0.000      2.44e+06  3.29e+06\n",
       "Age        -5.283e+05   1.11e+05     -4.768      0.000     -7.46e+05 -3.11e+05\n",
       "==============================================================================\n",
       "Omnibus:                       71.541   Durbin-Watson:                   1.828\n",
       "Prob(Omnibus):                  0.000   Jarque-Bera (JB):              190.567\n",
       "Skew:                           0.483   Prob(JB):                     4.16e-42\n",
       "Kurtosis:                       5.244   Cond. No.                         378.\n",
       "==============================================================================\n",
       "\n",
       "Warnings:\n",
       "[1] Standard Errors assume that the covariance matrix of the errors is correctly specified.\n",
       "\"\"\""
      ]
     },
     "execution_count": 237,
     "metadata": {},
     "output_type": "execute_result"
    }
   ],
   "source": [
    "import statsmodels.api as sm\n",
    "\n",
    "target = pd.DataFrame(df_rookie_averages['Salary_2018'])\n",
    "independent_vars = df_rookie_averages.loc[:,['PTS','DWS','Age']]\n",
    "independent_vars.astype(float)\n",
    "independent_vars.dropna(inplace=True)\n",
    "independent_vars.describe()\n",
    "\n",
    "independent_vars = sm.add_constant(independent_vars)\n",
    "gen_model = sm.OLS(list(target['Salary_2018'].astype(float)),independent_vars.astype(float)).fit()\n",
    "\n",
    "gen_model.summary()"
   ]
  },
  {
   "cell_type": "code",
   "execution_count": 238,
   "metadata": {
    "collapsed": false
   },
   "outputs": [
    {
     "name": "stdout",
     "output_type": "stream",
     "text": [
      "Root Mean Squared Error\n",
      "4711795.194053013\n"
     ]
    }
   ],
   "source": [
    "print(\"Root Mean Squared Error\")\n",
    "print(sqrt(mean_squared_error(target['Salary_2018'].astype(float),gen_model.predict(independent_vars.astype(float)))))"
   ]
  },
  {
   "cell_type": "markdown",
   "metadata": {},
   "source": [
    "### Create the General components of all the position specific sub-models."
   ]
  },
  {
   "cell_type": "code",
   "execution_count": 239,
   "metadata": {
    "collapsed": false
   },
   "outputs": [],
   "source": [
    "gen_model_pg_independent_vars = independent_vars = df_pointguard_averages.loc[:,['PTS','DWS','Age']]\n",
    "gen_model_pg_independent_vars.astype(float)\n",
    "gen_model_pg_independent_vars.dropna(inplace=True)\n",
    "gen_model_pg_independent_vars = sm.add_constant(gen_model_pg_independent_vars)\n",
    "\n",
    "gen_model_bm_independent_vars = independent_vars = df_big_men_averages.loc[:,['PTS','DWS','Age']]\n",
    "gen_model_bm_independent_vars.astype(float)\n",
    "gen_model_bm_independent_vars.dropna(inplace=True)\n",
    "gen_model_bm_independent_vars = sm.add_constant(gen_model_bm_independent_vars)\n",
    "\n",
    "gen_model_wing_independent_vars = independent_vars = df_wings_averages.loc[:,['PTS','DWS','Age']]\n",
    "gen_model_wing_independent_vars.astype(float)\n",
    "gen_model_wing_independent_vars.dropna(inplace=True)\n",
    "gen_model_wing_independent_vars = sm.add_constant(gen_model_wing_independent_vars)"
   ]
  },
  {
   "cell_type": "markdown",
   "metadata": {},
   "source": [
    "### Find weights for the general vs. position specific sub-models.\n",
    "For each value of p, weight the general model and the position specific sub-models\n",
    "From this weighted value, compute the root mean squared error against the actual data points\n",
    "Calculate the average root mean squared error from all 3 position specific models."
   ]
  },
  {
   "cell_type": "code",
   "execution_count": 240,
   "metadata": {
    "collapsed": false
   },
   "outputs": [
    {
     "name": "stdout",
     "output_type": "stream",
     "text": [
      "Pos specific weight 0.1 4572616.464717913\n",
      "Pos specific weight 0.2 4549245.766405246\n",
      "Pos specific weight 0.3 4544377.943851253\n",
      "Pos specific weight 0.4 4558070.460606875\n",
      "Pos specific weight 0.5 4590148.099288104\n",
      "Pos specific weight 0.6 4640213.992083061\n",
      "Pos specific weight 0.7 4707673.803313088\n",
      "Pos specific weight 0.8 4791769.705497969\n",
      "Pos specific weight 0.9 4891619.830064856\n"
     ]
    }
   ],
   "source": [
    "from sklearn.metrics import mean_squared_error\n",
    "from math import sqrt\n",
    "\n",
    "for i in range (1,10):\n",
    "    p=i/10\n",
    "    pg_model_avg = p * pg_model.predict(pg_independent_vars) + (1-p) * gen_model.predict(gen_model_pg_independent_vars)\n",
    "    weight_pg_rmse = sqrt(mean_squared_error(pg_model_avg,df_pointguard_averages['Salary_2018']))\n",
    "    \n",
    "    bm_model_avg = p * big_man_model.predict(bm_independent_vars) + (1-p) * gen_model.predict(gen_model_bm_independent_vars)\n",
    "    weight_bm_rmse = sqrt(mean_squared_error(bm_model_avg,df_big_men_averages['Salary_2018']))\n",
    "    \n",
    "    wing_model_avg = p * wing_model.predict(wing_independent_vars) + (1-p) * gen_model.predict(gen_model_wing_independent_vars)\n",
    "    weight_wing_rmse = sqrt(mean_squared_error(wing_model_avg,df_wings_averages['Salary_2018']))\n",
    "    \n",
    "    overall_rmse = (weight_pg_rmse + weight_bm_rmse + weight_wing_rmse) / 3\n",
    "    \n",
    "    print('Pos specific weight', p , overall_rmse)"
   ]
  },
  {
   "cell_type": "markdown",
   "metadata": {},
   "source": [
    "#### We see that the way to minimize the Root Mean Squared Error in this model is to place 30% of the weight on the position specific component and 70% on the general compontent."
   ]
  },
  {
   "cell_type": "markdown",
   "metadata": {},
   "source": [
    "## Conclusions"
   ]
  },
  {
   "cell_type": "markdown",
   "metadata": {},
   "source": [
    "#### We saw that the generic model had a root mean squared error (RMSE) of 4,599,389 and that the ensemble approach yielded a RMSE of 4,544,378.  This is a modest decrease in 1.2% for the RMSE.  This is a smaller change than I would have anticipated but there are a couple things we can draw from this.  \n",
    "#### First, the ensemble approach did improve our model.  The change in RMSE might be small, but it's important to remember than the target variable is a percentage of the salary cap, so the scale is already a small one.\n",
    "#### Second, it is clear that Points are the biggest driving factor of the predictive power of this model.  The position specific variables improved the model, but the improvement was somewhat small due to most of the variance being explained simply by using the Points variable.  Points correlation level was not postion specific which is why it was not used in the sub-models, it was highly correlated to Salary regardless of position."
   ]
  },
  {
   "cell_type": "code",
   "execution_count": 185,
   "metadata": {
    "collapsed": false
   },
   "outputs": [
    {
     "data": {
      "image/png": "[encoded data removed]",
      "text/plain": [
       "<matplotlib.figure.Figure at 0x24456d66828>"
      ]
     },
     "metadata": {},
     "output_type": "display_data"
    }
   ],
   "source": [
    "f, axarr = plt.subplots(2, 2)\n",
    "\n",
    "axarr[0,0].scatter(df_pointguard_averages['Salary%'],pg_model.predict(pg_independent_vars),label='linear')\n",
    "axarr[0,0].set_title('PG Specific Model')\n",
    "axarr[0,1].scatter(df_pointguard_averages['Salary%'],gen_model.predict(gen_model_pg_independent_vars),label='linear')\n",
    "axarr[0,1].set_title('Generic Model')\n",
    "axarr[1,1].scatter(df_pointguard_averages['Salary%'],model_avg,label='linear')\n",
    "axarr[1,1].set_title('Weighted Model')\n",
    "plt.show()"
   ]
  },
  {
   "cell_type": "code",
   "execution_count": null,
   "metadata": {
    "collapsed": true
   },
   "outputs": [],
   "source": []
  }
 ],
 "metadata": {
  "kernelspec": {
   "display_name": "Python 3",
   "language": "python",
   "name": "python3"
  },
  "language_info": {
   "codemirror_mode": {
    "name": "ipython",
    "version": 3
   },
   "file_extension": ".py",
   "mimetype": "text/x-python",
   "name": "python",
   "nbconvert_exporter": "python",
   "pygments_lexer": "ipython3",
   "version": "3.6.0"
  }
 },
 "nbformat": 4,
 "nbformat_minor": 2
}
