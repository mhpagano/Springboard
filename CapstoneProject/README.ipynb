{
 "cells": [
  {
   "cell_type": "markdown",
   "metadata": {},
   "source": [
    "# NBA First Non-Rookie Contracts"
   ]
  },
  {
   "cell_type": "markdown",
   "metadata": {},
   "source": [
    "## Summary\n",
    "#### This objective of this projective was to develop models to predict and explain an NBA player's first contact after his rookie contract.  In addition to developing a robust model with practical uses in the real world, another purpose to review the benefit of using an ensemble model approach over a general OLS model."
   ]
  },
  {
   "cell_type": "markdown",
   "metadata": {},
   "source": [
    "## Files\n",
    "#### Capstone Scraping.ipynb - contains the data scraping code used to pull down the data from BasketballReference.com that was used as the basis for the dataframe used for the model.\n",
    "#### SalaryCapHistory - contains historical NBA salary cap information so that all NBA salaries could be converted into 2018 dollars in the final dataframe.\n",
    "#### test_player_dataframe_1.txt - stores the data from the scraping code for ease of repeated access.\n",
    "#### EDA Capstone.ipynb - contains the EDA and inferential statistics portion of the overall analysis.  This file includes the majority of the charts featured in the final report.\n",
    "#### MachineLearning_Capstone.ipynb - contains the machine learning portion of the overall analysis.  This file includes both the general OLS model and ensemble model approach as well as some of the model specific output featured in the final report.\n",
    "#### Springboard_Capstone - Final report.\n",
    "#### Springboard_Capstone_Presentation - Final condensed powerpoint report."
   ]
  },
  {
   "cell_type": "code",
   "execution_count": null,
   "metadata": {
    "collapsed": true
   },
   "outputs": [],
   "source": []
  }
 ],
 "metadata": {
  "kernelspec": {
   "display_name": "Python 3",
   "language": "python",
   "name": "python3"
  },
  "language_info": {
   "codemirror_mode": {
    "name": "ipython",
    "version": 3
   },
   "file_extension": ".py",
   "mimetype": "text/x-python",
   "name": "python",
   "nbconvert_exporter": "python",
   "pygments_lexer": "ipython3",
   "version": "3.6.0"
  }
 },
 "nbformat": 4,
 "nbformat_minor": 2
}
