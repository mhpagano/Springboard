{
 "cells": [
  {
   "cell_type": "markdown",
   "metadata": {},
   "source": [
    "# Machine Learning Code for Capstone"
   ]
  },
  {
   "cell_type": "code",
   "execution_count": 2,
   "metadata": {
    "collapsed": true
   },
   "outputs": [],
   "source": [
    "import pandas as pd\n",
    "import matplotlib.pyplot as plt\n",
    "import seaborn as sns\n",
    "import numpy as np\n",
    "from scipy.stats.stats import pearsonr \n",
    "import math\n",
    "from pylab import *"
   ]
  },
  {
   "cell_type": "markdown",
   "metadata": {},
   "source": [
    "#### Read in TSV Data.  Format Salary field properly."
   ]
  },
  {
   "cell_type": "code",
   "execution_count": 3,
   "metadata": {
    "collapsed": true
   },
   "outputs": [],
   "source": [
    "df_total = pd.read_csv('test_player_dataframe_1.txt',sep='\\t')\n",
    "\n",
    "df_total.Salary = df_total['Salary'].str.replace('$','')\n",
    "df_total.Salary = df_total['Salary'].str.replace(',','')\n",
    "df_total.Salary = df_total['Salary'].astype(float)\n",
    "\n",
    "## Multiply by the 2018 NBA Salary cap of $102M\n",
    "df_total['Salary_2018'] = df_total['Salary%']*102000000"
   ]
  },
  {
   "cell_type": "markdown",
   "metadata": {},
   "source": [
    "### Create Weighted Average Dataframe \n",
    "Create a dataframe that represents the weighted averages of each player's seasons on their rookie contract.  This will give us a representation of their body of work up until the point of their new contract.  Store the player's new non-rookie contract in the same row so we can see the relationships between the weighted averages of statistics and their new contract."
   ]
  },
  {
   "cell_type": "code",
   "execution_count": 4,
   "metadata": {
    "collapsed": true
   },
   "outputs": [],
   "source": [
    "players = df_total['Player'].unique()\n",
    "\n",
    "list_of_rookie_contract_data = []\n",
    "list_of_first_contract_data = []\n",
    "list_of_columns_to_average = ['Age','G','GS','MP_x','FG','FGA',\n",
    " 'FG%','3P','3PA','3P%','2P','2PA','2P%','eFG%','FT','FTA','FT%','ORB',\n",
    " 'DRB','TRB','AST','STL','BLK','TOV','PF','PTS','MP_y','PER','TS%','3PAr',\n",
    " 'FTr','ORB%','DRB%','TRB%','AST%','STL%','BLK%','TOV%','USG%','OWS','DWS',\n",
    " 'WS','WS/48','OBPM','DBPM','BPM','VORP']\n",
    "list_of_averaged_rows = []\n",
    "\n",
    "#For each player in original dataset, create a Rookie table of just his first 4 seasons\n",
    "#Also create a Contract datatable of his first year with the new contract\n",
    "for player in players:\n",
    "    df_player = df_total[df_total['Player'] == player]\n",
    "    df_player_rookie = df_player.iloc[0:3]\n",
    "    df_player_contract = df_player.iloc[4:5]\n",
    "#Append these individual dataframes to separate lists, they will later be concatendated into one larger dataframe    \n",
    "    list_of_rookie_contract_data.append(df_player_rookie)\n",
    "    list_of_first_contract_data.append(df_player_contract)\n",
    "\n",
    "#############################################################################################\n",
    "# Create a dataframe of the weight averages of numerical columns during players first 4 seasons\n",
    "#############################################################################################    \n",
    "    weight_array =[]\n",
    "    total_minutes = 0\n",
    "    for index, row in df_player_rookie.iterrows():\n",
    "        #The weight used will be based off minutes played for each seasons\n",
    "        weight = row.MP_x * row.G\n",
    "        #Make an array of the weights for each season\n",
    "        weight_array.append(weight)\n",
    "        total_minutes = weight + total_minutes\n",
    "    #If they didn't play in a given season, skip    \n",
    "    if total_minutes == 0:\n",
    "        continue\n",
    "    #Normalize the weight array    \n",
    "    weight_array[:] = [x / total_minutes for x in weight_array]\n",
    "\n",
    "    ##Iterate through the new Rookie dataframe, apply weighted average for numerical columns\n",
    "    ##If column is Salary, grab it from the Contract table\n",
    "    ##If column is non-numeric, just add a placeholder value to the row\n",
    "    new_row = []\n",
    "    if len(df_player) <5:\n",
    "        continue\n",
    "    for column in df_player_rookie.columns:        \n",
    "        if column in list_of_columns_to_average:\n",
    "            new_row.append(np.dot(weight_array,df_player_rookie[column]))\n",
    "        elif column == 'Salary':\n",
    "            new_row.append(df_player.iloc[4:5]['Salary'].values[0])\n",
    "        elif column == 'Salary%':\n",
    "            new_row.append(df_player.iloc[4:5]['Salary%'].values[0])    \n",
    "        elif column == 'Salary_2018':\n",
    "            new_row.append(df_player.iloc[4:5]['Salary_2018'].values[0])  \n",
    "        else:\n",
    "            var = df_player_rookie.iloc[:-2][column].values[0]\n",
    "            new_row.append(var)\n",
    "    list_of_averaged_rows.append(new_row)\n",
    "list_of_averaged_rows = pd.Series(list_of_averaged_rows)\n",
    "\n",
    "##Make the larger rookie and contract dataframes\n",
    "df_rookie_total = pd.concat(list_of_rookie_contract_data)\n",
    "df_contract_total = pd.concat(list_of_first_contract_data)\n",
    "##Make the larger rookie_averages dataframe\n",
    "df_rookie_averages = pd.DataFrame.from_items(zip(list_of_averaged_rows.index,list_of_averaged_rows.values)).T\n",
    "df_rookie_averages.columns = list(df_total.columns.values)"
   ]
  },
  {
   "cell_type": "markdown",
   "metadata": {},
   "source": [
    "## Train-Test Split - General Linear Regression Model"
   ]
  },
  {
   "cell_type": "code",
   "execution_count": 106,
   "metadata": {
    "collapsed": false,
    "scrolled": true
   },
   "outputs": [],
   "source": [
    "import statsmodels.api as sm\n",
    "from sklearn.model_selection import train_test_split\n",
    "from math import sqrt\n",
    "\n",
    "target = pd.DataFrame(df_rookie_averages['Salary_2018'])\n",
    "independent_vars = df_rookie_averages.loc[:,['PTS','AST','TRB','BLK','DWS','Age']]\n",
    "independent_vars.astype(float)\n",
    "independent_vars.dropna(inplace=True)\n",
    "\n",
    "X_train, X_test, y_train, y_test = train_test_split(independent_vars, target, test_size=0.25)"
   ]
  },
  {
   "cell_type": "code",
   "execution_count": 110,
   "metadata": {
    "collapsed": false
   },
   "outputs": [
    {
     "name": "stdout",
     "output_type": "stream",
     "text": [
      "R Squared:  0.616873258315\n",
      "  Variable         Value\n",
      "0      PTS  7.181827e+05\n",
      "1      AST  3.230491e+05\n",
      "2      TRB  3.456190e+05\n",
      "3      BLK  1.512113e+06\n",
      "4      DWS  1.831869e+06\n",
      "5      Age -3.897632e+05\n"
     ]
    }
   ],
   "source": [
    "from sklearn.linear_model import Ridge\n",
    "\n",
    "clf = Ridge(alpha=10.0,fit_intercept=True)\n",
    "clf.fit(X_train,y_train)\n",
    "print('R Squared: ',clf.score(X_test,y_test))\n",
    "\n",
    "output = pd.concat([pd.DataFrame(independent_vars.columns),pd.DataFrame(np.transpose(clf.coef_))],axis=1)\n",
    "header = ['Variable','Value']\n",
    "output.columns = header\n",
    "print(output)"
   ]
  },
  {
   "cell_type": "code",
   "execution_count": 109,
   "metadata": {
    "collapsed": false
   },
   "outputs": [
    {
     "name": "stdout",
     "output_type": "stream",
     "text": [
      "RMSE:  4796257.6276692245\n"
     ]
    }
   ],
   "source": [
    "from sklearn.metrics import mean_squared_error\n",
    "from math import sqrt\n",
    "\n",
    "predictions = clf.predict(X_test)\n",
    "\n",
    "rmse = sqrt(mean_squared_error(np.array(y_test), np.array(predictions)))\n",
    "print(\"RMSE: \",rmse)"
   ]
  },
  {
   "cell_type": "markdown",
   "metadata": {},
   "source": [
    "## Tune Hyperparameters\n",
    "### Use GridsearchCV to Optimize the selection of alpha in the following Ridge Regressiosn"
   ]
  },
  {
   "cell_type": "code",
   "execution_count": 84,
   "metadata": {
    "collapsed": false
   },
   "outputs": [
    {
     "name": "stdout",
     "output_type": "stream",
     "text": [
      "Fitting 2 folds for each of 13 candidates, totalling 26 fits\n"
     ]
    },
    {
     "name": "stderr",
     "output_type": "stream",
     "text": [
      "[Parallel(n_jobs=1)]: Done  26 out of  26 | elapsed:    0.0s finished\n"
     ]
    },
    {
     "data": {
      "text/html": [
       "<div>\n",
       "<table border=\"1\" class=\"dataframe\">\n",
       "  <thead>\n",
       "    <tr style=\"text-align: right;\">\n",
       "      <th></th>\n",
       "      <th>mean_fit_time</th>\n",
       "      <th>mean_score_time</th>\n",
       "      <th>mean_test_score</th>\n",
       "      <th>mean_train_score</th>\n",
       "      <th>param_alpha</th>\n",
       "      <th>params</th>\n",
       "      <th>rank_test_score</th>\n",
       "      <th>split0_test_score</th>\n",
       "      <th>split0_train_score</th>\n",
       "      <th>split1_test_score</th>\n",
       "      <th>split1_train_score</th>\n",
       "      <th>std_fit_time</th>\n",
       "      <th>std_score_time</th>\n",
       "      <th>std_test_score</th>\n",
       "      <th>std_train_score</th>\n",
       "    </tr>\n",
       "  </thead>\n",
       "  <tbody>\n",
       "    <tr>\n",
       "      <th>0</th>\n",
       "      <td>0.005199</td>\n",
       "      <td>0.001058</td>\n",
       "      <td>-2.184021e+13</td>\n",
       "      <td>-1.898104e+13</td>\n",
       "      <td>25</td>\n",
       "      <td>{'alpha': 25}</td>\n",
       "      <td>6</td>\n",
       "      <td>-2.233253e+13</td>\n",
       "      <td>-1.903926e+13</td>\n",
       "      <td>-2.134788e+13</td>\n",
       "      <td>-1.892282e+13</td>\n",
       "      <td>1.633763e-03</td>\n",
       "      <td>1.513958e-05</td>\n",
       "      <td>4.923208e+11</td>\n",
       "      <td>5.822165e+10</td>\n",
       "    </tr>\n",
       "    <tr>\n",
       "      <th>1</th>\n",
       "      <td>0.002532</td>\n",
       "      <td>0.000960</td>\n",
       "      <td>-2.169034e+13</td>\n",
       "      <td>-1.863071e+13</td>\n",
       "      <td>10</td>\n",
       "      <td>{'alpha': 10}</td>\n",
       "      <td>1</td>\n",
       "      <td>-2.184569e+13</td>\n",
       "      <td>-1.880614e+13</td>\n",
       "      <td>-2.153499e+13</td>\n",
       "      <td>-1.845527e+13</td>\n",
       "      <td>5.373955e-04</td>\n",
       "      <td>9.930134e-05</td>\n",
       "      <td>1.553495e+11</td>\n",
       "      <td>1.754363e+11</td>\n",
       "    </tr>\n",
       "    <tr>\n",
       "      <th>2</th>\n",
       "      <td>0.002526</td>\n",
       "      <td>0.000000</td>\n",
       "      <td>-2.173019e+13</td>\n",
       "      <td>-1.851197e+13</td>\n",
       "      <td>4</td>\n",
       "      <td>{'alpha': 4}</td>\n",
       "      <td>2</td>\n",
       "      <td>-2.164321e+13</td>\n",
       "      <td>-1.872259e+13</td>\n",
       "      <td>-2.181718e+13</td>\n",
       "      <td>-1.830134e+13</td>\n",
       "      <td>4.658699e-04</td>\n",
       "      <td>0.000000e+00</td>\n",
       "      <td>8.698215e+10</td>\n",
       "      <td>2.106215e+11</td>\n",
       "    </tr>\n",
       "    <tr>\n",
       "      <th>3</th>\n",
       "      <td>0.002492</td>\n",
       "      <td>0.000998</td>\n",
       "      <td>-2.178395e+13</td>\n",
       "      <td>-1.848631e+13</td>\n",
       "      <td>2</td>\n",
       "      <td>{'alpha': 2}</td>\n",
       "      <td>3</td>\n",
       "      <td>-2.158833e+13</td>\n",
       "      <td>-1.870271e+13</td>\n",
       "      <td>-2.197957e+13</td>\n",
       "      <td>-1.826990e+13</td>\n",
       "      <td>4.979372e-04</td>\n",
       "      <td>2.384186e-07</td>\n",
       "      <td>1.956195e+11</td>\n",
       "      <td>2.164021e+11</td>\n",
       "    </tr>\n",
       "    <tr>\n",
       "      <th>4</th>\n",
       "      <td>0.003766</td>\n",
       "      <td>0.000926</td>\n",
       "      <td>-2.182422e+13</td>\n",
       "      <td>-1.847856e+13</td>\n",
       "      <td>1</td>\n",
       "      <td>{'alpha': 1.0}</td>\n",
       "      <td>4</td>\n",
       "      <td>-2.156754e+13</td>\n",
       "      <td>-1.869632e+13</td>\n",
       "      <td>-2.208089e+13</td>\n",
       "      <td>-1.826081e+13</td>\n",
       "      <td>2.231598e-04</td>\n",
       "      <td>2.988577e-04</td>\n",
       "      <td>2.566717e+11</td>\n",
       "      <td>2.177551e+11</td>\n",
       "    </tr>\n",
       "    <tr>\n",
       "      <th>5</th>\n",
       "      <td>0.004441</td>\n",
       "      <td>0.000993</td>\n",
       "      <td>-2.183363e+13</td>\n",
       "      <td>-1.847755e+13</td>\n",
       "      <td>0.8</td>\n",
       "      <td>{'alpha': 0.8}</td>\n",
       "      <td>5</td>\n",
       "      <td>-2.156418e+13</td>\n",
       "      <td>-1.869545e+13</td>\n",
       "      <td>-2.210308e+13</td>\n",
       "      <td>-1.825964e+13</td>\n",
       "      <td>1.570225e-03</td>\n",
       "      <td>5.960464e-06</td>\n",
       "      <td>2.694482e+11</td>\n",
       "      <td>2.179046e+11</td>\n",
       "    </tr>\n",
       "    <tr>\n",
       "      <th>6</th>\n",
       "      <td>0.003984</td>\n",
       "      <td>0.001078</td>\n",
       "      <td>-2.184870e+13</td>\n",
       "      <td>-1.847641e+13</td>\n",
       "      <td>0.5</td>\n",
       "      <td>{'alpha': 0.5}</td>\n",
       "      <td>7</td>\n",
       "      <td>-2.155974e+13</td>\n",
       "      <td>-1.869447e+13</td>\n",
       "      <td>-2.213767e+13</td>\n",
       "      <td>-1.825835e+13</td>\n",
       "      <td>1.002669e-03</td>\n",
       "      <td>8.046627e-05</td>\n",
       "      <td>2.889677e+11</td>\n",
       "      <td>2.180590e+11</td>\n",
       "    </tr>\n",
       "    <tr>\n",
       "      <th>7</th>\n",
       "      <td>0.003617</td>\n",
       "      <td>0.000535</td>\n",
       "      <td>-2.185943e+13</td>\n",
       "      <td>-1.847593e+13</td>\n",
       "      <td>0.3</td>\n",
       "      <td>{'alpha': 0.3}</td>\n",
       "      <td>8</td>\n",
       "      <td>-2.155722e+13</td>\n",
       "      <td>-1.869405e+13</td>\n",
       "      <td>-2.216165e+13</td>\n",
       "      <td>-1.825781e+13</td>\n",
       "      <td>1.621962e-03</td>\n",
       "      <td>5.347729e-04</td>\n",
       "      <td>3.022156e+11</td>\n",
       "      <td>2.181186e+11</td>\n",
       "    </tr>\n",
       "    <tr>\n",
       "      <th>8</th>\n",
       "      <td>0.003575</td>\n",
       "      <td>0.000576</td>\n",
       "      <td>-2.186501e+13</td>\n",
       "      <td>-1.847577e+13</td>\n",
       "      <td>0.2</td>\n",
       "      <td>{'alpha': 0.2}</td>\n",
       "      <td>9</td>\n",
       "      <td>-2.155610e+13</td>\n",
       "      <td>-1.869391e+13</td>\n",
       "      <td>-2.217392e+13</td>\n",
       "      <td>-1.825764e+13</td>\n",
       "      <td>4.814863e-04</td>\n",
       "      <td>5.755424e-04</td>\n",
       "      <td>3.089094e+11</td>\n",
       "      <td>2.181364e+11</td>\n",
       "    </tr>\n",
       "    <tr>\n",
       "      <th>9</th>\n",
       "      <td>0.002993</td>\n",
       "      <td>0.000999</td>\n",
       "      <td>-2.187074e+13</td>\n",
       "      <td>-1.847568e+13</td>\n",
       "      <td>0.1</td>\n",
       "      <td>{'alpha': 0.1}</td>\n",
       "      <td>10</td>\n",
       "      <td>-2.155509e+13</td>\n",
       "      <td>-1.869382e+13</td>\n",
       "      <td>-2.218639e+13</td>\n",
       "      <td>-1.825753e+13</td>\n",
       "      <td>1.192093e-07</td>\n",
       "      <td>1.072884e-06</td>\n",
       "      <td>3.156493e+11</td>\n",
       "      <td>2.181467e+11</td>\n",
       "    </tr>\n",
       "    <tr>\n",
       "      <th>10</th>\n",
       "      <td>0.003431</td>\n",
       "      <td>0.000998</td>\n",
       "      <td>-2.187366e+13</td>\n",
       "      <td>-1.847565e+13</td>\n",
       "      <td>0.05</td>\n",
       "      <td>{'alpha': 0.05}</td>\n",
       "      <td>11</td>\n",
       "      <td>-2.155462e+13</td>\n",
       "      <td>-1.869380e+13</td>\n",
       "      <td>-2.219270e+13</td>\n",
       "      <td>-1.825750e+13</td>\n",
       "      <td>5.618334e-04</td>\n",
       "      <td>5.960464e-07</td>\n",
       "      <td>3.190365e+11</td>\n",
       "      <td>2.181492e+11</td>\n",
       "    </tr>\n",
       "    <tr>\n",
       "      <th>11</th>\n",
       "      <td>0.002299</td>\n",
       "      <td>0.000440</td>\n",
       "      <td>-2.187543e+13</td>\n",
       "      <td>-1.847565e+13</td>\n",
       "      <td>0.02</td>\n",
       "      <td>{'alpha': 0.02}</td>\n",
       "      <td>12</td>\n",
       "      <td>-2.155436e+13</td>\n",
       "      <td>-1.869380e+13</td>\n",
       "      <td>-2.219650e+13</td>\n",
       "      <td>-1.825750e+13</td>\n",
       "      <td>3.817081e-04</td>\n",
       "      <td>4.402399e-04</td>\n",
       "      <td>3.210742e+11</td>\n",
       "      <td>2.181499e+11</td>\n",
       "    </tr>\n",
       "    <tr>\n",
       "      <th>12</th>\n",
       "      <td>0.002941</td>\n",
       "      <td>0.000886</td>\n",
       "      <td>-2.187602e+13</td>\n",
       "      <td>-1.847565e+13</td>\n",
       "      <td>0.01</td>\n",
       "      <td>{'alpha': 0.01}</td>\n",
       "      <td>13</td>\n",
       "      <td>-2.155427e+13</td>\n",
       "      <td>-1.869380e+13</td>\n",
       "      <td>-2.219778e+13</td>\n",
       "      <td>-1.825750e+13</td>\n",
       "      <td>5.209446e-05</td>\n",
       "      <td>2.136230e-04</td>\n",
       "      <td>3.217544e+11</td>\n",
       "      <td>2.181500e+11</td>\n",
       "    </tr>\n",
       "  </tbody>\n",
       "</table>\n",
       "</div>"
      ],
      "text/plain": [
       "    mean_fit_time  mean_score_time  mean_test_score  mean_train_score  \\\n",
       "0        0.005199         0.001058    -2.184021e+13     -1.898104e+13   \n",
       "1        0.002532         0.000960    -2.169034e+13     -1.863071e+13   \n",
       "2        0.002526         0.000000    -2.173019e+13     -1.851197e+13   \n",
       "3        0.002492         0.000998    -2.178395e+13     -1.848631e+13   \n",
       "4        0.003766         0.000926    -2.182422e+13     -1.847856e+13   \n",
       "5        0.004441         0.000993    -2.183363e+13     -1.847755e+13   \n",
       "6        0.003984         0.001078    -2.184870e+13     -1.847641e+13   \n",
       "7        0.003617         0.000535    -2.185943e+13     -1.847593e+13   \n",
       "8        0.003575         0.000576    -2.186501e+13     -1.847577e+13   \n",
       "9        0.002993         0.000999    -2.187074e+13     -1.847568e+13   \n",
       "10       0.003431         0.000998    -2.187366e+13     -1.847565e+13   \n",
       "11       0.002299         0.000440    -2.187543e+13     -1.847565e+13   \n",
       "12       0.002941         0.000886    -2.187602e+13     -1.847565e+13   \n",
       "\n",
       "   param_alpha           params  rank_test_score  split0_test_score  \\\n",
       "0           25    {'alpha': 25}                6      -2.233253e+13   \n",
       "1           10    {'alpha': 10}                1      -2.184569e+13   \n",
       "2            4     {'alpha': 4}                2      -2.164321e+13   \n",
       "3            2     {'alpha': 2}                3      -2.158833e+13   \n",
       "4            1   {'alpha': 1.0}                4      -2.156754e+13   \n",
       "5          0.8   {'alpha': 0.8}                5      -2.156418e+13   \n",
       "6          0.5   {'alpha': 0.5}                7      -2.155974e+13   \n",
       "7          0.3   {'alpha': 0.3}                8      -2.155722e+13   \n",
       "8          0.2   {'alpha': 0.2}                9      -2.155610e+13   \n",
       "9          0.1   {'alpha': 0.1}               10      -2.155509e+13   \n",
       "10        0.05  {'alpha': 0.05}               11      -2.155462e+13   \n",
       "11        0.02  {'alpha': 0.02}               12      -2.155436e+13   \n",
       "12        0.01  {'alpha': 0.01}               13      -2.155427e+13   \n",
       "\n",
       "    split0_train_score  split1_test_score  split1_train_score  std_fit_time  \\\n",
       "0        -1.903926e+13      -2.134788e+13       -1.892282e+13  1.633763e-03   \n",
       "1        -1.880614e+13      -2.153499e+13       -1.845527e+13  5.373955e-04   \n",
       "2        -1.872259e+13      -2.181718e+13       -1.830134e+13  4.658699e-04   \n",
       "3        -1.870271e+13      -2.197957e+13       -1.826990e+13  4.979372e-04   \n",
       "4        -1.869632e+13      -2.208089e+13       -1.826081e+13  2.231598e-04   \n",
       "5        -1.869545e+13      -2.210308e+13       -1.825964e+13  1.570225e-03   \n",
       "6        -1.869447e+13      -2.213767e+13       -1.825835e+13  1.002669e-03   \n",
       "7        -1.869405e+13      -2.216165e+13       -1.825781e+13  1.621962e-03   \n",
       "8        -1.869391e+13      -2.217392e+13       -1.825764e+13  4.814863e-04   \n",
       "9        -1.869382e+13      -2.218639e+13       -1.825753e+13  1.192093e-07   \n",
       "10       -1.869380e+13      -2.219270e+13       -1.825750e+13  5.618334e-04   \n",
       "11       -1.869380e+13      -2.219650e+13       -1.825750e+13  3.817081e-04   \n",
       "12       -1.869380e+13      -2.219778e+13       -1.825750e+13  5.209446e-05   \n",
       "\n",
       "    std_score_time  std_test_score  std_train_score  \n",
       "0     1.513958e-05    4.923208e+11     5.822165e+10  \n",
       "1     9.930134e-05    1.553495e+11     1.754363e+11  \n",
       "2     0.000000e+00    8.698215e+10     2.106215e+11  \n",
       "3     2.384186e-07    1.956195e+11     2.164021e+11  \n",
       "4     2.988577e-04    2.566717e+11     2.177551e+11  \n",
       "5     5.960464e-06    2.694482e+11     2.179046e+11  \n",
       "6     8.046627e-05    2.889677e+11     2.180590e+11  \n",
       "7     5.347729e-04    3.022156e+11     2.181186e+11  \n",
       "8     5.755424e-04    3.089094e+11     2.181364e+11  \n",
       "9     1.072884e-06    3.156493e+11     2.181467e+11  \n",
       "10    5.960464e-07    3.190365e+11     2.181492e+11  \n",
       "11    4.402399e-04    3.210742e+11     2.181499e+11  \n",
       "12    2.136230e-04    3.217544e+11     2.181500e+11  "
      ]
     },
     "execution_count": 84,
     "metadata": {},
     "output_type": "execute_result"
    }
   ],
   "source": [
    "from sklearn.linear_model import Ridge\n",
    "from sklearn.model_selection import GridSearchCV\n",
    "\n",
    "params={'alpha': [25,10,4,2,1.0,0.8,0.5,0.3,0.2,0.1,0.05,0.02,0.01]}\n",
    "rdg_reg = Ridge()\n",
    "clf = GridSearchCV(rdg_reg,params,cv=2,verbose = 1, scoring = 'neg_mean_squared_error')\n",
    "clf.fit(X_test,y_test)\n",
    "\n",
    "clf.best_params_\n",
    "\n",
    "pd.DataFrame(clf.cv_results_)"
   ]
  },
  {
   "cell_type": "markdown",
   "metadata": {},
   "source": [
    "#### GridsearchCV resulted in alpha = 10"
   ]
  },
  {
   "cell_type": "code",
   "execution_count": 41,
   "metadata": {
    "collapsed": false
   },
   "outputs": [
    {
     "data": {
      "image/png": "[encoded data removed]",
      "text/plain": [
       "<matplotlib.figure.Figure at 0x190f96690b8>"
      ]
     },
     "metadata": {},
     "output_type": "display_data"
    }
   ],
   "source": [
    "f, ax = plt.subplots(figsize=(6, 6))\n",
    "\n",
    "plt.scatter(y_test, clf.predict(X_test), color=\"g\", label=\"Linear\")\n",
    "\n",
    "ax.plot([0, 5e7], [0, 5e7], ls=\"--\", c=\".3\")\n",
    "ax.set(xlim=(0,5e7), ylim=(0,5e7))\n",
    "plt.title('Residual Plot for General Model')\n",
    "plt.show()"
   ]
  },
  {
   "cell_type": "markdown",
   "metadata": {
    "collapsed": true
   },
   "source": [
    "## Ensemble Model Approach"
   ]
  },
  {
   "cell_type": "markdown",
   "metadata": {},
   "source": [
    "##### Break up dataframe into position specific smaller dataframes"
   ]
  },
  {
   "cell_type": "code",
   "execution_count": 43,
   "metadata": {
    "collapsed": true
   },
   "outputs": [],
   "source": [
    "df_big_men_averages = df_rookie_averages[(df_rookie_averages.Pos == 'PF')|(df_rookie_averages.Pos == 'C')]\n",
    "df_wings_averages = df_rookie_averages[(df_rookie_averages.Pos == 'SF')|(df_rookie_averages.Pos == 'SG')]\n",
    "df_pointguard_averages = df_rookie_averages[(df_rookie_averages.Pos == 'PG')]"
   ]
  },
  {
   "cell_type": "markdown",
   "metadata": {},
   "source": [
    "### Point Guard Specific Sub-model"
   ]
  },
  {
   "cell_type": "code",
   "execution_count": 85,
   "metadata": {
    "collapsed": false
   },
   "outputs": [
    {
     "name": "stdout",
     "output_type": "stream",
     "text": [
      "R Squared:  0.589898867461\n",
      "  Variable         Value\n",
      "0       3P  1.284606e+06\n",
      "1      AST  2.008651e+06\n",
      "2      ORB  2.665362e+06\n",
      "3      BLK  1.999127e+06\n",
      "RMSE:  4640401.380711329\n"
     ]
    }
   ],
   "source": [
    "from sklearn.linear_model import Ridge\n",
    "\n",
    "target = pd.DataFrame(df_pointguard_averages['Salary_2018'])\n",
    "pg_independent_vars = df_pointguard_averages.loc[:,['3P','AST','ORB','BLK']]\n",
    "pg_independent_vars.astype(float)\n",
    "pg_independent_vars.dropna(inplace=True)\n",
    "\n",
    "X_train, X_test, y_train, y_test = train_test_split(pg_independent_vars, target, test_size=0.25)\n",
    "\n",
    "\n",
    "clf_pg = Ridge(alpha=10.0)\n",
    "clf_pg.fit(X_train,y_train)\n",
    "print('R Squared: ',clf_pg.score(X_test,y_test))\n",
    "\n",
    "output = pd.concat([pd.DataFrame(pg_independent_vars.columns),pd.DataFrame(np.transpose(clf_pg.coef_))],axis=1)\n",
    "header = ['Variable','Value']\n",
    "output.columns = header\n",
    "print(output)\n",
    "\n",
    "predictions = clf_pg.predict(X_test)\n",
    "\n",
    "rmse = sqrt(mean_squared_error(np.array(y_test), np.array(predictions)))\n",
    "print(\"RMSE: \",rmse)"
   ]
  },
  {
   "cell_type": "code",
   "execution_count": 86,
   "metadata": {
    "collapsed": false
   },
   "outputs": [
    {
     "data": {
      "image/png": "[encoded data removed]",
      "text/plain": [
       "<matplotlib.figure.Figure at 0x190fd120588>"
      ]
     },
     "metadata": {},
     "output_type": "display_data"
    }
   ],
   "source": [
    "f, ax = plt.subplots(figsize=(6, 6))\n",
    "\n",
    "plt.scatter(y_test, clf_pg.predict(X_test), color=\"g\", label=\"Linear\")\n",
    "\n",
    "ax.plot([0, 5e7], [0, 5e7], ls=\"--\", c=\".3\")\n",
    "ax.set(xlim=(0,5e7), ylim=(0,5e7))\n",
    "plt.title('Residual Plot for PG Specific Model')\n",
    "plt.show()"
   ]
  },
  {
   "cell_type": "markdown",
   "metadata": {},
   "source": [
    "### Big Man Specific Sub-model"
   ]
  },
  {
   "cell_type": "code",
   "execution_count": 117,
   "metadata": {
    "collapsed": false
   },
   "outputs": [
    {
     "name": "stdout",
     "output_type": "stream",
     "text": [
      "R Squared:  0.654381274067\n",
      "  Variable         Value\n",
      "0       3P  9.557244e+05\n",
      "1      AST  1.940786e+06\n",
      "2      ORB  2.409686e+06\n",
      "3      BLK  2.528209e+06\n",
      "4      TOV  3.517647e+06\n",
      "RMSE:  5089699.949127616\n"
     ]
    }
   ],
   "source": [
    "from sklearn.linear_model import Ridge\n",
    "\n",
    "target = pd.DataFrame(df_big_men_averages['Salary_2018'])\n",
    "bm_independent_vars = df_big_men_averages.loc[:,['3P','AST','ORB','BLK','TOV']]\n",
    "bm_independent_vars.astype(float)\n",
    "bm_independent_vars.dropna(inplace=True)\n",
    "\n",
    "X_train, X_test, y_train, y_test = train_test_split(bm_independent_vars, target, test_size=0.25)\n",
    "\n",
    "\n",
    "clf_big = Ridge(alpha=10.0)\n",
    "clf_big.fit(X_train,y_train)\n",
    "print('R Squared: ',clf_big.score(X_test,y_test))\n",
    "\n",
    "output = pd.concat([pd.DataFrame(bm_independent_vars.columns),pd.DataFrame(np.transpose(clf_big.coef_))],axis=1)\n",
    "header = ['Variable','Value']\n",
    "output.columns = header\n",
    "print(output)\n",
    "\n",
    "predictions = clf_big.predict(X_test)\n",
    "\n",
    "rmse = sqrt(mean_squared_error(np.array(y_test), np.array(predictions)))\n",
    "print(\"RMSE: \",rmse)"
   ]
  },
  {
   "cell_type": "code",
   "execution_count": 116,
   "metadata": {
    "collapsed": false
   },
   "outputs": [
    {
     "data": {
      "image/png": "[encoded data removed]",
      "text/plain": [
       "<matplotlib.figure.Figure at 0x190fd34ba58>"
      ]
     },
     "metadata": {},
     "output_type": "display_data"
    }
   ],
   "source": [
    "f, ax = plt.subplots(figsize=(6, 6))\n",
    "\n",
    "plt.scatter(y_test, clf_big.predict(X_test), color=\"g\", label=\"Linear\")\n",
    "\n",
    "ax.plot([0, 5e7], [0, 5e7], ls=\"--\", c=\".3\")\n",
    "ax.set(xlim=(0,5e7), ylim=(0,5e7))\n",
    "plt.title('Residual Plot for Big Man Specific Model')\n",
    "plt.show()"
   ]
  },
  {
   "cell_type": "markdown",
   "metadata": {},
   "source": [
    "### Wing Specific Sub-model"
   ]
  },
  {
   "cell_type": "code",
   "execution_count": 90,
   "metadata": {
    "collapsed": false
   },
   "outputs": [
    {
     "name": "stdout",
     "output_type": "stream",
     "text": [
      "R Squared:  0.62416009801\n",
      "  Variable         Value\n",
      "0       3P  3.188900e+06\n",
      "1      AST  2.362137e+06\n",
      "2      ORB  4.013370e+06\n",
      "3      BLK  3.004715e+06\n",
      "RMSE:  4417242.228467391\n"
     ]
    }
   ],
   "source": [
    "from sklearn.linear_model import Ridge\n",
    "\n",
    "target = pd.DataFrame(df_wings_averages['Salary_2018'])\n",
    "wing_independent_vars = df_wings_averages.loc[:,['3P','AST','ORB','BLK']]\n",
    "wing_independent_vars.astype(float)\n",
    "wing_independent_vars.dropna(inplace=True)\n",
    "\n",
    "X_train, X_test, y_train, y_test = train_test_split(wing_independent_vars, target, test_size=0.25)\n",
    "\n",
    "\n",
    "clf_wing = Ridge(alpha=10.0)\n",
    "clf_wing.fit(X_train,y_train)\n",
    "print('R Squared: ',clf_wing.score(X_test,y_test))\n",
    "\n",
    "output = pd.concat([pd.DataFrame(wing_independent_vars.columns),pd.DataFrame(np.transpose(clf_wing.coef_))],axis=1)\n",
    "header = ['Variable','Value']\n",
    "output.columns = header\n",
    "print(output)\n",
    "\n",
    "predictions = clf_wing.predict(X_test)\n",
    "\n",
    "rmse = sqrt(mean_squared_error(np.array(y_test), np.array(predictions)))\n",
    "print(\"RMSE: \",rmse)"
   ]
  },
  {
   "cell_type": "code",
   "execution_count": 91,
   "metadata": {
    "collapsed": false
   },
   "outputs": [
    {
     "data": {
      "image/png": "[encoded data removed]",
      "text/plain": [
       "<matplotlib.figure.Figure at 0x190fd285da0>"
      ]
     },
     "metadata": {},
     "output_type": "display_data"
    }
   ],
   "source": [
    "f, ax = plt.subplots(figsize=(6, 6))\n",
    "\n",
    "plt.scatter(y_test, clf_wing.predict(X_test), color=\"g\", label=\"Linear\")\n",
    "\n",
    "ax.plot([0, 5e7], [0, 5e7], ls=\"--\", c=\".3\")\n",
    "ax.set(xlim=(0,5e7), ylim=(0,5e7))\n",
    "plt.title('Residual Plot for Wing Specific Model')\n",
    "plt.show()"
   ]
  },
  {
   "cell_type": "markdown",
   "metadata": {},
   "source": [
    "### General Sub Model Component\n",
    "This is the part of the ensemble model that is not position specific.  It does not use variables used by the position specific sub models."
   ]
  },
  {
   "cell_type": "code",
   "execution_count": 113,
   "metadata": {
    "collapsed": false
   },
   "outputs": [
    {
     "name": "stdout",
     "output_type": "stream",
     "text": [
      "R Squared:  0.597198075294\n",
      "  Variable         Value\n",
      "0      PTS  7.758125e+05\n",
      "1      DWS  2.717310e+06\n",
      "2      Age -5.669660e+05\n",
      "RMSE:  5189612.513315623\n"
     ]
    }
   ],
   "source": [
    "target = pd.DataFrame(df_rookie_averages['Salary_2018'])\n",
    "independent_vars = df_rookie_averages.loc[:,['PTS','DWS','Age']]\n",
    "independent_vars.astype(float)\n",
    "independent_vars.dropna(inplace=True)\n",
    "\n",
    "X_train, X_test, y_train, y_test = train_test_split(independent_vars, target, test_size=0.25)\n",
    "\n",
    "\n",
    "clf_gen = Ridge(alpha=10.0)\n",
    "clf_gen.fit(X_train,y_train)\n",
    "print('R Squared: ',clf_gen.score(X_test,y_test))\n",
    "\n",
    "output = pd.concat([pd.DataFrame(independent_vars.columns),pd.DataFrame(np.transpose(clf_gen.coef_))],axis=1)\n",
    "header = ['Variable','Value']\n",
    "output.columns = header\n",
    "print(output)\n",
    "\n",
    "predictions = clf_gen.predict(X_test)\n",
    "\n",
    "rmse = sqrt(mean_squared_error(np.array(y_test), np.array(predictions)))\n",
    "print(\"RMSE: \",rmse)"
   ]
  },
  {
   "cell_type": "markdown",
   "metadata": {},
   "source": [
    "### Create the General components of all the position specific sub-models."
   ]
  },
  {
   "cell_type": "code",
   "execution_count": 118,
   "metadata": {
    "collapsed": false
   },
   "outputs": [],
   "source": [
    "gen_model_pg_independent_vars = independent_vars = df_pointguard_averages.loc[:,['PTS','DWS','Age']]\n",
    "gen_model_pg_independent_vars.astype(float)\n",
    "gen_model_pg_independent_vars.dropna(inplace=True)\n",
    "\n",
    "gen_model_bm_independent_vars = independent_vars = df_big_men_averages.loc[:,['PTS','DWS','Age']]\n",
    "gen_model_bm_independent_vars.astype(float)\n",
    "gen_model_bm_independent_vars.dropna(inplace=True)\n",
    "\n",
    "gen_model_wing_independent_vars = independent_vars = df_wings_averages.loc[:,['PTS','DWS','Age']]\n",
    "gen_model_wing_independent_vars.astype(float)\n",
    "gen_model_wing_independent_vars.dropna(inplace=True)"
   ]
  },
  {
   "cell_type": "markdown",
   "metadata": {},
   "source": [
    "### Find weights for the general vs. position specific sub-models.\n",
    "For each value of p, weight the general model and the position specific sub-models\n",
    "From this weighted value, compute the root mean squared error against the actual data points\n",
    "Calculate the average root mean squared error from all 3 position specific models."
   ]
  },
  {
   "cell_type": "code",
   "execution_count": 119,
   "metadata": {
    "collapsed": false
   },
   "outputs": [
    {
     "name": "stdout",
     "output_type": "stream",
     "text": [
      "Pos specific weight 0.1 4581174.787066437\n",
      "Pos specific weight 0.2 4562856.777372378\n",
      "Pos specific weight 0.3 4563456.625829704\n",
      "Pos specific weight 0.4 4582938.461065685\n",
      "Pos specific weight 0.5 4621022.77555213\n",
      "Pos specific weight 0.6 4677206.619703217\n",
      "Pos specific weight 0.7 4750796.5506104\n",
      "Pos specific weight 0.8 4840949.445748399\n",
      "Pos specific weight 0.9 4946716.0139218485\n"
     ]
    }
   ],
   "source": [
    "from sklearn.metrics import mean_squared_error\n",
    "from math import sqrt\n",
    "\n",
    "for i in range (1,10):\n",
    "    p=i/10\n",
    "    pg_model_avg = p * clf_pg.predict(pg_independent_vars) + (1-p) * clf_gen.predict(gen_model_pg_independent_vars)\n",
    "    weight_pg_rmse = sqrt(mean_squared_error(pg_model_avg,df_pointguard_averages['Salary_2018']))\n",
    "    \n",
    "    bm_model_avg = p * clf_big.predict(bm_independent_vars) + (1-p) * clf_gen.predict(gen_model_bm_independent_vars)\n",
    "    weight_bm_rmse = sqrt(mean_squared_error(bm_model_avg,df_big_men_averages['Salary_2018']))\n",
    "    \n",
    "    wing_model_avg = p * clf_wing.predict(wing_independent_vars) + (1-p) * clf_gen.predict(gen_model_wing_independent_vars)\n",
    "    weight_wing_rmse = sqrt(mean_squared_error(wing_model_avg,df_wings_averages['Salary_2018']))\n",
    "    \n",
    "    overall_rmse = (weight_pg_rmse + weight_bm_rmse + weight_wing_rmse) / 3\n",
    "    \n",
    "    print('Pos specific weight', p , overall_rmse)"
   ]
  },
  {
   "cell_type": "markdown",
   "metadata": {},
   "source": [
    "#### We see that the way to minimize the Root Mean Squared Error in this model is to place 20% of the weight on the position specific component and 80% on the general compontent."
   ]
  },
  {
   "cell_type": "markdown",
   "metadata": {},
   "source": [
    "## Conclusions"
   ]
  },
  {
   "cell_type": "markdown",
   "metadata": {},
   "source": [
    "#### We saw that the generic model had a root mean squared error (RMSE) of 4,796,258 and that the ensemble approach yielded a RMSE of 4,562,856.  This is a modest decrease in 5.1% for the RMSE.  This is a smaller change than I would have anticipated but there are a couple things we can draw from this.  \n",
    "#### First, the ensemble approach did improve our model.  The change in RMSE might be small, but it's important to remember than the target variable is a percentage of the salary cap, so the scale is already a small one.\n",
    "#### Second, it is clear that Points are the biggest driving factor of the predictive power of this model.  The position specific variables improved the model, but the improvement was somewhat small due to most of the variance being explained simply by using the Points variable.  Points correlation level was not postion specific which is why it was not used in the sub-models, it was highly correlated to Salary regardless of position."
   ]
  },
  {
   "cell_type": "code",
   "execution_count": null,
   "metadata": {
    "collapsed": true
   },
   "outputs": [],
   "source": []
  }
 ],
 "metadata": {
  "kernelspec": {
   "display_name": "Python 3",
   "language": "python",
   "name": "python3"
  },
  "language_info": {
   "codemirror_mode": {
    "name": "ipython",
    "version": 3
   },
   "file_extension": ".py",
   "mimetype": "text/x-python",
   "name": "python",
   "nbconvert_exporter": "python",
   "pygments_lexer": "ipython3",
   "version": "3.6.0"
  }
 },
 "nbformat": 4,
 "nbformat_minor": 2
}
