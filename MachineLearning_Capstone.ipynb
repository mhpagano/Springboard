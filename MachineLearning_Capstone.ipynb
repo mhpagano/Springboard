{
 "cells": [
  {
   "cell_type": "code",
   "execution_count": 4,
   "metadata": {
    "collapsed": true
   },
   "outputs": [],
   "source": [
    "import pandas as pd\n",
    "import matplotlib.pyplot as plt\n",
    "import seaborn as sns\n",
    "import numpy as np\n",
    "from scipy.stats.stats import pearsonr \n",
    "import math\n",
    "from pylab import *"
   ]
  },
  {
   "cell_type": "markdown",
   "metadata": {},
   "source": [
    "#### Read in TSV Data.  Format Salary field properly."
   ]
  },
  {
   "cell_type": "code",
   "execution_count": 2,
   "metadata": {
    "collapsed": true
   },
   "outputs": [],
   "source": [
    "df_total = pd.read_csv('test_player_dataframe_1.txt',sep='\\t')\n",
    "\n",
    "df_total.Salary = df_total['Salary'].str.replace('$','')\n",
    "df_total.Salary = df_total['Salary'].str.replace(',','')\n",
    "df_total.Salary = df_total['Salary'].astype(float)"
   ]
  },
  {
   "cell_type": "markdown",
   "metadata": {},
   "source": [
    "### Create Weighted Average Dataframe \n",
    "Create a dataframe that represents the weighted averages of each player's seasons on their rookie contract.  This will give us a representation of their body of work up until the point of their new contract.  Store the player's new non-rookie contract in the same row so we can see the relationships between the weighted averages of statistics and their new contract."
   ]
  },
  {
   "cell_type": "code",
   "execution_count": 3,
   "metadata": {
    "collapsed": true
   },
   "outputs": [],
   "source": [
    "players = df_total['Player'].unique()\n",
    "\n",
    "list_of_rookie_contract_data = []\n",
    "list_of_first_contract_data = []\n",
    "list_of_columns_to_average = ['Age','G','GS','MP_x','FG','FGA',\n",
    " 'FG%','3P','3PA','3P%','2P','2PA','2P%','eFG%','FT','FTA','FT%','ORB',\n",
    " 'DRB','TRB','AST','STL','BLK','TOV','PF','PTS','MP_y','PER','TS%','3PAr',\n",
    " 'FTr','ORB%','DRB%','TRB%','AST%','STL%','BLK%','TOV%','USG%','OWS','DWS',\n",
    " 'WS','WS/48','OBPM','DBPM','BPM','VORP']\n",
    "list_of_averaged_rows = []\n",
    "\n",
    "#For each player in original dataset, create a Rookie table of just his first 4 seasons\n",
    "#Also create a Contract datatable of his first year with the new contract\n",
    "for player in players:\n",
    "    df_player = df_total[df_total['Player'] == player]\n",
    "    df_player_rookie = df_player.iloc[0:3]\n",
    "    df_player_contract = df_player.iloc[4:5]\n",
    "#Append these individual dataframes to separate lists, they will later be concatendated into one larger dataframe    \n",
    "    list_of_rookie_contract_data.append(df_player_rookie)\n",
    "    list_of_first_contract_data.append(df_player_contract)\n",
    "\n",
    "#############################################################################################\n",
    "# Create a dataframe of the weight averages of numerical columns during players first 4 seasons\n",
    "#############################################################################################    \n",
    "    weight_array =[]\n",
    "    total_minutes = 0\n",
    "    for index, row in df_player_rookie.iterrows():\n",
    "        #The weight used will be based off minutes played for each seasons\n",
    "        weight = row.MP_x * row.G\n",
    "        #Make an array of the weights for each season\n",
    "        weight_array.append(weight)\n",
    "        total_minutes = weight + total_minutes\n",
    "    #If they didn't play in a given season, skip    \n",
    "    if total_minutes == 0:\n",
    "        continue\n",
    "    #Normalize the weight array    \n",
    "    weight_array[:] = [x / total_minutes for x in weight_array]\n",
    "\n",
    "    ##Iterate through the new Rookie dataframe, apply weighted average for numerical columns\n",
    "    ##If column is Salary, grab it from the Contract table\n",
    "    ##If column is non-numeric, just add a placeholder value to the row\n",
    "    new_row = []\n",
    "    if len(df_player) <5:\n",
    "        continue\n",
    "    for column in df_player_rookie.columns:        \n",
    "        if column in list_of_columns_to_average:\n",
    "            new_row.append(np.dot(weight_array,df_player_rookie[column]))\n",
    "        elif column == 'Salary':\n",
    "            new_row.append(df_player.iloc[4:5]['Salary'].values[0])\n",
    "        elif column == 'Salary%':\n",
    "            new_row.append(df_player.iloc[4:5]['Salary%'].values[0])    \n",
    "        else:\n",
    "            var = df_player_rookie.iloc[:-2][column].values[0]\n",
    "            new_row.append(var)\n",
    "    list_of_averaged_rows.append(new_row)\n",
    "list_of_averaged_rows = pd.Series(list_of_averaged_rows)\n",
    "\n",
    "##Make the larger rookie and contract dataframes\n",
    "df_rookie_total = pd.concat(list_of_rookie_contract_data)\n",
    "df_contract_total = pd.concat(list_of_first_contract_data)\n",
    "##Make the larger rookie_averages dataframe\n",
    "df_rookie_averages = pd.DataFrame.from_items(zip(list_of_averaged_rows.index,list_of_averaged_rows.values)).T\n",
    "df_rookie_averages.columns = list(df_total.columns.values)"
   ]
  },
  {
   "cell_type": "code",
   "execution_count": 68,
   "metadata": {
    "collapsed": false
   },
   "outputs": [
    {
     "name": "stdout",
     "output_type": "stream",
     "text": [
      "766\n",
      "766\n",
      "0.620060476423\n",
      "[[ 0.00843731  0.0093365   0.00738141  0.02882312 -0.01193533]]\n",
      "[-0.02944301]\n"
     ]
    }
   ],
   "source": [
    "from sklearn.linear_model import LinearRegression\n",
    "independent_vars = df_rookie_averages.loc[:,['PTS','AST','TRB','BLK','TOV']]\n",
    "print(len(df_rookie_averages['PTS']))\n",
    "print(len(df_rookie_averages['Salary%']))\n",
    "lm = LinearRegression()\n",
    "\n",
    "#lm.fit(X=df_rookie_averages['PTS'].to_frame(),y=df_rookie_averages['Salary%'].to_frame())\n",
    "lm.fit(X=independent_vars,y=df_rookie_averages['Salary%'].to_frame())\n",
    "\n",
    "lm.get_params(deep=True)\n",
    "#print(lm.score(X=df_rookie_averages['PTS'].to_frame(),y=df_rookie_averages['Salary%'].to_frame()))\n",
    "print(lm.score(X=independent_vars,y=df_rookie_averages['Salary%'].to_frame()))\n",
    "print(lm.coef_)\n",
    "print(lm.intercept_)"
   ]
  },
  {
   "cell_type": "code",
   "execution_count": 88,
   "metadata": {
    "collapsed": false
   },
   "outputs": [
    {
     "data": {
      "text/html": [
       "<table class=\"simpletable\">\n",
       "<caption>OLS Regression Results</caption>\n",
       "<tr>\n",
       "  <th>Dep. Variable:</th>            <td>y</td>        <th>  R-squared:         </th> <td>   0.854</td> \n",
       "</tr>\n",
       "<tr>\n",
       "  <th>Model:</th>                   <td>OLS</td>       <th>  Adj. R-squared:    </th> <td>   0.852</td> \n",
       "</tr>\n",
       "<tr>\n",
       "  <th>Method:</th>             <td>Least Squares</td>  <th>  F-statistic:       </th> <td>   738.3</td> \n",
       "</tr>\n",
       "<tr>\n",
       "  <th>Date:</th>             <td>Mon, 28 May 2018</td> <th>  Prob (F-statistic):</th> <td>4.67e-313</td>\n",
       "</tr>\n",
       "<tr>\n",
       "  <th>Time:</th>                 <td>17:40:50</td>     <th>  Log-Likelihood:    </th> <td>  1282.2</td> \n",
       "</tr>\n",
       "<tr>\n",
       "  <th>No. Observations:</th>      <td>   766</td>      <th>  AIC:               </th> <td>  -2552.</td> \n",
       "</tr>\n",
       "<tr>\n",
       "  <th>Df Residuals:</th>          <td>   760</td>      <th>  BIC:               </th> <td>  -2525.</td> \n",
       "</tr>\n",
       "<tr>\n",
       "  <th>Df Model:</th>              <td>     6</td>      <th>                     </th>     <td> </td>    \n",
       "</tr>\n",
       "<tr>\n",
       "  <th>Covariance Type:</th>      <td>nonrobust</td>    <th>                     </th>     <td> </td>    \n",
       "</tr>\n",
       "</table>\n",
       "<table class=\"simpletable\">\n",
       "<tr>\n",
       "   <td></td>      <th>coef</th>     <th>std err</th>      <th>t</th>      <th>P>|t|</th> <th>[95.0% Conf. Int.]</th> \n",
       "</tr>\n",
       "<tr>\n",
       "  <th>PTS</th> <td>    0.0073</td> <td>    0.001</td> <td>   12.704</td> <td> 0.000</td> <td>    0.006     0.008</td>\n",
       "</tr>\n",
       "<tr>\n",
       "  <th>AST</th> <td>    0.0036</td> <td>    0.001</td> <td>    2.417</td> <td> 0.016</td> <td>    0.001     0.007</td>\n",
       "</tr>\n",
       "<tr>\n",
       "  <th>TRB</th> <td>    0.0034</td> <td>    0.001</td> <td>    2.421</td> <td> 0.016</td> <td>    0.001     0.006</td>\n",
       "</tr>\n",
       "<tr>\n",
       "  <th>BLK</th> <td>    0.0196</td> <td>    0.005</td> <td>    4.151</td> <td> 0.000</td> <td>    0.010     0.029</td>\n",
       "</tr>\n",
       "<tr>\n",
       "  <th>DWS</th> <td>    0.0175</td> <td>    0.003</td> <td>    6.501</td> <td> 0.000</td> <td>    0.012     0.023</td>\n",
       "</tr>\n",
       "<tr>\n",
       "  <th>Age</th> <td>   -0.0013</td> <td>    0.000</td> <td>   -8.153</td> <td> 0.000</td> <td>   -0.002    -0.001</td>\n",
       "</tr>\n",
       "</table>\n",
       "<table class=\"simpletable\">\n",
       "<tr>\n",
       "  <th>Omnibus:</th>       <td>69.571</td> <th>  Durbin-Watson:     </th> <td>   1.878</td>\n",
       "</tr>\n",
       "<tr>\n",
       "  <th>Prob(Omnibus):</th> <td> 0.000</td> <th>  Jarque-Bera (JB):  </th> <td> 224.619</td>\n",
       "</tr>\n",
       "<tr>\n",
       "  <th>Skew:</th>          <td> 0.403</td> <th>  Prob(JB):          </th> <td>1.68e-49</td>\n",
       "</tr>\n",
       "<tr>\n",
       "  <th>Kurtosis:</th>      <td> 5.527</td> <th>  Cond. No.          </th> <td>    73.7</td>\n",
       "</tr>\n",
       "</table>"
      ],
      "text/plain": [
       "<class 'statsmodels.iolib.summary.Summary'>\n",
       "\"\"\"\n",
       "                            OLS Regression Results                            \n",
       "==============================================================================\n",
       "Dep. Variable:                      y   R-squared:                       0.854\n",
       "Model:                            OLS   Adj. R-squared:                  0.852\n",
       "Method:                 Least Squares   F-statistic:                     738.3\n",
       "Date:                Mon, 28 May 2018   Prob (F-statistic):          4.67e-313\n",
       "Time:                        17:40:50   Log-Likelihood:                 1282.2\n",
       "No. Observations:                 766   AIC:                            -2552.\n",
       "Df Residuals:                     760   BIC:                            -2525.\n",
       "Df Model:                           6                                         \n",
       "Covariance Type:            nonrobust                                         \n",
       "==============================================================================\n",
       "                 coef    std err          t      P>|t|      [95.0% Conf. Int.]\n",
       "------------------------------------------------------------------------------\n",
       "PTS            0.0073      0.001     12.704      0.000         0.006     0.008\n",
       "AST            0.0036      0.001      2.417      0.016         0.001     0.007\n",
       "TRB            0.0034      0.001      2.421      0.016         0.001     0.006\n",
       "BLK            0.0196      0.005      4.151      0.000         0.010     0.029\n",
       "DWS            0.0175      0.003      6.501      0.000         0.012     0.023\n",
       "Age           -0.0013      0.000     -8.153      0.000        -0.002    -0.001\n",
       "==============================================================================\n",
       "Omnibus:                       69.571   Durbin-Watson:                   1.878\n",
       "Prob(Omnibus):                  0.000   Jarque-Bera (JB):              224.619\n",
       "Skew:                           0.403   Prob(JB):                     1.68e-49\n",
       "Kurtosis:                       5.527   Cond. No.                         73.7\n",
       "==============================================================================\n",
       "\n",
       "Warnings:\n",
       "[1] Standard Errors assume that the covariance matrix of the errors is correctly specified.\n",
       "\"\"\""
      ]
     },
     "execution_count": 88,
     "metadata": {},
     "output_type": "execute_result"
    }
   ],
   "source": [
    "import statsmodels.api as sm\n",
    "\n",
    "target = pd.DataFrame(df_rookie_averages['Salary%'])\n",
    "independent_vars = df_rookie_averages.loc[:,['PTS','AST','TRB','BLK','DWS','Age']]\n",
    "independent_vars.astype(float)\n",
    "independent_vars.dropna(inplace=True)\n",
    "independent_vars.describe()\n",
    "\n",
    "model = sm.OLS(list(target['Salary%'].astype(float)),independent_vars.astype(float)).fit()\n",
    "\n",
    "model.summary()"
   ]
  },
  {
   "cell_type": "code",
   "execution_count": 87,
   "metadata": {
    "collapsed": false
   },
   "outputs": [
    {
     "data": {
      "image/png": "[encoded data removed]",
      "text/plain": [
       "<matplotlib.figure.Figure at 0x24456c068d0>"
      ]
     },
     "metadata": {},
     "output_type": "display_data"
    }
   ],
   "source": [
    "f, ax = plt.subplots(figsize=(6, 6))\n",
    "\n",
    "plt.scatter(target, model.predict(), color=\"g\", label=\"Linear\")\n",
    "\n",
    "ax.plot([0, 0.5], [0, 0.5], ls=\"--\", c=\".3\")\n",
    "ax.set(xlim=(0,0.5), ylim=(0,0.5))\n",
    "plt.show()"
   ]
  },
  {
   "cell_type": "code",
   "execution_count": null,
   "metadata": {
    "collapsed": true
   },
   "outputs": [],
   "source": []
  }
 ],
 "metadata": {
  "kernelspec": {
   "display_name": "Python 3",
   "language": "python",
   "name": "python3"
  },
  "language_info": {
   "codemirror_mode": {
    "name": "ipython",
    "version": 3
   },
   "file_extension": ".py",
   "mimetype": "text/x-python",
   "name": "python",
   "nbconvert_exporter": "python",
   "pygments_lexer": "ipython3",
   "version": "3.6.0"
  }
 },
 "nbformat": 4,
 "nbformat_minor": 2
}
