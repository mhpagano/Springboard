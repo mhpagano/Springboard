{
 "cells": [
  {
   "cell_type": "code",
   "execution_count": 4,
   "metadata": {
    "collapsed": true
   },
   "outputs": [],
   "source": [
    "import pandas as pd\n",
    "import matplotlib.pyplot as plt\n",
    "import seaborn as sns\n",
    "import numpy as np\n",
    "from scipy.stats.stats import pearsonr \n",
    "import math\n",
    "from pylab import *"
   ]
  },
  {
   "cell_type": "markdown",
   "metadata": {},
   "source": [
    "#### Read in TSV Data.  Format Salary field properly."
   ]
  },
  {
   "cell_type": "code",
   "execution_count": 2,
   "metadata": {
    "collapsed": true
   },
   "outputs": [],
   "source": [
    "df_total = pd.read_csv('test_player_dataframe_1.txt',sep='\\t')\n",
    "\n",
    "df_total.Salary = df_total['Salary'].str.replace('$','')\n",
    "df_total.Salary = df_total['Salary'].str.replace(',','')\n",
    "df_total.Salary = df_total['Salary'].astype(float)"
   ]
  },
  {
   "cell_type": "markdown",
   "metadata": {},
   "source": [
    "### Create Weighted Average Dataframe \n",
    "Create a dataframe that represents the weighted averages of each player's seasons on their rookie contract.  This will give us a representation of their body of work up until the point of their new contract.  Store the player's new non-rookie contract in the same row so we can see the relationships between the weighted averages of statistics and their new contract."
   ]
  },
  {
   "cell_type": "code",
   "execution_count": 3,
   "metadata": {
    "collapsed": true
   },
   "outputs": [],
   "source": [
    "players = df_total['Player'].unique()\n",
    "\n",
    "list_of_rookie_contract_data = []\n",
    "list_of_first_contract_data = []\n",
    "list_of_columns_to_average = ['Age','G','GS','MP_x','FG','FGA',\n",
    " 'FG%','3P','3PA','3P%','2P','2PA','2P%','eFG%','FT','FTA','FT%','ORB',\n",
    " 'DRB','TRB','AST','STL','BLK','TOV','PF','PTS','MP_y','PER','TS%','3PAr',\n",
    " 'FTr','ORB%','DRB%','TRB%','AST%','STL%','BLK%','TOV%','USG%','OWS','DWS',\n",
    " 'WS','WS/48','OBPM','DBPM','BPM','VORP']\n",
    "list_of_averaged_rows = []\n",
    "\n",
    "#For each player in original dataset, create a Rookie table of just his first 4 seasons\n",
    "#Also create a Contract datatable of his first year with the new contract\n",
    "for player in players:\n",
    "    df_player = df_total[df_total['Player'] == player]\n",
    "    df_player_rookie = df_player.iloc[0:3]\n",
    "    df_player_contract = df_player.iloc[4:5]\n",
    "#Append these individual dataframes to separate lists, they will later be concatendated into one larger dataframe    \n",
    "    list_of_rookie_contract_data.append(df_player_rookie)\n",
    "    list_of_first_contract_data.append(df_player_contract)\n",
    "\n",
    "#############################################################################################\n",
    "# Create a dataframe of the weight averages of numerical columns during players first 4 seasons\n",
    "#############################################################################################    \n",
    "    weight_array =[]\n",
    "    total_minutes = 0\n",
    "    for index, row in df_player_rookie.iterrows():\n",
    "        #The weight used will be based off minutes played for each seasons\n",
    "        weight = row.MP_x * row.G\n",
    "        #Make an array of the weights for each season\n",
    "        weight_array.append(weight)\n",
    "        total_minutes = weight + total_minutes\n",
    "    #If they didn't play in a given season, skip    \n",
    "    if total_minutes == 0:\n",
    "        continue\n",
    "    #Normalize the weight array    \n",
    "    weight_array[:] = [x / total_minutes for x in weight_array]\n",
    "\n",
    "    ##Iterate through the new Rookie dataframe, apply weighted average for numerical columns\n",
    "    ##If column is Salary, grab it from the Contract table\n",
    "    ##If column is non-numeric, just add a placeholder value to the row\n",
    "    new_row = []\n",
    "    if len(df_player) <5:\n",
    "        continue\n",
    "    for column in df_player_rookie.columns:        \n",
    "        if column in list_of_columns_to_average:\n",
    "            new_row.append(np.dot(weight_array,df_player_rookie[column]))\n",
    "        elif column == 'Salary':\n",
    "            new_row.append(df_player.iloc[4:5]['Salary'].values[0])\n",
    "        elif column == 'Salary%':\n",
    "            new_row.append(df_player.iloc[4:5]['Salary%'].values[0])    \n",
    "        else:\n",
    "            var = df_player_rookie.iloc[:-2][column].values[0]\n",
    "            new_row.append(var)\n",
    "    list_of_averaged_rows.append(new_row)\n",
    "list_of_averaged_rows = pd.Series(list_of_averaged_rows)\n",
    "\n",
    "##Make the larger rookie and contract dataframes\n",
    "df_rookie_total = pd.concat(list_of_rookie_contract_data)\n",
    "df_contract_total = pd.concat(list_of_first_contract_data)\n",
    "##Make the larger rookie_averages dataframe\n",
    "df_rookie_averages = pd.DataFrame.from_items(zip(list_of_averaged_rows.index,list_of_averaged_rows.values)).T\n",
    "df_rookie_averages.columns = list(df_total.columns.values)"
   ]
  },
  {
   "cell_type": "code",
   "execution_count": 68,
   "metadata": {
    "collapsed": false
   },
   "outputs": [
    {
     "name": "stdout",
     "output_type": "stream",
     "text": [
      "766\n",
      "766\n",
      "0.620060476423\n",
      "[[ 0.00843731  0.0093365   0.00738141  0.02882312 -0.01193533]]\n",
      "[-0.02944301]\n"
     ]
    }
   ],
   "source": [
    "from sklearn.linear_model import LinearRegression\n",
    "independent_vars = df_rookie_averages.loc[:,['PTS','AST','TRB','BLK','TOV']]\n",
    "print(len(df_rookie_averages['PTS']))\n",
    "print(len(df_rookie_averages['Salary%']))\n",
    "lm = LinearRegression()\n",
    "\n",
    "#lm.fit(X=df_rookie_averages['PTS'].to_frame(),y=df_rookie_averages['Salary%'].to_frame())\n",
    "lm.fit(X=independent_vars,y=df_rookie_averages['Salary%'].to_frame())\n",
    "\n",
    "lm.get_params(deep=True)\n",
    "#print(lm.score(X=df_rookie_averages['PTS'].to_frame(),y=df_rookie_averages['Salary%'].to_frame()))\n",
    "print(lm.score(X=independent_vars,y=df_rookie_averages['Salary%'].to_frame()))\n",
    "print(lm.coef_)\n",
    "print(lm.intercept_)"
   ]
  },
  {
   "cell_type": "code",
   "execution_count": 178,
   "metadata": {
    "collapsed": false
   },
   "outputs": [
    {
     "data": {
      "text/html": [
       "<table class=\"simpletable\">\n",
       "<caption>OLS Regression Results</caption>\n",
       "<tr>\n",
       "  <th>Dep. Variable:</th>            <td>y</td>        <th>  R-squared:         </th> <td>   0.646</td> \n",
       "</tr>\n",
       "<tr>\n",
       "  <th>Model:</th>                   <td>OLS</td>       <th>  Adj. R-squared:    </th> <td>   0.644</td> \n",
       "</tr>\n",
       "<tr>\n",
       "  <th>Method:</th>             <td>Least Squares</td>  <th>  F-statistic:       </th> <td>   231.2</td> \n",
       "</tr>\n",
       "<tr>\n",
       "  <th>Date:</th>             <td>Sun, 03 Jun 2018</td> <th>  Prob (F-statistic):</th> <td>1.50e-167</td>\n",
       "</tr>\n",
       "<tr>\n",
       "  <th>Time:</th>                 <td>16:00:11</td>     <th>  Log-Likelihood:    </th> <td>  1287.0</td> \n",
       "</tr>\n",
       "<tr>\n",
       "  <th>No. Observations:</th>      <td>   766</td>      <th>  AIC:               </th> <td>  -2560.</td> \n",
       "</tr>\n",
       "<tr>\n",
       "  <th>Df Residuals:</th>          <td>   759</td>      <th>  BIC:               </th> <td>  -2527.</td> \n",
       "</tr>\n",
       "<tr>\n",
       "  <th>Df Model:</th>              <td>     6</td>      <th>                     </th>     <td> </td>    \n",
       "</tr>\n",
       "<tr>\n",
       "  <th>Covariance Type:</th>      <td>nonrobust</td>    <th>                     </th>     <td> </td>    \n",
       "</tr>\n",
       "</table>\n",
       "<table class=\"simpletable\">\n",
       "<tr>\n",
       "    <td></td>       <th>coef</th>     <th>std err</th>      <th>t</th>      <th>P>|t|</th> <th>[95.0% Conf. Int.]</th> \n",
       "</tr>\n",
       "<tr>\n",
       "  <th>const</th> <td>    0.0778</td> <td>    0.025</td> <td>    3.075</td> <td> 0.002</td> <td>    0.028     0.127</td>\n",
       "</tr>\n",
       "<tr>\n",
       "  <th>PTS</th>   <td>    0.0070</td> <td>    0.001</td> <td>   12.095</td> <td> 0.000</td> <td>    0.006     0.008</td>\n",
       "</tr>\n",
       "<tr>\n",
       "  <th>AST</th>   <td>    0.0034</td> <td>    0.001</td> <td>    2.291</td> <td> 0.022</td> <td>    0.000     0.006</td>\n",
       "</tr>\n",
       "<tr>\n",
       "  <th>TRB</th>   <td>    0.0033</td> <td>    0.001</td> <td>    2.294</td> <td> 0.022</td> <td>    0.000     0.006</td>\n",
       "</tr>\n",
       "<tr>\n",
       "  <th>BLK</th>   <td>    0.0183</td> <td>    0.005</td> <td>    3.882</td> <td> 0.000</td> <td>    0.009     0.028</td>\n",
       "</tr>\n",
       "<tr>\n",
       "  <th>DWS</th>   <td>    0.0182</td> <td>    0.003</td> <td>    6.777</td> <td> 0.000</td> <td>    0.013     0.024</td>\n",
       "</tr>\n",
       "<tr>\n",
       "  <th>Age</th>   <td>   -0.0046</td> <td>    0.001</td> <td>   -4.284</td> <td> 0.000</td> <td>   -0.007    -0.002</td>\n",
       "</tr>\n",
       "</table>\n",
       "<table class=\"simpletable\">\n",
       "<tr>\n",
       "  <th>Omnibus:</th>       <td>64.742</td> <th>  Durbin-Watson:     </th> <td>   1.884</td>\n",
       "</tr>\n",
       "<tr>\n",
       "  <th>Prob(Omnibus):</th> <td> 0.000</td> <th>  Jarque-Bera (JB):  </th> <td> 202.619</td>\n",
       "</tr>\n",
       "<tr>\n",
       "  <th>Skew:</th>          <td> 0.377</td> <th>  Prob(JB):          </th> <td>1.00e-44</td>\n",
       "</tr>\n",
       "<tr>\n",
       "  <th>Kurtosis:</th>      <td> 5.404</td> <th>  Cond. No.          </th> <td>    388.</td>\n",
       "</tr>\n",
       "</table>"
      ],
      "text/plain": [
       "<class 'statsmodels.iolib.summary.Summary'>\n",
       "\"\"\"\n",
       "                            OLS Regression Results                            \n",
       "==============================================================================\n",
       "Dep. Variable:                      y   R-squared:                       0.646\n",
       "Model:                            OLS   Adj. R-squared:                  0.644\n",
       "Method:                 Least Squares   F-statistic:                     231.2\n",
       "Date:                Sun, 03 Jun 2018   Prob (F-statistic):          1.50e-167\n",
       "Time:                        16:00:11   Log-Likelihood:                 1287.0\n",
       "No. Observations:                 766   AIC:                            -2560.\n",
       "Df Residuals:                     759   BIC:                            -2527.\n",
       "Df Model:                           6                                         \n",
       "Covariance Type:            nonrobust                                         \n",
       "==============================================================================\n",
       "                 coef    std err          t      P>|t|      [95.0% Conf. Int.]\n",
       "------------------------------------------------------------------------------\n",
       "const          0.0778      0.025      3.075      0.002         0.028     0.127\n",
       "PTS            0.0070      0.001     12.095      0.000         0.006     0.008\n",
       "AST            0.0034      0.001      2.291      0.022         0.000     0.006\n",
       "TRB            0.0033      0.001      2.294      0.022         0.000     0.006\n",
       "BLK            0.0183      0.005      3.882      0.000         0.009     0.028\n",
       "DWS            0.0182      0.003      6.777      0.000         0.013     0.024\n",
       "Age           -0.0046      0.001     -4.284      0.000        -0.007    -0.002\n",
       "==============================================================================\n",
       "Omnibus:                       64.742   Durbin-Watson:                   1.884\n",
       "Prob(Omnibus):                  0.000   Jarque-Bera (JB):              202.619\n",
       "Skew:                           0.377   Prob(JB):                     1.00e-44\n",
       "Kurtosis:                       5.404   Cond. No.                         388.\n",
       "==============================================================================\n",
       "\n",
       "Warnings:\n",
       "[1] Standard Errors assume that the covariance matrix of the errors is correctly specified.\n",
       "\"\"\""
      ]
     },
     "execution_count": 178,
     "metadata": {},
     "output_type": "execute_result"
    }
   ],
   "source": [
    "import statsmodels.api as sm\n",
    "\n",
    "target = pd.DataFrame(df_rookie_averages['Salary%'])\n",
    "independent_vars = df_rookie_averages.loc[:,['PTS','AST','TRB','BLK','DWS','Age']]\n",
    "independent_vars.astype(float)\n",
    "independent_vars.dropna(inplace=True)\n",
    "independent_vars.describe()\n",
    "\n",
    "independent_vars = sm.add_constant(independent_vars)\n",
    "model = sm.OLS(list(target['Salary%'].astype(float)),independent_vars.astype(float)).fit()\n",
    "\n",
    "model.summary()"
   ]
  },
  {
   "cell_type": "code",
   "execution_count": 144,
   "metadata": {
    "collapsed": false
   },
   "outputs": [
    {
     "data": {
      "image/png": "[encoded data removed]",
      "text/plain": [
       "<matplotlib.figure.Figure at 0x244574c5748>"
      ]
     },
     "metadata": {},
     "output_type": "display_data"
    }
   ],
   "source": [
    "f, ax = plt.subplots(figsize=(6, 6))\n",
    "\n",
    "plt.scatter(target, model.predict(), color=\"g\", label=\"Linear\")\n",
    "\n",
    "ax.plot([0, 0.5], [0, 0.5], ls=\"--\", c=\".3\")\n",
    "ax.set(xlim=(0,0.5), ylim=(0,0.5))\n",
    "plt.show()"
   ]
  },
  {
   "cell_type": "markdown",
   "metadata": {
    "collapsed": true
   },
   "source": [
    "## Ensemble Model Approach"
   ]
  },
  {
   "cell_type": "code",
   "execution_count": 132,
   "metadata": {
    "collapsed": true
   },
   "outputs": [],
   "source": [
    "df_big_men_averages = df_rookie_averages[(df_rookie_averages.Pos == 'PF')|(df_rookie_averages.Pos == 'C')]\n",
    "df_wings_averages = df_rookie_averages[(df_rookie_averages.Pos == 'SF')|(df_rookie_averages.Pos == 'SG')]\n",
    "df_pointguard_averages = df_rookie_averages[(df_rookie_averages.Pos == 'PG')]"
   ]
  },
  {
   "cell_type": "markdown",
   "metadata": {},
   "source": [
    "### Point Guard Specific Sub-model"
   ]
  },
  {
   "cell_type": "code",
   "execution_count": 146,
   "metadata": {
    "collapsed": false
   },
   "outputs": [
    {
     "data": {
      "text/html": [
       "<table class=\"simpletable\">\n",
       "<caption>OLS Regression Results</caption>\n",
       "<tr>\n",
       "  <th>Dep. Variable:</th>            <td>y</td>        <th>  R-squared:         </th> <td>   0.609</td>\n",
       "</tr>\n",
       "<tr>\n",
       "  <th>Model:</th>                   <td>OLS</td>       <th>  Adj. R-squared:    </th> <td>   0.598</td>\n",
       "</tr>\n",
       "<tr>\n",
       "  <th>Method:</th>             <td>Least Squares</td>  <th>  F-statistic:       </th> <td>   56.48</td>\n",
       "</tr>\n",
       "<tr>\n",
       "  <th>Date:</th>             <td>Sun, 03 Jun 2018</td> <th>  Prob (F-statistic):</th> <td>1.21e-28</td>\n",
       "</tr>\n",
       "<tr>\n",
       "  <th>Time:</th>                 <td>15:25:10</td>     <th>  Log-Likelihood:    </th> <td>  254.13</td>\n",
       "</tr>\n",
       "<tr>\n",
       "  <th>No. Observations:</th>      <td>   150</td>      <th>  AIC:               </th> <td>  -498.3</td>\n",
       "</tr>\n",
       "<tr>\n",
       "  <th>Df Residuals:</th>          <td>   145</td>      <th>  BIC:               </th> <td>  -483.2</td>\n",
       "</tr>\n",
       "<tr>\n",
       "  <th>Df Model:</th>              <td>     4</td>      <th>                     </th>     <td> </td>   \n",
       "</tr>\n",
       "<tr>\n",
       "  <th>Covariance Type:</th>      <td>nonrobust</td>    <th>                     </th>     <td> </td>   \n",
       "</tr>\n",
       "</table>\n",
       "<table class=\"simpletable\">\n",
       "<tr>\n",
       "    <td></td>       <th>coef</th>     <th>std err</th>      <th>t</th>      <th>P>|t|</th> <th>[95.0% Conf. Int.]</th> \n",
       "</tr>\n",
       "<tr>\n",
       "  <th>const</th> <td>   -0.0257</td> <td>    0.009</td> <td>   -2.906</td> <td> 0.004</td> <td>   -0.043    -0.008</td>\n",
       "</tr>\n",
       "<tr>\n",
       "  <th>3P</th>    <td>    0.0196</td> <td>    0.008</td> <td>    2.594</td> <td> 0.010</td> <td>    0.005     0.034</td>\n",
       "</tr>\n",
       "<tr>\n",
       "  <th>AST</th>   <td>    0.0154</td> <td>    0.002</td> <td>    6.907</td> <td> 0.000</td> <td>    0.011     0.020</td>\n",
       "</tr>\n",
       "<tr>\n",
       "  <th>ORB</th>   <td>    0.0358</td> <td>    0.014</td> <td>    2.575</td> <td> 0.011</td> <td>    0.008     0.063</td>\n",
       "</tr>\n",
       "<tr>\n",
       "  <th>BLK</th>   <td>    0.1266</td> <td>    0.033</td> <td>    3.830</td> <td> 0.000</td> <td>    0.061     0.192</td>\n",
       "</tr>\n",
       "</table>\n",
       "<table class=\"simpletable\">\n",
       "<tr>\n",
       "  <th>Omnibus:</th>       <td> 2.905</td> <th>  Durbin-Watson:     </th> <td>   1.910</td>\n",
       "</tr>\n",
       "<tr>\n",
       "  <th>Prob(Omnibus):</th> <td> 0.234</td> <th>  Jarque-Bera (JB):  </th> <td>   3.059</td>\n",
       "</tr>\n",
       "<tr>\n",
       "  <th>Skew:</th>          <td> 0.015</td> <th>  Prob(JB):          </th> <td>   0.217</td>\n",
       "</tr>\n",
       "<tr>\n",
       "  <th>Kurtosis:</th>      <td> 3.699</td> <th>  Cond. No.          </th> <td>    41.6</td>\n",
       "</tr>\n",
       "</table>"
      ],
      "text/plain": [
       "<class 'statsmodels.iolib.summary.Summary'>\n",
       "\"\"\"\n",
       "                            OLS Regression Results                            \n",
       "==============================================================================\n",
       "Dep. Variable:                      y   R-squared:                       0.609\n",
       "Model:                            OLS   Adj. R-squared:                  0.598\n",
       "Method:                 Least Squares   F-statistic:                     56.48\n",
       "Date:                Sun, 03 Jun 2018   Prob (F-statistic):           1.21e-28\n",
       "Time:                        15:25:10   Log-Likelihood:                 254.13\n",
       "No. Observations:                 150   AIC:                            -498.3\n",
       "Df Residuals:                     145   BIC:                            -483.2\n",
       "Df Model:                           4                                         \n",
       "Covariance Type:            nonrobust                                         \n",
       "==============================================================================\n",
       "                 coef    std err          t      P>|t|      [95.0% Conf. Int.]\n",
       "------------------------------------------------------------------------------\n",
       "const         -0.0257      0.009     -2.906      0.004        -0.043    -0.008\n",
       "3P             0.0196      0.008      2.594      0.010         0.005     0.034\n",
       "AST            0.0154      0.002      6.907      0.000         0.011     0.020\n",
       "ORB            0.0358      0.014      2.575      0.011         0.008     0.063\n",
       "BLK            0.1266      0.033      3.830      0.000         0.061     0.192\n",
       "==============================================================================\n",
       "Omnibus:                        2.905   Durbin-Watson:                   1.910\n",
       "Prob(Omnibus):                  0.234   Jarque-Bera (JB):                3.059\n",
       "Skew:                           0.015   Prob(JB):                        0.217\n",
       "Kurtosis:                       3.699   Cond. No.                         41.6\n",
       "==============================================================================\n",
       "\n",
       "Warnings:\n",
       "[1] Standard Errors assume that the covariance matrix of the errors is correctly specified.\n",
       "\"\"\""
      ]
     },
     "execution_count": 146,
     "metadata": {},
     "output_type": "execute_result"
    }
   ],
   "source": [
    "import statsmodels.api as sm\n",
    "\n",
    "target = pd.DataFrame(df_pointguard_averages['Salary%'])\n",
    "pg_independent_vars = df_pointguard_averages.loc[:,['3P','AST','ORB','BLK']]\n",
    "pg_independent_vars.astype(float)\n",
    "pg_independent_vars.dropna(inplace=True)\n",
    "pg_independent_vars.describe()\n",
    "\n",
    "pg_independent_vars = sm.add_constant(pg_independent_vars)\n",
    "pg_model = sm.OLS(list(target['Salary%'].astype(float)),pg_independent_vars.astype(float)).fit()\n",
    "\n",
    "pg_model.summary()"
   ]
  },
  {
   "cell_type": "code",
   "execution_count": 136,
   "metadata": {
    "collapsed": false
   },
   "outputs": [
    {
     "data": {
      "image/png": "[encoded data removed]",
      "text/plain": [
       "<matplotlib.figure.Figure at 0x2445739e470>"
      ]
     },
     "metadata": {},
     "output_type": "display_data"
    }
   ],
   "source": [
    "f, ax = plt.subplots(figsize=(6, 6))\n",
    "\n",
    "plt.scatter(target, pg_model.predict(), color=\"g\", label=\"Linear\")\n",
    "\n",
    "ax.plot([0, 0.5], [0, 0.5], ls=\"--\", c=\".3\")\n",
    "ax.set(xlim=(0,0.5), ylim=(0,0.5))\n",
    "plt.show()"
   ]
  },
  {
   "cell_type": "markdown",
   "metadata": {},
   "source": [
    "### Big Man Specific Sub-model"
   ]
  },
  {
   "cell_type": "code",
   "execution_count": 173,
   "metadata": {
    "collapsed": false
   },
   "outputs": [
    {
     "data": {
      "text/html": [
       "<table class=\"simpletable\">\n",
       "<caption>OLS Regression Results</caption>\n",
       "<tr>\n",
       "  <th>Dep. Variable:</th>            <td>y</td>        <th>  R-squared:         </th> <td>   0.606</td>\n",
       "</tr>\n",
       "<tr>\n",
       "  <th>Model:</th>                   <td>OLS</td>       <th>  Adj. R-squared:    </th> <td>   0.600</td>\n",
       "</tr>\n",
       "<tr>\n",
       "  <th>Method:</th>             <td>Least Squares</td>  <th>  F-statistic:       </th> <td>   98.91</td>\n",
       "</tr>\n",
       "<tr>\n",
       "  <th>Date:</th>             <td>Sun, 03 Jun 2018</td> <th>  Prob (F-statistic):</th> <td>6.35e-63</td>\n",
       "</tr>\n",
       "<tr>\n",
       "  <th>Time:</th>                 <td>15:56:25</td>     <th>  Log-Likelihood:    </th> <td>  519.88</td>\n",
       "</tr>\n",
       "<tr>\n",
       "  <th>No. Observations:</th>      <td>   328</td>      <th>  AIC:               </th> <td>  -1028.</td>\n",
       "</tr>\n",
       "<tr>\n",
       "  <th>Df Residuals:</th>          <td>   322</td>      <th>  BIC:               </th> <td>  -1005.</td>\n",
       "</tr>\n",
       "<tr>\n",
       "  <th>Df Model:</th>              <td>     5</td>      <th>                     </th>     <td> </td>   \n",
       "</tr>\n",
       "<tr>\n",
       "  <th>Covariance Type:</th>      <td>nonrobust</td>    <th>                     </th>     <td> </td>   \n",
       "</tr>\n",
       "</table>\n",
       "<table class=\"simpletable\">\n",
       "<tr>\n",
       "    <td></td>       <th>coef</th>     <th>std err</th>      <th>t</th>      <th>P>|t|</th> <th>[95.0% Conf. Int.]</th> \n",
       "</tr>\n",
       "<tr>\n",
       "  <th>const</th> <td>   -0.0374</td> <td>    0.007</td> <td>   -5.268</td> <td> 0.000</td> <td>   -0.051    -0.023</td>\n",
       "</tr>\n",
       "<tr>\n",
       "  <th>3P</th>    <td>    0.0191</td> <td>    0.011</td> <td>    1.680</td> <td> 0.094</td> <td>   -0.003     0.042</td>\n",
       "</tr>\n",
       "<tr>\n",
       "  <th>AST</th>   <td>    0.0113</td> <td>    0.007</td> <td>    1.599</td> <td> 0.111</td> <td>   -0.003     0.025</td>\n",
       "</tr>\n",
       "<tr>\n",
       "  <th>ORB</th>   <td>    0.0228</td> <td>    0.005</td> <td>    4.287</td> <td> 0.000</td> <td>    0.012     0.033</td>\n",
       "</tr>\n",
       "<tr>\n",
       "  <th>BLK</th>   <td>    0.0279</td> <td>    0.006</td> <td>    4.904</td> <td> 0.000</td> <td>    0.017     0.039</td>\n",
       "</tr>\n",
       "<tr>\n",
       "  <th>TOV</th>   <td>    0.0460</td> <td>    0.009</td> <td>    5.054</td> <td> 0.000</td> <td>    0.028     0.064</td>\n",
       "</tr>\n",
       "</table>\n",
       "<table class=\"simpletable\">\n",
       "<tr>\n",
       "  <th>Omnibus:</th>       <td>19.392</td> <th>  Durbin-Watson:     </th> <td>   1.968</td>\n",
       "</tr>\n",
       "<tr>\n",
       "  <th>Prob(Omnibus):</th> <td> 0.000</td> <th>  Jarque-Bera (JB):  </th> <td>  47.590</td>\n",
       "</tr>\n",
       "<tr>\n",
       "  <th>Skew:</th>          <td> 0.218</td> <th>  Prob(JB):          </th> <td>4.63e-11</td>\n",
       "</tr>\n",
       "<tr>\n",
       "  <th>Kurtosis:</th>      <td> 4.814</td> <th>  Cond. No.          </th> <td>    12.6</td>\n",
       "</tr>\n",
       "</table>"
      ],
      "text/plain": [
       "<class 'statsmodels.iolib.summary.Summary'>\n",
       "\"\"\"\n",
       "                            OLS Regression Results                            \n",
       "==============================================================================\n",
       "Dep. Variable:                      y   R-squared:                       0.606\n",
       "Model:                            OLS   Adj. R-squared:                  0.600\n",
       "Method:                 Least Squares   F-statistic:                     98.91\n",
       "Date:                Sun, 03 Jun 2018   Prob (F-statistic):           6.35e-63\n",
       "Time:                        15:56:25   Log-Likelihood:                 519.88\n",
       "No. Observations:                 328   AIC:                            -1028.\n",
       "Df Residuals:                     322   BIC:                            -1005.\n",
       "Df Model:                           5                                         \n",
       "Covariance Type:            nonrobust                                         \n",
       "==============================================================================\n",
       "                 coef    std err          t      P>|t|      [95.0% Conf. Int.]\n",
       "------------------------------------------------------------------------------\n",
       "const         -0.0374      0.007     -5.268      0.000        -0.051    -0.023\n",
       "3P             0.0191      0.011      1.680      0.094        -0.003     0.042\n",
       "AST            0.0113      0.007      1.599      0.111        -0.003     0.025\n",
       "ORB            0.0228      0.005      4.287      0.000         0.012     0.033\n",
       "BLK            0.0279      0.006      4.904      0.000         0.017     0.039\n",
       "TOV            0.0460      0.009      5.054      0.000         0.028     0.064\n",
       "==============================================================================\n",
       "Omnibus:                       19.392   Durbin-Watson:                   1.968\n",
       "Prob(Omnibus):                  0.000   Jarque-Bera (JB):               47.590\n",
       "Skew:                           0.218   Prob(JB):                     4.63e-11\n",
       "Kurtosis:                       4.814   Cond. No.                         12.6\n",
       "==============================================================================\n",
       "\n",
       "Warnings:\n",
       "[1] Standard Errors assume that the covariance matrix of the errors is correctly specified.\n",
       "\"\"\""
      ]
     },
     "execution_count": 173,
     "metadata": {},
     "output_type": "execute_result"
    }
   ],
   "source": [
    "import statsmodels.api as sm\n",
    "\n",
    "target = pd.DataFrame(df_big_men_averages['Salary%'])\n",
    "bm_independent_vars = df_big_men_averages.loc[:,['3P','AST','ORB','BLK','TOV']]\n",
    "bm_independent_vars.astype(float)\n",
    "bm_independent_vars.dropna(inplace=True)\n",
    "bm_independent_vars.describe()\n",
    "\n",
    "bm_independent_vars = sm.add_constant(bm_independent_vars)\n",
    "big_man_model = sm.OLS(list(target['Salary%'].astype(float)),bm_independent_vars.astype(float)).fit()\n",
    "\n",
    "big_man_model.summary()"
   ]
  },
  {
   "cell_type": "code",
   "execution_count": 142,
   "metadata": {
    "collapsed": false
   },
   "outputs": [
    {
     "data": {
      "image/png": "[encoded data removed]",
      "text/plain": [
       "<matplotlib.figure.Figure at 0x244572b7e10>"
      ]
     },
     "metadata": {},
     "output_type": "display_data"
    }
   ],
   "source": [
    "f, ax = plt.subplots(figsize=(6, 6))\n",
    "\n",
    "plt.scatter(target, big_man_model.predict(), color=\"g\", label=\"Linear\")\n",
    "\n",
    "ax.plot([0, 0.5], [0, 0.5], ls=\"--\", c=\".3\")\n",
    "ax.set(xlim=(0,0.5), ylim=(0,0.5))\n",
    "plt.show()"
   ]
  },
  {
   "cell_type": "markdown",
   "metadata": {},
   "source": [
    "### Wing Specific Sub-model"
   ]
  },
  {
   "cell_type": "code",
   "execution_count": 171,
   "metadata": {
    "collapsed": false
   },
   "outputs": [
    {
     "data": {
      "text/html": [
       "<table class=\"simpletable\">\n",
       "<caption>OLS Regression Results</caption>\n",
       "<tr>\n",
       "  <th>Dep. Variable:</th>            <td>y</td>        <th>  R-squared:         </th> <td>   0.790</td>\n",
       "</tr>\n",
       "<tr>\n",
       "  <th>Model:</th>                   <td>OLS</td>       <th>  Adj. R-squared:    </th> <td>   0.787</td>\n",
       "</tr>\n",
       "<tr>\n",
       "  <th>Method:</th>             <td>Least Squares</td>  <th>  F-statistic:       </th> <td>   265.0</td>\n",
       "</tr>\n",
       "<tr>\n",
       "  <th>Date:</th>             <td>Sun, 03 Jun 2018</td> <th>  Prob (F-statistic):</th> <td>3.29e-94</td>\n",
       "</tr>\n",
       "<tr>\n",
       "  <th>Time:</th>                 <td>15:56:01</td>     <th>  Log-Likelihood:    </th> <td>  433.27</td>\n",
       "</tr>\n",
       "<tr>\n",
       "  <th>No. Observations:</th>      <td>   286</td>      <th>  AIC:               </th> <td>  -858.5</td>\n",
       "</tr>\n",
       "<tr>\n",
       "  <th>Df Residuals:</th>          <td>   282</td>      <th>  BIC:               </th> <td>  -843.9</td>\n",
       "</tr>\n",
       "<tr>\n",
       "  <th>Df Model:</th>              <td>     4</td>      <th>                     </th>     <td> </td>   \n",
       "</tr>\n",
       "<tr>\n",
       "  <th>Covariance Type:</th>      <td>nonrobust</td>    <th>                     </th>     <td> </td>   \n",
       "</tr>\n",
       "</table>\n",
       "<table class=\"simpletable\">\n",
       "<tr>\n",
       "   <td></td>      <th>coef</th>     <th>std err</th>      <th>t</th>      <th>P>|t|</th> <th>[95.0% Conf. Int.]</th> \n",
       "</tr>\n",
       "<tr>\n",
       "  <th>3P</th>  <td>    0.0272</td> <td>    0.006</td> <td>    4.747</td> <td> 0.000</td> <td>    0.016     0.038</td>\n",
       "</tr>\n",
       "<tr>\n",
       "  <th>AST</th> <td>    0.0178</td> <td>    0.003</td> <td>    6.075</td> <td> 0.000</td> <td>    0.012     0.024</td>\n",
       "</tr>\n",
       "<tr>\n",
       "  <th>ORB</th> <td>    0.0300</td> <td>    0.006</td> <td>    4.759</td> <td> 0.000</td> <td>    0.018     0.042</td>\n",
       "</tr>\n",
       "<tr>\n",
       "  <th>BLK</th> <td>    0.0419</td> <td>    0.012</td> <td>    3.477</td> <td> 0.001</td> <td>    0.018     0.066</td>\n",
       "</tr>\n",
       "</table>\n",
       "<table class=\"simpletable\">\n",
       "<tr>\n",
       "  <th>Omnibus:</th>       <td>65.009</td> <th>  Durbin-Watson:     </th> <td>   1.887</td>\n",
       "</tr>\n",
       "<tr>\n",
       "  <th>Prob(Omnibus):</th> <td> 0.000</td> <th>  Jarque-Bera (JB):  </th> <td> 152.467</td>\n",
       "</tr>\n",
       "<tr>\n",
       "  <th>Skew:</th>          <td> 1.087</td> <th>  Prob(JB):          </th> <td>7.80e-34</td>\n",
       "</tr>\n",
       "<tr>\n",
       "  <th>Kurtosis:</th>      <td> 5.841</td> <th>  Cond. No.          </th> <td>    9.95</td>\n",
       "</tr>\n",
       "</table>"
      ],
      "text/plain": [
       "<class 'statsmodels.iolib.summary.Summary'>\n",
       "\"\"\"\n",
       "                            OLS Regression Results                            \n",
       "==============================================================================\n",
       "Dep. Variable:                      y   R-squared:                       0.790\n",
       "Model:                            OLS   Adj. R-squared:                  0.787\n",
       "Method:                 Least Squares   F-statistic:                     265.0\n",
       "Date:                Sun, 03 Jun 2018   Prob (F-statistic):           3.29e-94\n",
       "Time:                        15:56:01   Log-Likelihood:                 433.27\n",
       "No. Observations:                 286   AIC:                            -858.5\n",
       "Df Residuals:                     282   BIC:                            -843.9\n",
       "Df Model:                           4                                         \n",
       "Covariance Type:            nonrobust                                         \n",
       "==============================================================================\n",
       "                 coef    std err          t      P>|t|      [95.0% Conf. Int.]\n",
       "------------------------------------------------------------------------------\n",
       "3P             0.0272      0.006      4.747      0.000         0.016     0.038\n",
       "AST            0.0178      0.003      6.075      0.000         0.012     0.024\n",
       "ORB            0.0300      0.006      4.759      0.000         0.018     0.042\n",
       "BLK            0.0419      0.012      3.477      0.001         0.018     0.066\n",
       "==============================================================================\n",
       "Omnibus:                       65.009   Durbin-Watson:                   1.887\n",
       "Prob(Omnibus):                  0.000   Jarque-Bera (JB):              152.467\n",
       "Skew:                           1.087   Prob(JB):                     7.80e-34\n",
       "Kurtosis:                       5.841   Cond. No.                         9.95\n",
       "==============================================================================\n",
       "\n",
       "Warnings:\n",
       "[1] Standard Errors assume that the covariance matrix of the errors is correctly specified.\n",
       "\"\"\""
      ]
     },
     "execution_count": 171,
     "metadata": {},
     "output_type": "execute_result"
    }
   ],
   "source": [
    "import statsmodels.api as sm\n",
    "\n",
    "target = pd.DataFrame(df_wings_averages['Salary%'])\n",
    "wing_independent_vars = df_wings_averages.loc[:,['3P','AST','ORB','BLK']]\n",
    "wing_independent_vars.astype(float)\n",
    "wing_independent_vars.dropna(inplace=True)\n",
    "wing_independent_vars.describe()\n",
    "\n",
    "wing_wing_independent_vars = sm.add_constant(wing_independent_vars)\n",
    "wing_model = sm.OLS(list(target['Salary%'].astype(float)),wing_independent_vars.astype(float)).fit()\n",
    "\n",
    "wing_model.summary()"
   ]
  },
  {
   "cell_type": "code",
   "execution_count": 140,
   "metadata": {
    "collapsed": false
   },
   "outputs": [
    {
     "data": {
      "image/png": "[encoded data removed]",
      "text/plain": [
       "<matplotlib.figure.Figure at 0x24457458ac8>"
      ]
     },
     "metadata": {},
     "output_type": "display_data"
    }
   ],
   "source": [
    "f, ax = plt.subplots(figsize=(6, 6))\n",
    "\n",
    "plt.scatter(target, wing_model.predict(), color=\"g\", label=\"Linear\")\n",
    "\n",
    "ax.plot([0, 0.5], [0, 0.5], ls=\"--\", c=\".3\")\n",
    "ax.set(xlim=(0,0.5), ylim=(0,0.5))\n",
    "plt.show()"
   ]
  },
  {
   "cell_type": "markdown",
   "metadata": {},
   "source": [
    "### General Sub Model\n",
    "This is the part of the ensemble model that is not position specific.  It does not use variables used by the position specific sub models."
   ]
  },
  {
   "cell_type": "code",
   "execution_count": 180,
   "metadata": {
    "collapsed": false
   },
   "outputs": [
    {
     "data": {
      "text/html": [
       "<table class=\"simpletable\">\n",
       "<caption>OLS Regression Results</caption>\n",
       "<tr>\n",
       "  <th>Dep. Variable:</th>            <td>y</td>        <th>  R-squared:         </th> <td>   0.629</td> \n",
       "</tr>\n",
       "<tr>\n",
       "  <th>Model:</th>                   <td>OLS</td>       <th>  Adj. R-squared:    </th> <td>   0.627</td> \n",
       "</tr>\n",
       "<tr>\n",
       "  <th>Method:</th>             <td>Least Squares</td>  <th>  F-statistic:       </th> <td>   430.3</td> \n",
       "</tr>\n",
       "<tr>\n",
       "  <th>Date:</th>             <td>Sun, 03 Jun 2018</td> <th>  Prob (F-statistic):</th> <td>1.78e-163</td>\n",
       "</tr>\n",
       "<tr>\n",
       "  <th>Time:</th>                 <td>16:02:15</td>     <th>  Log-Likelihood:    </th> <td>  1268.5</td> \n",
       "</tr>\n",
       "<tr>\n",
       "  <th>No. Observations:</th>      <td>   766</td>      <th>  AIC:               </th> <td>  -2529.</td> \n",
       "</tr>\n",
       "<tr>\n",
       "  <th>Df Residuals:</th>          <td>   762</td>      <th>  BIC:               </th> <td>  -2510.</td> \n",
       "</tr>\n",
       "<tr>\n",
       "  <th>Df Model:</th>              <td>     3</td>      <th>                     </th>     <td> </td>    \n",
       "</tr>\n",
       "<tr>\n",
       "  <th>Covariance Type:</th>      <td>nonrobust</td>    <th>                     </th>     <td> </td>    \n",
       "</tr>\n",
       "</table>\n",
       "<table class=\"simpletable\">\n",
       "<tr>\n",
       "    <td></td>       <th>coef</th>     <th>std err</th>      <th>t</th>      <th>P>|t|</th> <th>[95.0% Conf. Int.]</th> \n",
       "</tr>\n",
       "<tr>\n",
       "  <th>const</th> <td>    0.0988</td> <td>    0.026</td> <td>    3.852</td> <td> 0.000</td> <td>    0.048     0.149</td>\n",
       "</tr>\n",
       "<tr>\n",
       "  <th>PTS</th>   <td>    0.0078</td> <td>    0.000</td> <td>   17.785</td> <td> 0.000</td> <td>    0.007     0.009</td>\n",
       "</tr>\n",
       "<tr>\n",
       "  <th>DWS</th>   <td>    0.0281</td> <td>    0.002</td> <td>   13.199</td> <td> 0.000</td> <td>    0.024     0.032</td>\n",
       "</tr>\n",
       "<tr>\n",
       "  <th>Age</th>   <td>   -0.0052</td> <td>    0.001</td> <td>   -4.768</td> <td> 0.000</td> <td>   -0.007    -0.003</td>\n",
       "</tr>\n",
       "</table>\n",
       "<table class=\"simpletable\">\n",
       "<tr>\n",
       "  <th>Omnibus:</th>       <td>71.541</td> <th>  Durbin-Watson:     </th> <td>   1.828</td>\n",
       "</tr>\n",
       "<tr>\n",
       "  <th>Prob(Omnibus):</th> <td> 0.000</td> <th>  Jarque-Bera (JB):  </th> <td> 190.567</td>\n",
       "</tr>\n",
       "<tr>\n",
       "  <th>Skew:</th>          <td> 0.483</td> <th>  Prob(JB):          </th> <td>4.16e-42</td>\n",
       "</tr>\n",
       "<tr>\n",
       "  <th>Kurtosis:</th>      <td> 5.244</td> <th>  Cond. No.          </th> <td>    378.</td>\n",
       "</tr>\n",
       "</table>"
      ],
      "text/plain": [
       "<class 'statsmodels.iolib.summary.Summary'>\n",
       "\"\"\"\n",
       "                            OLS Regression Results                            \n",
       "==============================================================================\n",
       "Dep. Variable:                      y   R-squared:                       0.629\n",
       "Model:                            OLS   Adj. R-squared:                  0.627\n",
       "Method:                 Least Squares   F-statistic:                     430.3\n",
       "Date:                Sun, 03 Jun 2018   Prob (F-statistic):          1.78e-163\n",
       "Time:                        16:02:15   Log-Likelihood:                 1268.5\n",
       "No. Observations:                 766   AIC:                            -2529.\n",
       "Df Residuals:                     762   BIC:                            -2510.\n",
       "Df Model:                           3                                         \n",
       "Covariance Type:            nonrobust                                         \n",
       "==============================================================================\n",
       "                 coef    std err          t      P>|t|      [95.0% Conf. Int.]\n",
       "------------------------------------------------------------------------------\n",
       "const          0.0988      0.026      3.852      0.000         0.048     0.149\n",
       "PTS            0.0078      0.000     17.785      0.000         0.007     0.009\n",
       "DWS            0.0281      0.002     13.199      0.000         0.024     0.032\n",
       "Age           -0.0052      0.001     -4.768      0.000        -0.007    -0.003\n",
       "==============================================================================\n",
       "Omnibus:                       71.541   Durbin-Watson:                   1.828\n",
       "Prob(Omnibus):                  0.000   Jarque-Bera (JB):              190.567\n",
       "Skew:                           0.483   Prob(JB):                     4.16e-42\n",
       "Kurtosis:                       5.244   Cond. No.                         378.\n",
       "==============================================================================\n",
       "\n",
       "Warnings:\n",
       "[1] Standard Errors assume that the covariance matrix of the errors is correctly specified.\n",
       "\"\"\""
      ]
     },
     "execution_count": 180,
     "metadata": {},
     "output_type": "execute_result"
    }
   ],
   "source": [
    "import statsmodels.api as sm\n",
    "\n",
    "target = pd.DataFrame(df_rookie_averages['Salary%'])\n",
    "independent_vars = df_rookie_averages.loc[:,['PTS','DWS','Age']]\n",
    "independent_vars.astype(float)\n",
    "independent_vars.dropna(inplace=True)\n",
    "independent_vars.describe()\n",
    "\n",
    "independent_vars = sm.add_constant(independent_vars)\n",
    "gen_model = sm.OLS(list(target['Salary%'].astype(float)),independent_vars.astype(float)).fit()\n",
    "\n",
    "gen_model.summary()"
   ]
  },
  {
   "cell_type": "markdown",
   "metadata": {},
   "source": [
    "#### Create the General components of all the position specific sub-models."
   ]
  },
  {
   "cell_type": "code",
   "execution_count": 199,
   "metadata": {
    "collapsed": false
   },
   "outputs": [],
   "source": [
    "gen_model_pg_independent_vars = independent_vars = df_pointguard_averages.loc[:,['PTS','DWS','Age']]\n",
    "gen_model_pg_independent_vars.astype(float)\n",
    "gen_model_pg_independent_vars.dropna(inplace=True)\n",
    "gen_model_pg_independent_vars = sm.add_constant(gen_model_pg_independent_vars)\n",
    "\n",
    "gen_model_bm_independent_vars = independent_vars = df_big_men_averages.loc[:,['PTS','DWS','Age']]\n",
    "gen_model_bm_independent_vars.astype(float)\n",
    "gen_model_bm_independent_vars.dropna(inplace=True)\n",
    "gen_model_bm_independent_vars = sm.add_constant(gen_model_bm_independent_vars)\n",
    "\n",
    "gen_model_wing_independent_vars = independent_vars = df_wings_averages.loc[:,['PTS','DWS','Age']]\n",
    "gen_model_wing_independent_vars.astype(float)\n",
    "gen_model_wing_independent_vars.dropna(inplace=True)\n",
    "gen_model_wing_independent_vars = sm.add_constant(gen_model_wing_independent_vars)"
   ]
  },
  {
   "cell_type": "markdown",
   "metadata": {},
   "source": [
    "#### Find weights for the general vs. position specific sub-models.\n",
    "For each value of p, weight the general model and the position specific sub-models\n",
    "From this weighted value, compute the root mean squared error against the actual data points\n",
    "Calculate the average root mean squared error from all 3 position specific models."
   ]
  },
  {
   "cell_type": "code",
   "execution_count": 209,
   "metadata": {
    "collapsed": false
   },
   "outputs": [
    {
     "name": "stdout",
     "output_type": "stream",
     "text": [
      "Pos specific weight 0.1 0.0448295731835\n",
      "Pos specific weight 0.2 0.0446004486902\n",
      "Pos specific weight 0.3 0.0445527249397\n",
      "Pos specific weight 0.4 0.0446869653001\n",
      "Pos specific weight 0.5 0.0450014519538\n",
      "Pos specific weight 0.6 0.04549229404\n",
      "Pos specific weight 0.7 0.0461536647384\n",
      "Pos specific weight 0.8 0.0469781343676\n",
      "Pos specific weight 0.9 0.0479570571575\n"
     ]
    }
   ],
   "source": [
    "for i in range (1,10):\n",
    "    p=i/10\n",
    "    pg_model_avg = p * pg_model.predict(pg_independent_vars) + (1-p) * gen_model.predict(gen_model_pg_independent_vars)\n",
    "    weight_pg_rmse = np.mean(((pg_model_avg - df_pointguard_averages['Salary%'])**2))**0.5\n",
    "    #print(weight_pg_rmse)\n",
    "    \n",
    "    bm_model_avg = p * big_man_model.predict(bm_independent_vars) + (1-p) * gen_model.predict(gen_model_bm_independent_vars)\n",
    "    weight_bm_rmse = np.mean(((bm_model_avg - df_big_men_averages['Salary%'])**2))**0.5\n",
    "    #print(weight_bm_rmse)\n",
    "    \n",
    "    wing_model_avg = p * wing_model.predict(wing_independent_vars) + (1-p) * gen_model.predict(gen_model_wing_independent_vars)\n",
    "    weight_wing_rmse = np.mean(((wing_model_avg - df_wings_averages['Salary%'])**2))**0.5\n",
    "    #print(weight_wing_rmse)\n",
    "    \n",
    "    overall_rmse = (weight_pg_rmse + weight_bm_rmse + weight_wing_rmse) / 3\n",
    "    \n",
    "    print('Pos specific weight', p , overall_rmse)"
   ]
  },
  {
   "cell_type": "code",
   "execution_count": 201,
   "metadata": {
    "collapsed": false
   },
   "outputs": [
    {
     "name": "stdout",
     "output_type": "stream",
     "text": [
      "0.296515359263\n",
      "0.250898011106\n",
      "0.280937283497\n"
     ]
    }
   ],
   "source": [
    "pg_ssr = sum(((pg_model.predict(pg_independent_vars) - df_pointguard_averages['Salary%'])**2))\n",
    "print(pg_ssr)\n",
    "\n",
    "gen_pg_ssr = sum(((gen_model.predict(gen_model_pg_independent_vars) - df_pointguard_averages['Salary%'])**2))\n",
    "print(gen_pg_ssr)\n",
    "\n",
    "weight_pg_ssr = sum(((model_avg - df_pointguard_averages['Salary%'])**2))\n",
    "print(weight_pg_ssr)"
   ]
  },
  {
   "cell_type": "code",
   "execution_count": 185,
   "metadata": {
    "collapsed": false
   },
   "outputs": [
    {
     "data": {
      "image/png": "[encoded data removed]",
      "text/plain": [
       "<matplotlib.figure.Figure at 0x24456d66828>"
      ]
     },
     "metadata": {},
     "output_type": "display_data"
    }
   ],
   "source": [
    "f, axarr = plt.subplots(2, 2)\n",
    "\n",
    "axarr[0,0].scatter(df_pointguard_averages['Salary%'],pg_model.predict(pg_independent_vars),label='linear')\n",
    "axarr[0,0].set_title('PG Specific Model')\n",
    "axarr[0,1].scatter(df_pointguard_averages['Salary%'],gen_model.predict(gen_model_pg_independent_vars),label='linear')\n",
    "axarr[0,1].set_title('Generic Model')\n",
    "axarr[1,1].scatter(df_pointguard_averages['Salary%'],model_avg,label='linear')\n",
    "axarr[1,1].set_title('Weighted Model')\n",
    "plt.show()"
   ]
  },
  {
   "cell_type": "code",
   "execution_count": null,
   "metadata": {
    "collapsed": true
   },
   "outputs": [],
   "source": []
  }
 ],
 "metadata": {
  "kernelspec": {
   "display_name": "Python 3",
   "language": "python",
   "name": "python3"
  },
  "language_info": {
   "codemirror_mode": {
    "name": "ipython",
    "version": 3
   },
   "file_extension": ".py",
   "mimetype": "text/x-python",
   "name": "python",
   "nbconvert_exporter": "python",
   "pygments_lexer": "ipython3",
   "version": "3.6.0"
  }
 },
 "nbformat": 4,
 "nbformat_minor": 2
}
